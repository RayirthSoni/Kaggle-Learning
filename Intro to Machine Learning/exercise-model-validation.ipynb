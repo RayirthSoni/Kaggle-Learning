{
 "cells": [
  {
   "cell_type": "markdown",
   "id": "30545436",
   "metadata": {
    "papermill": {
     "duration": 0.005034,
     "end_time": "2024-03-01T16:56:21.116076",
     "exception": false,
     "start_time": "2024-03-01T16:56:21.111042",
     "status": "completed"
    },
    "tags": []
   },
   "source": [
    "**This notebook is an exercise in the [Introduction to Machine Learning](https://www.kaggle.com/learn/intro-to-machine-learning) course.  You can reference the tutorial at [this link](https://www.kaggle.com/dansbecker/model-validation).**\n",
    "\n",
    "---\n"
   ]
  },
  {
   "cell_type": "markdown",
   "id": "067df0eb",
   "metadata": {
    "papermill": {
     "duration": 0.004321,
     "end_time": "2024-03-01T16:56:21.125402",
     "exception": false,
     "start_time": "2024-03-01T16:56:21.121081",
     "status": "completed"
    },
    "tags": []
   },
   "source": [
    "## Recap\n",
    "You've built a model. In this exercise you will test how good your model is.\n",
    "\n",
    "Run the cell below to set up your coding environment where the previous exercise left off."
   ]
  },
  {
   "cell_type": "code",
   "execution_count": 1,
   "id": "7b5d9c47",
   "metadata": {
    "execution": {
     "iopub.execute_input": "2024-03-01T16:56:21.137175Z",
     "iopub.status.busy": "2024-03-01T16:56:21.136522Z",
     "iopub.status.idle": "2024-03-01T16:56:23.887742Z",
     "shell.execute_reply": "2024-03-01T16:56:23.885730Z"
    },
    "papermill": {
     "duration": 2.76028,
     "end_time": "2024-03-01T16:56:23.890302",
     "exception": false,
     "start_time": "2024-03-01T16:56:21.130022",
     "status": "completed"
    },
    "tags": []
   },
   "outputs": [
    {
     "name": "stdout",
     "output_type": "stream",
     "text": [
      "First in-sample predictions: [208500. 181500. 223500. 140000. 250000.]\n",
      "Actual target values for those homes: [208500, 181500, 223500, 140000, 250000]\n",
      "Setup Complete\n"
     ]
    }
   ],
   "source": [
    "# Code you have previously used to load data\n",
    "import pandas as pd\n",
    "from sklearn.tree import DecisionTreeRegressor\n",
    "\n",
    "# Path of the file to read\n",
    "iowa_file_path = '../input/home-data-for-ml-course/train.csv'\n",
    "\n",
    "home_data = pd.read_csv(iowa_file_path)\n",
    "y = home_data.SalePrice\n",
    "feature_columns = ['LotArea', 'YearBuilt', '1stFlrSF', '2ndFlrSF', 'FullBath', 'BedroomAbvGr', 'TotRmsAbvGrd']\n",
    "X = home_data[feature_columns]\n",
    "\n",
    "# Specify Model\n",
    "iowa_model = DecisionTreeRegressor()\n",
    "# Fit Model\n",
    "iowa_model.fit(X, y)\n",
    "\n",
    "print(\"First in-sample predictions:\", iowa_model.predict(X.head()))\n",
    "print(\"Actual target values for those homes:\", y.head().tolist())\n",
    "\n",
    "# Set up code checking\n",
    "from learntools.core import binder\n",
    "binder.bind(globals())\n",
    "from learntools.machine_learning.ex4 import *\n",
    "print(\"Setup Complete\")"
   ]
  },
  {
   "cell_type": "markdown",
   "id": "d677da18",
   "metadata": {
    "papermill": {
     "duration": 0.004523,
     "end_time": "2024-03-01T16:56:23.899717",
     "exception": false,
     "start_time": "2024-03-01T16:56:23.895194",
     "status": "completed"
    },
    "tags": []
   },
   "source": [
    "# Exercises\n",
    "\n",
    "## Step 1: Split Your Data\n",
    "Use the `train_test_split` function to split up your data.\n",
    "\n",
    "Give it the argument `random_state=1` so the `check` functions know what to expect when verifying your code.\n",
    "\n",
    "Recall, your features are loaded in the DataFrame **X** and your target is loaded in **y**.\n"
   ]
  },
  {
   "cell_type": "code",
   "execution_count": 2,
   "id": "a56ef5f0",
   "metadata": {
    "execution": {
     "iopub.execute_input": "2024-03-01T16:56:23.911936Z",
     "iopub.status.busy": "2024-03-01T16:56:23.910698Z",
     "iopub.status.idle": "2024-03-01T16:56:23.927833Z",
     "shell.execute_reply": "2024-03-01T16:56:23.926947Z"
    },
    "papermill": {
     "duration": 0.025359,
     "end_time": "2024-03-01T16:56:23.929888",
     "exception": false,
     "start_time": "2024-03-01T16:56:23.904529",
     "status": "completed"
    },
    "tags": []
   },
   "outputs": [
    {
     "data": {
      "application/javascript": [
       "parent.postMessage({\"jupyterEvent\": \"custom.exercise_interaction\", \"data\": {\"outcomeType\": 1, \"valueTowardsCompletion\": 0.25, \"interactionType\": 1, \"questionType\": 2, \"questionId\": \"1_SplitData\", \"learnToolsVersion\": \"0.3.4\", \"failureMessage\": \"\", \"exceptionClass\": \"\", \"trace\": \"\"}}, \"*\")"
      ],
      "text/plain": [
       "<IPython.core.display.Javascript object>"
      ]
     },
     "metadata": {},
     "output_type": "display_data"
    },
    {
     "data": {
      "text/markdown": [
       "<span style=\"color:#33cc33\">Correct</span>"
      ],
      "text/plain": [
       "Correct"
      ]
     },
     "metadata": {},
     "output_type": "display_data"
    }
   ],
   "source": [
    "# Import the train_test_split function and uncomment\n",
    "from sklearn.model_selection import train_test_split\n",
    "\n",
    "# fill in and uncomment\n",
    "train_X, val_X, train_y, val_y = train_test_split(X,y,random_state=1)\n",
    "\n",
    "# Check your answer\n",
    "step_1.check()"
   ]
  },
  {
   "cell_type": "code",
   "execution_count": 3,
   "id": "1544402e",
   "metadata": {
    "execution": {
     "iopub.execute_input": "2024-03-01T16:56:23.942187Z",
     "iopub.status.busy": "2024-03-01T16:56:23.941271Z",
     "iopub.status.idle": "2024-03-01T16:56:23.946076Z",
     "shell.execute_reply": "2024-03-01T16:56:23.945038Z"
    },
    "papermill": {
     "duration": 0.01361,
     "end_time": "2024-03-01T16:56:23.948547",
     "exception": false,
     "start_time": "2024-03-01T16:56:23.934937",
     "status": "completed"
    },
    "tags": []
   },
   "outputs": [],
   "source": [
    "# The lines below will show you a hint or the solution.\n",
    "# step_1.hint() \n",
    "# step_1.solution()\n"
   ]
  },
  {
   "cell_type": "markdown",
   "id": "835781c4",
   "metadata": {
    "papermill": {
     "duration": 0.004929,
     "end_time": "2024-03-01T16:56:23.958625",
     "exception": false,
     "start_time": "2024-03-01T16:56:23.953696",
     "status": "completed"
    },
    "tags": []
   },
   "source": [
    "## Step 2: Specify and Fit the Model\n",
    "\n",
    "Create a `DecisionTreeRegressor` model and fit it to the relevant data.\n",
    "Set `random_state` to 1 again when creating the model."
   ]
  },
  {
   "cell_type": "code",
   "execution_count": 4,
   "id": "ea1f2f64",
   "metadata": {
    "execution": {
     "iopub.execute_input": "2024-03-01T16:56:23.970798Z",
     "iopub.status.busy": "2024-03-01T16:56:23.970362Z",
     "iopub.status.idle": "2024-03-01T16:56:23.999284Z",
     "shell.execute_reply": "2024-03-01T16:56:23.998002Z"
    },
    "papermill": {
     "duration": 0.037848,
     "end_time": "2024-03-01T16:56:24.001843",
     "exception": false,
     "start_time": "2024-03-01T16:56:23.963995",
     "status": "completed"
    },
    "tags": []
   },
   "outputs": [
    {
     "name": "stdout",
     "output_type": "stream",
     "text": [
      "[186500. 184000. 130000.  92000. 164500. 220000. 335000. 144152. 215000.\n",
      " 262000.]\n",
      "[186500. 184000. 130000.  92000. 164500. 220000. 335000. 144152. 215000.\n",
      " 262000.]\n"
     ]
    },
    {
     "data": {
      "application/javascript": [
       "parent.postMessage({\"jupyterEvent\": \"custom.exercise_interaction\", \"data\": {\"outcomeType\": 1, \"valueTowardsCompletion\": 0.25, \"interactionType\": 1, \"questionType\": 2, \"questionId\": \"2_FitModelWithTrain\", \"learnToolsVersion\": \"0.3.4\", \"failureMessage\": \"\", \"exceptionClass\": \"\", \"trace\": \"\"}}, \"*\")"
      ],
      "text/plain": [
       "<IPython.core.display.Javascript object>"
      ]
     },
     "metadata": {},
     "output_type": "display_data"
    },
    {
     "data": {
      "text/markdown": [
       "<span style=\"color:#33cc33\">Correct</span>"
      ],
      "text/plain": [
       "Correct"
      ]
     },
     "metadata": {},
     "output_type": "display_data"
    }
   ],
   "source": [
    "# You imported DecisionTreeRegressor in your last exercise\n",
    "# and that code has been copied to the setup code above. So, no need to\n",
    "# import it again\n",
    "from sklearn.tree import DecisionTreeRegressor\n",
    "\n",
    "\n",
    "# Specify the model\n",
    "iowa_model = DecisionTreeRegressor(random_state=1)\n",
    "\n",
    "# Fit iowa_model with the training data.\n",
    "iowa_model.fit(train_X,train_y)\n",
    "\n",
    "# Check your answer\n",
    "step_2.check()"
   ]
  },
  {
   "cell_type": "code",
   "execution_count": 5,
   "id": "72d2c6d4",
   "metadata": {
    "execution": {
     "iopub.execute_input": "2024-03-01T16:56:24.015046Z",
     "iopub.status.busy": "2024-03-01T16:56:24.013966Z",
     "iopub.status.idle": "2024-03-01T16:56:24.018177Z",
     "shell.execute_reply": "2024-03-01T16:56:24.017300Z"
    },
    "papermill": {
     "duration": 0.013108,
     "end_time": "2024-03-01T16:56:24.020422",
     "exception": false,
     "start_time": "2024-03-01T16:56:24.007314",
     "status": "completed"
    },
    "tags": []
   },
   "outputs": [],
   "source": [
    "# step_2.hint()\n",
    "# step_2.solution()"
   ]
  },
  {
   "cell_type": "markdown",
   "id": "ec6090e9",
   "metadata": {
    "papermill": {
     "duration": 0.005151,
     "end_time": "2024-03-01T16:56:24.031072",
     "exception": false,
     "start_time": "2024-03-01T16:56:24.025921",
     "status": "completed"
    },
    "tags": []
   },
   "source": [
    "## Step 3: Make Predictions with Validation data\n"
   ]
  },
  {
   "cell_type": "code",
   "execution_count": 6,
   "id": "24aac777",
   "metadata": {
    "execution": {
     "iopub.execute_input": "2024-03-01T16:56:24.044022Z",
     "iopub.status.busy": "2024-03-01T16:56:24.043355Z",
     "iopub.status.idle": "2024-03-01T16:56:24.054556Z",
     "shell.execute_reply": "2024-03-01T16:56:24.053494Z"
    },
    "papermill": {
     "duration": 0.02028,
     "end_time": "2024-03-01T16:56:24.056647",
     "exception": false,
     "start_time": "2024-03-01T16:56:24.036367",
     "status": "completed"
    },
    "tags": []
   },
   "outputs": [
    {
     "data": {
      "application/javascript": [
       "parent.postMessage({\"jupyterEvent\": \"custom.exercise_interaction\", \"data\": {\"outcomeType\": 1, \"valueTowardsCompletion\": 0.25, \"interactionType\": 1, \"questionType\": 2, \"questionId\": \"3_ValPreds\", \"learnToolsVersion\": \"0.3.4\", \"failureMessage\": \"\", \"exceptionClass\": \"\", \"trace\": \"\"}}, \"*\")"
      ],
      "text/plain": [
       "<IPython.core.display.Javascript object>"
      ]
     },
     "metadata": {},
     "output_type": "display_data"
    },
    {
     "data": {
      "text/markdown": [
       "<span style=\"color:#33cc33\">Correct</span>"
      ],
      "text/plain": [
       "Correct"
      ]
     },
     "metadata": {},
     "output_type": "display_data"
    }
   ],
   "source": [
    "# Predict with all validation observations\n",
    "val_predictions = iowa_model.predict(val_X)\n",
    "\n",
    "# Check your answer\n",
    "step_3.check()"
   ]
  },
  {
   "cell_type": "code",
   "execution_count": 7,
   "id": "b6e9d6bd",
   "metadata": {
    "execution": {
     "iopub.execute_input": "2024-03-01T16:56:24.070129Z",
     "iopub.status.busy": "2024-03-01T16:56:24.069190Z",
     "iopub.status.idle": "2024-03-01T16:56:24.074406Z",
     "shell.execute_reply": "2024-03-01T16:56:24.073166Z"
    },
    "papermill": {
     "duration": 0.014492,
     "end_time": "2024-03-01T16:56:24.076767",
     "exception": false,
     "start_time": "2024-03-01T16:56:24.062275",
     "status": "completed"
    },
    "tags": []
   },
   "outputs": [],
   "source": [
    "# step_3.hint()\n",
    "# step_3.solution()"
   ]
  },
  {
   "cell_type": "markdown",
   "id": "5e5b2ffa",
   "metadata": {
    "papermill": {
     "duration": 0.006498,
     "end_time": "2024-03-01T16:56:24.089781",
     "exception": false,
     "start_time": "2024-03-01T16:56:24.083283",
     "status": "completed"
    },
    "tags": []
   },
   "source": [
    "Inspect your predictions and actual values from validation data."
   ]
  },
  {
   "cell_type": "code",
   "execution_count": 8,
   "id": "0982dd6a",
   "metadata": {
    "execution": {
     "iopub.execute_input": "2024-03-01T16:56:24.105762Z",
     "iopub.status.busy": "2024-03-01T16:56:24.104983Z",
     "iopub.status.idle": "2024-03-01T16:56:24.111876Z",
     "shell.execute_reply": "2024-03-01T16:56:24.110369Z"
    },
    "papermill": {
     "duration": 0.018472,
     "end_time": "2024-03-01T16:56:24.114431",
     "exception": false,
     "start_time": "2024-03-01T16:56:24.095959",
     "status": "completed"
    },
    "tags": []
   },
   "outputs": [
    {
     "name": "stdout",
     "output_type": "stream",
     "text": [
      "[186500. 184000. 130000.  92000. 164500.]\n",
      "258     231500\n",
      "267     179500\n",
      "288     122000\n",
      "649      84500\n",
      "1233    142000\n",
      "Name: SalePrice, dtype: int64\n"
     ]
    }
   ],
   "source": [
    "# print the top few validation predictions\n",
    "print(val_predictions[:5])\n",
    "# print the top few actual prices from validation data\n",
    "print(val_y[:5])"
   ]
  },
  {
   "cell_type": "markdown",
   "id": "5dc382e0",
   "metadata": {
    "papermill": {
     "duration": 0.006377,
     "end_time": "2024-03-01T16:56:24.126713",
     "exception": false,
     "start_time": "2024-03-01T16:56:24.120336",
     "status": "completed"
    },
    "tags": []
   },
   "source": [
    "What do you notice that is different from what you saw with in-sample predictions (which are printed after the top code cell in this page).\n",
    "\n",
    "Do you remember why validation predictions differ from in-sample (or training) predictions? This is an important idea from the last lesson.\n",
    "\n",
    "## Step 4: Calculate the Mean Absolute Error in Validation Data\n"
   ]
  },
  {
   "cell_type": "code",
   "execution_count": 9,
   "id": "1da493eb",
   "metadata": {
    "execution": {
     "iopub.execute_input": "2024-03-01T16:56:24.140948Z",
     "iopub.status.busy": "2024-03-01T16:56:24.140543Z",
     "iopub.status.idle": "2024-03-01T16:56:24.151077Z",
     "shell.execute_reply": "2024-03-01T16:56:24.150009Z"
    },
    "papermill": {
     "duration": 0.020159,
     "end_time": "2024-03-01T16:56:24.153091",
     "exception": false,
     "start_time": "2024-03-01T16:56:24.132932",
     "status": "completed"
    },
    "tags": []
   },
   "outputs": [
    {
     "name": "stdout",
     "output_type": "stream",
     "text": [
      "29652.931506849316\n"
     ]
    },
    {
     "data": {
      "application/javascript": [
       "parent.postMessage({\"jupyterEvent\": \"custom.exercise_interaction\", \"data\": {\"outcomeType\": 1, \"valueTowardsCompletion\": 0.25, \"interactionType\": 1, \"questionType\": 1, \"questionId\": \"4_MAE\", \"learnToolsVersion\": \"0.3.4\", \"failureMessage\": \"\", \"exceptionClass\": \"\", \"trace\": \"\"}}, \"*\")"
      ],
      "text/plain": [
       "<IPython.core.display.Javascript object>"
      ]
     },
     "metadata": {},
     "output_type": "display_data"
    },
    {
     "data": {
      "text/markdown": [
       "<span style=\"color:#33cc33\">Correct</span>"
      ],
      "text/plain": [
       "Correct"
      ]
     },
     "metadata": {},
     "output_type": "display_data"
    }
   ],
   "source": [
    "from sklearn.metrics import mean_absolute_error\n",
    "val_mae = mean_absolute_error(val_y,val_predictions)\n",
    "\n",
    "# uncomment following line to see the validation_mae\n",
    "print(val_mae)\n",
    "\n",
    "# Check your answer\n",
    "step_4.check()"
   ]
  },
  {
   "cell_type": "code",
   "execution_count": 10,
   "id": "f9181fa1",
   "metadata": {
    "execution": {
     "iopub.execute_input": "2024-03-01T16:56:24.168840Z",
     "iopub.status.busy": "2024-03-01T16:56:24.168388Z",
     "iopub.status.idle": "2024-03-01T16:56:24.172848Z",
     "shell.execute_reply": "2024-03-01T16:56:24.171681Z"
    },
    "papermill": {
     "duration": 0.015613,
     "end_time": "2024-03-01T16:56:24.175328",
     "exception": false,
     "start_time": "2024-03-01T16:56:24.159715",
     "status": "completed"
    },
    "tags": []
   },
   "outputs": [],
   "source": [
    "# step_4.hint()\n",
    "# step_4.solution()"
   ]
  },
  {
   "cell_type": "markdown",
   "id": "15b664c9",
   "metadata": {
    "papermill": {
     "duration": 0.006717,
     "end_time": "2024-03-01T16:56:24.188549",
     "exception": false,
     "start_time": "2024-03-01T16:56:24.181832",
     "status": "completed"
    },
    "tags": []
   },
   "source": [
    "Is that MAE good?  There isn't a general rule for what values are good that applies across applications. But you'll see how to use (and improve) this number in the next step.\n",
    "\n",
    "# Keep Going\n",
    "\n",
    "You are ready for **[Underfitting and Overfitting](https://www.kaggle.com/dansbecker/underfitting-and-overfitting).**\n"
   ]
  },
  {
   "cell_type": "markdown",
   "id": "7ed9962a",
   "metadata": {
    "papermill": {
     "duration": 0.005707,
     "end_time": "2024-03-01T16:56:24.200538",
     "exception": false,
     "start_time": "2024-03-01T16:56:24.194831",
     "status": "completed"
    },
    "tags": []
   },
   "source": [
    "---\n",
    "\n",
    "\n",
    "\n",
    "\n",
    "*Have questions or comments? Visit the [course discussion forum](https://www.kaggle.com/learn/intro-to-machine-learning/discussion) to chat with other learners.*"
   ]
  }
 ],
 "metadata": {
  "kaggle": {
   "accelerator": "none",
   "dataSources": [
    {
     "databundleVersionId": 111096,
     "sourceId": 10211,
     "sourceType": "competition"
    },
    {
     "datasetId": 11167,
     "sourceId": 15520,
     "sourceType": "datasetVersion"
    },
    {
     "datasetId": 2709,
     "sourceId": 38454,
     "sourceType": "datasetVersion"
    }
   ],
   "isGpuEnabled": false,
   "isInternetEnabled": false,
   "language": "python",
   "sourceType": "notebook"
  },
  "kernelspec": {
   "display_name": "Python 3",
   "language": "python",
   "name": "python3"
  },
  "language_info": {
   "codemirror_mode": {
    "name": "ipython",
    "version": 3
   },
   "file_extension": ".py",
   "mimetype": "text/x-python",
   "name": "python",
   "nbconvert_exporter": "python",
   "pygments_lexer": "ipython3",
   "version": "3.10.13"
  },
  "papermill": {
   "default_parameters": {},
   "duration": 6.544301,
   "end_time": "2024-03-01T16:56:24.827980",
   "environment_variables": {},
   "exception": null,
   "input_path": "__notebook__.ipynb",
   "output_path": "__notebook__.ipynb",
   "parameters": {},
   "start_time": "2024-03-01T16:56:18.283679",
   "version": "2.5.0"
  }
 },
 "nbformat": 4,
 "nbformat_minor": 5
}
