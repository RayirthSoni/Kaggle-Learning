{
 "cells": [
  {
   "cell_type": "code",
   "execution_count": 1,
   "id": "32b7e53a",
   "metadata": {
    "_cell_guid": "b1076dfc-b9ad-4769-8c92-a6c4dae69d19",
    "_uuid": "8f2839f25d086af736a60e9eeb907d3b93b6e0e5",
    "execution": {
     "iopub.execute_input": "2024-03-14T19:41:52.136675Z",
     "iopub.status.busy": "2024-03-14T19:41:52.135786Z",
     "iopub.status.idle": "2024-03-14T19:41:52.797440Z",
     "shell.execute_reply": "2024-03-14T19:41:52.796368Z"
    },
    "papermill": {
     "duration": 0.671281,
     "end_time": "2024-03-14T19:41:52.799188",
     "exception": false,
     "start_time": "2024-03-14T19:41:52.127907",
     "status": "completed"
    },
    "tags": []
   },
   "outputs": [
    {
     "name": "stdout",
     "output_type": "stream",
     "text": [
      "/kaggle/input/pokemon-challenge/pokemon.csv\n",
      "/kaggle/input/pokemon-challenge/tests.csv\n",
      "/kaggle/input/pokemon-challenge/combats.csv\n"
     ]
    }
   ],
   "source": [
    "# This Python 3 annotationsenvironment comes with many helpful analytics libraries installed\n",
    "# It is defined by the kaggle/python Docker image: https://github.com/kaggle/docker-python\n",
    "# For example, here's several helpful packages to load\n",
    "\n",
    "import numpy as np # linear algebra\n",
    "import pandas as pd # data processing, CSV file I/O (e.g. pd.read_csv)\n",
    "\n",
    "# Input data files are available in the read-only \"../input/\" directory\n",
    "# For example, running this (by clicking run or pressing Shift+Enter) will list all files under the input directory\n",
    "\n",
    "import os\n",
    "for dirname, _, filenames in os.walk('/kaggle/input'):\n",
    "    for filename in filenames:\n",
    "        print(os.path.join(dirname, filename))\n",
    "\n",
    "from IPython.core.interactiveshell import InteractiveShell\n",
    "InteractiveShell.ast_node_interactivity = 'all'\n",
    "\n",
    "# You can write up to 20GB to the current directory (/kaggle/working/) that gets preserved as output when you create a version using \"Save & Run All\" \n",
    "# You can also write temporary files to /kaggle/temp/, but they won't be saved outside of the current session"
   ]
  },
  {
   "cell_type": "code",
   "execution_count": 2,
   "id": "71b67d3b",
   "metadata": {
    "execution": {
     "iopub.execute_input": "2024-03-14T19:41:52.813549Z",
     "iopub.status.busy": "2024-03-14T19:41:52.813189Z",
     "iopub.status.idle": "2024-03-14T19:41:52.846843Z",
     "shell.execute_reply": "2024-03-14T19:41:52.846082Z"
    },
    "papermill": {
     "duration": 0.042684,
     "end_time": "2024-03-14T19:41:52.848684",
     "exception": false,
     "start_time": "2024-03-14T19:41:52.806000",
     "status": "completed"
    },
    "tags": []
   },
   "outputs": [
    {
     "data": {
      "text/html": [
       "<div>\n",
       "<style scoped>\n",
       "    .dataframe tbody tr th:only-of-type {\n",
       "        vertical-align: middle;\n",
       "    }\n",
       "\n",
       "    .dataframe tbody tr th {\n",
       "        vertical-align: top;\n",
       "    }\n",
       "\n",
       "    .dataframe thead th {\n",
       "        text-align: right;\n",
       "    }\n",
       "</style>\n",
       "<table border=\"1\" class=\"dataframe\">\n",
       "  <thead>\n",
       "    <tr style=\"text-align: right;\">\n",
       "      <th></th>\n",
       "      <th>#</th>\n",
       "      <th>Name</th>\n",
       "      <th>Type 1</th>\n",
       "      <th>Type 2</th>\n",
       "      <th>HP</th>\n",
       "      <th>Attack</th>\n",
       "      <th>Defense</th>\n",
       "      <th>Sp. Atk</th>\n",
       "      <th>Sp. Def</th>\n",
       "      <th>Speed</th>\n",
       "      <th>Generation</th>\n",
       "      <th>Legendary</th>\n",
       "    </tr>\n",
       "  </thead>\n",
       "  <tbody>\n",
       "    <tr>\n",
       "      <th>0</th>\n",
       "      <td>1</td>\n",
       "      <td>Bulbasaur</td>\n",
       "      <td>Grass</td>\n",
       "      <td>Poison</td>\n",
       "      <td>45</td>\n",
       "      <td>49</td>\n",
       "      <td>49</td>\n",
       "      <td>65</td>\n",
       "      <td>65</td>\n",
       "      <td>45</td>\n",
       "      <td>1</td>\n",
       "      <td>False</td>\n",
       "    </tr>\n",
       "    <tr>\n",
       "      <th>1</th>\n",
       "      <td>2</td>\n",
       "      <td>Ivysaur</td>\n",
       "      <td>Grass</td>\n",
       "      <td>Poison</td>\n",
       "      <td>60</td>\n",
       "      <td>62</td>\n",
       "      <td>63</td>\n",
       "      <td>80</td>\n",
       "      <td>80</td>\n",
       "      <td>60</td>\n",
       "      <td>1</td>\n",
       "      <td>False</td>\n",
       "    </tr>\n",
       "    <tr>\n",
       "      <th>2</th>\n",
       "      <td>3</td>\n",
       "      <td>Venusaur</td>\n",
       "      <td>Grass</td>\n",
       "      <td>Poison</td>\n",
       "      <td>80</td>\n",
       "      <td>82</td>\n",
       "      <td>83</td>\n",
       "      <td>100</td>\n",
       "      <td>100</td>\n",
       "      <td>80</td>\n",
       "      <td>1</td>\n",
       "      <td>False</td>\n",
       "    </tr>\n",
       "    <tr>\n",
       "      <th>3</th>\n",
       "      <td>4</td>\n",
       "      <td>Mega Venusaur</td>\n",
       "      <td>Grass</td>\n",
       "      <td>Poison</td>\n",
       "      <td>80</td>\n",
       "      <td>100</td>\n",
       "      <td>123</td>\n",
       "      <td>122</td>\n",
       "      <td>120</td>\n",
       "      <td>80</td>\n",
       "      <td>1</td>\n",
       "      <td>False</td>\n",
       "    </tr>\n",
       "    <tr>\n",
       "      <th>4</th>\n",
       "      <td>5</td>\n",
       "      <td>Charmander</td>\n",
       "      <td>Fire</td>\n",
       "      <td>NaN</td>\n",
       "      <td>39</td>\n",
       "      <td>52</td>\n",
       "      <td>43</td>\n",
       "      <td>60</td>\n",
       "      <td>50</td>\n",
       "      <td>65</td>\n",
       "      <td>1</td>\n",
       "      <td>False</td>\n",
       "    </tr>\n",
       "    <tr>\n",
       "      <th>...</th>\n",
       "      <td>...</td>\n",
       "      <td>...</td>\n",
       "      <td>...</td>\n",
       "      <td>...</td>\n",
       "      <td>...</td>\n",
       "      <td>...</td>\n",
       "      <td>...</td>\n",
       "      <td>...</td>\n",
       "      <td>...</td>\n",
       "      <td>...</td>\n",
       "      <td>...</td>\n",
       "      <td>...</td>\n",
       "    </tr>\n",
       "    <tr>\n",
       "      <th>795</th>\n",
       "      <td>796</td>\n",
       "      <td>Diancie</td>\n",
       "      <td>Rock</td>\n",
       "      <td>Fairy</td>\n",
       "      <td>50</td>\n",
       "      <td>100</td>\n",
       "      <td>150</td>\n",
       "      <td>100</td>\n",
       "      <td>150</td>\n",
       "      <td>50</td>\n",
       "      <td>6</td>\n",
       "      <td>True</td>\n",
       "    </tr>\n",
       "    <tr>\n",
       "      <th>796</th>\n",
       "      <td>797</td>\n",
       "      <td>Mega Diancie</td>\n",
       "      <td>Rock</td>\n",
       "      <td>Fairy</td>\n",
       "      <td>50</td>\n",
       "      <td>160</td>\n",
       "      <td>110</td>\n",
       "      <td>160</td>\n",
       "      <td>110</td>\n",
       "      <td>110</td>\n",
       "      <td>6</td>\n",
       "      <td>True</td>\n",
       "    </tr>\n",
       "    <tr>\n",
       "      <th>797</th>\n",
       "      <td>798</td>\n",
       "      <td>Hoopa Confined</td>\n",
       "      <td>Psychic</td>\n",
       "      <td>Ghost</td>\n",
       "      <td>80</td>\n",
       "      <td>110</td>\n",
       "      <td>60</td>\n",
       "      <td>150</td>\n",
       "      <td>130</td>\n",
       "      <td>70</td>\n",
       "      <td>6</td>\n",
       "      <td>True</td>\n",
       "    </tr>\n",
       "    <tr>\n",
       "      <th>798</th>\n",
       "      <td>799</td>\n",
       "      <td>Hoopa Unbound</td>\n",
       "      <td>Psychic</td>\n",
       "      <td>Dark</td>\n",
       "      <td>80</td>\n",
       "      <td>160</td>\n",
       "      <td>60</td>\n",
       "      <td>170</td>\n",
       "      <td>130</td>\n",
       "      <td>80</td>\n",
       "      <td>6</td>\n",
       "      <td>True</td>\n",
       "    </tr>\n",
       "    <tr>\n",
       "      <th>799</th>\n",
       "      <td>800</td>\n",
       "      <td>Volcanion</td>\n",
       "      <td>Fire</td>\n",
       "      <td>Water</td>\n",
       "      <td>80</td>\n",
       "      <td>110</td>\n",
       "      <td>120</td>\n",
       "      <td>130</td>\n",
       "      <td>90</td>\n",
       "      <td>70</td>\n",
       "      <td>6</td>\n",
       "      <td>True</td>\n",
       "    </tr>\n",
       "  </tbody>\n",
       "</table>\n",
       "<p>800 rows × 12 columns</p>\n",
       "</div>"
      ],
      "text/plain": [
       "       #            Name   Type 1  Type 2  HP  Attack  Defense  Sp. Atk  \\\n",
       "0      1       Bulbasaur    Grass  Poison  45      49       49       65   \n",
       "1      2         Ivysaur    Grass  Poison  60      62       63       80   \n",
       "2      3        Venusaur    Grass  Poison  80      82       83      100   \n",
       "3      4   Mega Venusaur    Grass  Poison  80     100      123      122   \n",
       "4      5      Charmander     Fire     NaN  39      52       43       60   \n",
       "..   ...             ...      ...     ...  ..     ...      ...      ...   \n",
       "795  796         Diancie     Rock   Fairy  50     100      150      100   \n",
       "796  797    Mega Diancie     Rock   Fairy  50     160      110      160   \n",
       "797  798  Hoopa Confined  Psychic   Ghost  80     110       60      150   \n",
       "798  799   Hoopa Unbound  Psychic    Dark  80     160       60      170   \n",
       "799  800       Volcanion     Fire   Water  80     110      120      130   \n",
       "\n",
       "     Sp. Def  Speed  Generation  Legendary  \n",
       "0         65     45           1      False  \n",
       "1         80     60           1      False  \n",
       "2        100     80           1      False  \n",
       "3        120     80           1      False  \n",
       "4         50     65           1      False  \n",
       "..       ...    ...         ...        ...  \n",
       "795      150     50           6       True  \n",
       "796      110    110           6       True  \n",
       "797      130     70           6       True  \n",
       "798      130     80           6       True  \n",
       "799       90     70           6       True  \n",
       "\n",
       "[800 rows x 12 columns]"
      ]
     },
     "execution_count": 2,
     "metadata": {},
     "output_type": "execute_result"
    }
   ],
   "source": [
    "df_pokemon = pd.read_csv(r'/kaggle/input/pokemon-challenge/pokemon.csv')\n",
    "df_pokemon"
   ]
  },
  {
   "cell_type": "markdown",
   "id": "f651c4c6",
   "metadata": {
    "papermill": {
     "duration": 0.006304,
     "end_time": "2024-03-14T19:41:52.861861",
     "exception": false,
     "start_time": "2024-03-14T19:41:52.855557",
     "status": "completed"
    },
    "tags": []
   },
   "source": [
    "# Checking basic data structres"
   ]
  },
  {
   "cell_type": "code",
   "execution_count": 3,
   "id": "198d6477",
   "metadata": {
    "execution": {
     "iopub.execute_input": "2024-03-14T19:41:52.876263Z",
     "iopub.status.busy": "2024-03-14T19:41:52.875651Z",
     "iopub.status.idle": "2024-03-14T19:41:52.894346Z",
     "shell.execute_reply": "2024-03-14T19:41:52.893420Z"
    },
    "papermill": {
     "duration": 0.02762,
     "end_time": "2024-03-14T19:41:52.895951",
     "exception": false,
     "start_time": "2024-03-14T19:41:52.868331",
     "status": "completed"
    },
    "tags": []
   },
   "outputs": [
    {
     "name": "stdout",
     "output_type": "stream",
     "text": [
      "<class 'pandas.core.frame.DataFrame'>\n",
      "RangeIndex: 800 entries, 0 to 799\n",
      "Data columns (total 12 columns):\n",
      " #   Column      Non-Null Count  Dtype \n",
      "---  ------      --------------  ----- \n",
      " 0   #           800 non-null    int64 \n",
      " 1   Name        799 non-null    object\n",
      " 2   Type 1      800 non-null    object\n",
      " 3   Type 2      414 non-null    object\n",
      " 4   HP          800 non-null    int64 \n",
      " 5   Attack      800 non-null    int64 \n",
      " 6   Defense     800 non-null    int64 \n",
      " 7   Sp. Atk     800 non-null    int64 \n",
      " 8   Sp. Def     800 non-null    int64 \n",
      " 9   Speed       800 non-null    int64 \n",
      " 10  Generation  800 non-null    int64 \n",
      " 11  Legendary   800 non-null    bool  \n",
      "dtypes: bool(1), int64(8), object(3)\n",
      "memory usage: 69.7+ KB\n"
     ]
    }
   ],
   "source": [
    "df_pokemon.info()"
   ]
  },
  {
   "cell_type": "code",
   "execution_count": 4,
   "id": "2c2eec18",
   "metadata": {
    "execution": {
     "iopub.execute_input": "2024-03-14T19:41:52.910703Z",
     "iopub.status.busy": "2024-03-14T19:41:52.910204Z",
     "iopub.status.idle": "2024-03-14T19:41:52.915294Z",
     "shell.execute_reply": "2024-03-14T19:41:52.914574Z"
    },
    "papermill": {
     "duration": 0.014153,
     "end_time": "2024-03-14T19:41:52.916861",
     "exception": false,
     "start_time": "2024-03-14T19:41:52.902708",
     "status": "completed"
    },
    "tags": []
   },
   "outputs": [
    {
     "data": {
      "text/plain": [
       "(800, 12)"
      ]
     },
     "execution_count": 4,
     "metadata": {},
     "output_type": "execute_result"
    }
   ],
   "source": [
    "df_pokemon.shape"
   ]
  },
  {
   "cell_type": "code",
   "execution_count": 5,
   "id": "6ae1970a",
   "metadata": {
    "execution": {
     "iopub.execute_input": "2024-03-14T19:41:52.931894Z",
     "iopub.status.busy": "2024-03-14T19:41:52.931624Z",
     "iopub.status.idle": "2024-03-14T19:41:52.957364Z",
     "shell.execute_reply": "2024-03-14T19:41:52.956564Z"
    },
    "papermill": {
     "duration": 0.03534,
     "end_time": "2024-03-14T19:41:52.959031",
     "exception": false,
     "start_time": "2024-03-14T19:41:52.923691",
     "status": "completed"
    },
    "tags": []
   },
   "outputs": [
    {
     "data": {
      "text/html": [
       "<div>\n",
       "<style scoped>\n",
       "    .dataframe tbody tr th:only-of-type {\n",
       "        vertical-align: middle;\n",
       "    }\n",
       "\n",
       "    .dataframe tbody tr th {\n",
       "        vertical-align: top;\n",
       "    }\n",
       "\n",
       "    .dataframe thead th {\n",
       "        text-align: right;\n",
       "    }\n",
       "</style>\n",
       "<table border=\"1\" class=\"dataframe\">\n",
       "  <thead>\n",
       "    <tr style=\"text-align: right;\">\n",
       "      <th></th>\n",
       "      <th>#</th>\n",
       "      <th>HP</th>\n",
       "      <th>Attack</th>\n",
       "      <th>Defense</th>\n",
       "      <th>Sp. Atk</th>\n",
       "      <th>Sp. Def</th>\n",
       "      <th>Speed</th>\n",
       "      <th>Generation</th>\n",
       "    </tr>\n",
       "  </thead>\n",
       "  <tbody>\n",
       "    <tr>\n",
       "      <th>count</th>\n",
       "      <td>800.0000</td>\n",
       "      <td>800.000000</td>\n",
       "      <td>800.000000</td>\n",
       "      <td>800.000000</td>\n",
       "      <td>800.000000</td>\n",
       "      <td>800.000000</td>\n",
       "      <td>800.000000</td>\n",
       "      <td>800.00000</td>\n",
       "    </tr>\n",
       "    <tr>\n",
       "      <th>mean</th>\n",
       "      <td>400.5000</td>\n",
       "      <td>69.258750</td>\n",
       "      <td>79.001250</td>\n",
       "      <td>73.842500</td>\n",
       "      <td>72.820000</td>\n",
       "      <td>71.902500</td>\n",
       "      <td>68.277500</td>\n",
       "      <td>3.32375</td>\n",
       "    </tr>\n",
       "    <tr>\n",
       "      <th>std</th>\n",
       "      <td>231.0844</td>\n",
       "      <td>25.534669</td>\n",
       "      <td>32.457366</td>\n",
       "      <td>31.183501</td>\n",
       "      <td>32.722294</td>\n",
       "      <td>27.828916</td>\n",
       "      <td>29.060474</td>\n",
       "      <td>1.66129</td>\n",
       "    </tr>\n",
       "    <tr>\n",
       "      <th>min</th>\n",
       "      <td>1.0000</td>\n",
       "      <td>1.000000</td>\n",
       "      <td>5.000000</td>\n",
       "      <td>5.000000</td>\n",
       "      <td>10.000000</td>\n",
       "      <td>20.000000</td>\n",
       "      <td>5.000000</td>\n",
       "      <td>1.00000</td>\n",
       "    </tr>\n",
       "    <tr>\n",
       "      <th>25%</th>\n",
       "      <td>200.7500</td>\n",
       "      <td>50.000000</td>\n",
       "      <td>55.000000</td>\n",
       "      <td>50.000000</td>\n",
       "      <td>49.750000</td>\n",
       "      <td>50.000000</td>\n",
       "      <td>45.000000</td>\n",
       "      <td>2.00000</td>\n",
       "    </tr>\n",
       "    <tr>\n",
       "      <th>50%</th>\n",
       "      <td>400.5000</td>\n",
       "      <td>65.000000</td>\n",
       "      <td>75.000000</td>\n",
       "      <td>70.000000</td>\n",
       "      <td>65.000000</td>\n",
       "      <td>70.000000</td>\n",
       "      <td>65.000000</td>\n",
       "      <td>3.00000</td>\n",
       "    </tr>\n",
       "    <tr>\n",
       "      <th>75%</th>\n",
       "      <td>600.2500</td>\n",
       "      <td>80.000000</td>\n",
       "      <td>100.000000</td>\n",
       "      <td>90.000000</td>\n",
       "      <td>95.000000</td>\n",
       "      <td>90.000000</td>\n",
       "      <td>90.000000</td>\n",
       "      <td>5.00000</td>\n",
       "    </tr>\n",
       "    <tr>\n",
       "      <th>max</th>\n",
       "      <td>800.0000</td>\n",
       "      <td>255.000000</td>\n",
       "      <td>190.000000</td>\n",
       "      <td>230.000000</td>\n",
       "      <td>194.000000</td>\n",
       "      <td>230.000000</td>\n",
       "      <td>180.000000</td>\n",
       "      <td>6.00000</td>\n",
       "    </tr>\n",
       "  </tbody>\n",
       "</table>\n",
       "</div>"
      ],
      "text/plain": [
       "              #          HP      Attack     Defense     Sp. Atk     Sp. Def  \\\n",
       "count  800.0000  800.000000  800.000000  800.000000  800.000000  800.000000   \n",
       "mean   400.5000   69.258750   79.001250   73.842500   72.820000   71.902500   \n",
       "std    231.0844   25.534669   32.457366   31.183501   32.722294   27.828916   \n",
       "min      1.0000    1.000000    5.000000    5.000000   10.000000   20.000000   \n",
       "25%    200.7500   50.000000   55.000000   50.000000   49.750000   50.000000   \n",
       "50%    400.5000   65.000000   75.000000   70.000000   65.000000   70.000000   \n",
       "75%    600.2500   80.000000  100.000000   90.000000   95.000000   90.000000   \n",
       "max    800.0000  255.000000  190.000000  230.000000  194.000000  230.000000   \n",
       "\n",
       "            Speed  Generation  \n",
       "count  800.000000   800.00000  \n",
       "mean    68.277500     3.32375  \n",
       "std     29.060474     1.66129  \n",
       "min      5.000000     1.00000  \n",
       "25%     45.000000     2.00000  \n",
       "50%     65.000000     3.00000  \n",
       "75%     90.000000     5.00000  \n",
       "max    180.000000     6.00000  "
      ]
     },
     "execution_count": 5,
     "metadata": {},
     "output_type": "execute_result"
    }
   ],
   "source": [
    "df_pokemon.describe()"
   ]
  },
  {
   "cell_type": "code",
   "execution_count": 6,
   "id": "329f9673",
   "metadata": {
    "execution": {
     "iopub.execute_input": "2024-03-14T19:41:52.974283Z",
     "iopub.status.busy": "2024-03-14T19:41:52.973948Z",
     "iopub.status.idle": "2024-03-14T19:41:52.980557Z",
     "shell.execute_reply": "2024-03-14T19:41:52.979810Z"
    },
    "papermill": {
     "duration": 0.015849,
     "end_time": "2024-03-14T19:41:52.982027",
     "exception": false,
     "start_time": "2024-03-14T19:41:52.966178",
     "status": "completed"
    },
    "tags": []
   },
   "outputs": [
    {
     "data": {
      "text/plain": [
       "Type 1\n",
       "Water       112\n",
       "Normal       98\n",
       "Grass        70\n",
       "Bug          69\n",
       "Psychic      57\n",
       "Fire         52\n",
       "Electric     44\n",
       "Rock         44\n",
       "Dragon       32\n",
       "Ground       32\n",
       "Ghost        32\n",
       "Dark         31\n",
       "Poison       28\n",
       "Steel        27\n",
       "Fighting     27\n",
       "Ice          24\n",
       "Fairy        17\n",
       "Flying        4\n",
       "Name: count, dtype: int64"
      ]
     },
     "execution_count": 6,
     "metadata": {},
     "output_type": "execute_result"
    }
   ],
   "source": [
    "df_pokemon['Type 1'].value_counts()"
   ]
  },
  {
   "cell_type": "code",
   "execution_count": 7,
   "id": "daa93d45",
   "metadata": {
    "execution": {
     "iopub.execute_input": "2024-03-14T19:41:52.998288Z",
     "iopub.status.busy": "2024-03-14T19:41:52.997801Z",
     "iopub.status.idle": "2024-03-14T19:41:53.004004Z",
     "shell.execute_reply": "2024-03-14T19:41:53.003439Z"
    },
    "papermill": {
     "duration": 0.015637,
     "end_time": "2024-03-14T19:41:53.005490",
     "exception": false,
     "start_time": "2024-03-14T19:41:52.989853",
     "status": "completed"
    },
    "tags": []
   },
   "outputs": [
    {
     "data": {
      "text/plain": [
       "Type 2\n",
       "Flying      97\n",
       "Ground      35\n",
       "Poison      34\n",
       "Psychic     33\n",
       "Fighting    26\n",
       "Grass       25\n",
       "Fairy       23\n",
       "Steel       22\n",
       "Dark        20\n",
       "Dragon      18\n",
       "Water       14\n",
       "Ghost       14\n",
       "Ice         14\n",
       "Rock        14\n",
       "Fire        12\n",
       "Electric     6\n",
       "Normal       4\n",
       "Bug          3\n",
       "Name: count, dtype: int64"
      ]
     },
     "execution_count": 7,
     "metadata": {},
     "output_type": "execute_result"
    }
   ],
   "source": [
    "df_pokemon['Type 2'].value_counts()"
   ]
  },
  {
   "cell_type": "code",
   "execution_count": 8,
   "id": "ca4d05dc",
   "metadata": {
    "execution": {
     "iopub.execute_input": "2024-03-14T19:41:53.021199Z",
     "iopub.status.busy": "2024-03-14T19:41:53.020770Z",
     "iopub.status.idle": "2024-03-14T19:41:53.030809Z",
     "shell.execute_reply": "2024-03-14T19:41:53.030276Z"
    },
    "papermill": {
     "duration": 0.019492,
     "end_time": "2024-03-14T19:41:53.032220",
     "exception": false,
     "start_time": "2024-03-14T19:41:53.012728",
     "status": "completed"
    },
    "tags": []
   },
   "outputs": [
    {
     "data": {
      "text/plain": [
       "Type 1    Type 2\n",
       "Normal    Flying    24\n",
       "Grass     Poison    15\n",
       "Bug       Flying    14\n",
       "          Poison    12\n",
       "Ghost     Grass     10\n",
       "                    ..\n",
       "Fire      Rock       1\n",
       "Ice       Ghost      1\n",
       "Fire      Dragon     1\n",
       "Fighting  Flying     1\n",
       "Water     Steel      1\n",
       "Name: count, Length: 136, dtype: int64"
      ]
     },
     "execution_count": 8,
     "metadata": {},
     "output_type": "execute_result"
    }
   ],
   "source": [
    "df_pokemon[['Type 1','Type 2']].value_counts()"
   ]
  },
  {
   "cell_type": "markdown",
   "id": "1a045226",
   "metadata": {
    "papermill": {
     "duration": 0.006712,
     "end_time": "2024-03-14T19:41:53.046188",
     "exception": false,
     "start_time": "2024-03-14T19:41:53.039476",
     "status": "completed"
    },
    "tags": []
   },
   "source": [
    "## generation"
   ]
  },
  {
   "cell_type": "code",
   "execution_count": 9,
   "id": "f95c9ac5",
   "metadata": {
    "execution": {
     "iopub.execute_input": "2024-03-14T19:41:53.061354Z",
     "iopub.status.busy": "2024-03-14T19:41:53.060903Z",
     "iopub.status.idle": "2024-03-14T19:41:53.067662Z",
     "shell.execute_reply": "2024-03-14T19:41:53.066842Z"
    },
    "papermill": {
     "duration": 0.016046,
     "end_time": "2024-03-14T19:41:53.069122",
     "exception": false,
     "start_time": "2024-03-14T19:41:53.053076",
     "status": "completed"
    },
    "tags": []
   },
   "outputs": [
    {
     "data": {
      "text/plain": [
       "Generation\n",
       "1    166\n",
       "5    165\n",
       "3    160\n",
       "4    121\n",
       "2    106\n",
       "6     82\n",
       "Name: count, dtype: int64"
      ]
     },
     "execution_count": 9,
     "metadata": {},
     "output_type": "execute_result"
    }
   ],
   "source": [
    "df_pokemon['Generation'].value_counts()"
   ]
  },
  {
   "cell_type": "markdown",
   "id": "268c4fd9",
   "metadata": {
    "papermill": {
     "duration": 0.006734,
     "end_time": "2024-03-14T19:41:53.082865",
     "exception": false,
     "start_time": "2024-03-14T19:41:53.076131",
     "status": "completed"
    },
    "tags": []
   },
   "source": [
    "### for each generation checking value_counts() for different types"
   ]
  },
  {
   "cell_type": "code",
   "execution_count": 10,
   "id": "39ee3169",
   "metadata": {
    "execution": {
     "iopub.execute_input": "2024-03-14T19:41:53.099167Z",
     "iopub.status.busy": "2024-03-14T19:41:53.098349Z",
     "iopub.status.idle": "2024-03-14T19:41:53.113313Z",
     "shell.execute_reply": "2024-03-14T19:41:53.112397Z"
    },
    "papermill": {
     "duration": 0.024981,
     "end_time": "2024-03-14T19:41:53.114826",
     "exception": false,
     "start_time": "2024-03-14T19:41:53.089845",
     "status": "completed"
    },
    "tags": []
   },
   "outputs": [
    {
     "data": {
      "text/plain": [
       "Type 1\n",
       "Water       31\n",
       "Normal      24\n",
       "Fire        14\n",
       "Bug         14\n",
       "Poison      14\n",
       "Grass       13\n",
       "Psychic     11\n",
       "Rock        10\n",
       "Electric     9\n",
       "Ground       8\n",
       "Fighting     7\n",
       "Ghost        4\n",
       "Dragon       3\n",
       "Fairy        2\n",
       "Ice          2\n",
       "Name: count, dtype: int64"
      ]
     },
     "execution_count": 10,
     "metadata": {},
     "output_type": "execute_result"
    },
    {
     "data": {
      "text/plain": [
       "Type 2\n",
       "Flying      23\n",
       "Poison      22\n",
       "Psychic      7\n",
       "Ground       6\n",
       "Water        4\n",
       "Fairy        3\n",
       "Ice          3\n",
       "Grass        2\n",
       "Fighting     2\n",
       "Steel        2\n",
       "Rock         2\n",
       "Dragon       1\n",
       "Dark         1\n",
       "Name: count, dtype: int64"
      ]
     },
     "execution_count": 10,
     "metadata": {},
     "output_type": "execute_result"
    },
    {
     "data": {
      "text/plain": [
       "Type 1    Type 2  \n",
       "Grass     Poison      10\n",
       "Normal    Flying       9\n",
       "Bug       Poison       6\n",
       "Water     Psychic      4\n",
       "Ghost     Poison       4\n",
       "Rock      Water        4\n",
       "          Ground       4\n",
       "Water     Ice          3\n",
       "Bug       Flying       3\n",
       "Fire      Flying       3\n",
       "Poison    Flying       2\n",
       "Water     Poison       2\n",
       "Electric  Steel        2\n",
       "Rock      Flying       2\n",
       "Grass     Psychic      2\n",
       "Poison    Ground       2\n",
       "Normal    Fairy        2\n",
       "Bug       Grass        2\n",
       "Ground    Rock         2\n",
       "Fire      Dragon       1\n",
       "Psychic   Fairy        1\n",
       "Ice       Psychic      1\n",
       "          Flying       1\n",
       "Electric  Flying       1\n",
       "Water     Dark         1\n",
       "          Fighting     1\n",
       "          Flying       1\n",
       "Dragon    Flying       1\n",
       "Psychic   Fighting     1\n",
       "Name: count, dtype: int64"
      ]
     },
     "execution_count": 10,
     "metadata": {},
     "output_type": "execute_result"
    }
   ],
   "source": [
    "df_pokemon[df_pokemon['Generation'] == 1]['Type 1'].value_counts()\n",
    "df_pokemon[df_pokemon['Generation'] == 1]['Type 2'].value_counts()\n",
    "df_pokemon[df_pokemon['Generation'] == 1][['Type 1','Type 2']].value_counts()"
   ]
  },
  {
   "cell_type": "code",
   "execution_count": 11,
   "id": "8e4bfc97",
   "metadata": {
    "execution": {
     "iopub.execute_input": "2024-03-14T19:41:53.130853Z",
     "iopub.status.busy": "2024-03-14T19:41:53.130484Z",
     "iopub.status.idle": "2024-03-14T19:41:53.146645Z",
     "shell.execute_reply": "2024-03-14T19:41:53.146028Z"
    },
    "papermill": {
     "duration": 0.02613,
     "end_time": "2024-03-14T19:41:53.148237",
     "exception": false,
     "start_time": "2024-03-14T19:41:53.122107",
     "status": "completed"
    },
    "tags": []
   },
   "outputs": [
    {
     "data": {
      "text/plain": [
       "Type 1\n",
       "Water       18\n",
       "Normal      15\n",
       "Bug         12\n",
       "Grass        9\n",
       "Fire         8\n",
       "Electric     7\n",
       "Psychic      7\n",
       "Dark         6\n",
       "Fairy        5\n",
       "Rock         5\n",
       "Ice          4\n",
       "Ground       3\n",
       "Steel        3\n",
       "Fighting     2\n",
       "Poison       1\n",
       "Ghost        1\n",
       "Name: count, dtype: int64"
      ]
     },
     "execution_count": 11,
     "metadata": {},
     "output_type": "execute_result"
    },
    {
     "data": {
      "text/plain": [
       "Type 2\n",
       "Flying      19\n",
       "Ground       8\n",
       "Poison       3\n",
       "Fairy        3\n",
       "Psychic      3\n",
       "Steel        3\n",
       "Rock         3\n",
       "Fire         3\n",
       "Electric     2\n",
       "Dragon       2\n",
       "Fighting     2\n",
       "Dark         2\n",
       "Ice          1\n",
       "Grass        1\n",
       "Name: count, dtype: int64"
      ]
     },
     "execution_count": 11,
     "metadata": {},
     "output_type": "execute_result"
    },
    {
     "data": {
      "text/plain": [
       "Type 1    Type 2  \n",
       "Grass     Flying      3\n",
       "Bug       Steel       3\n",
       "Dark      Fire        3\n",
       "Bug       Flying      3\n",
       "Psychic   Flying      3\n",
       "Bug       Fighting    2\n",
       "Rock      Dark        2\n",
       "Normal    Flying      2\n",
       "Rock      Ground      2\n",
       "Ice       Ground      2\n",
       "Steel     Ground      2\n",
       "Water     Electric    2\n",
       "          Fairy       2\n",
       "          Ground      2\n",
       "Bug       Poison      2\n",
       "Water     Dragon      1\n",
       "Steel     Flying      1\n",
       "Water     Flying      1\n",
       "          Poison      1\n",
       "          Psychic     1\n",
       "Psychic   Grass       1\n",
       "Normal    Fairy       1\n",
       "Poison    Flying      1\n",
       "Normal    Psychic     1\n",
       "Ice       Psychic     1\n",
       "          Flying      1\n",
       "Ground    Flying      1\n",
       "Fire      Rock        1\n",
       "          Flying      1\n",
       "Fairy     Flying      1\n",
       "Electric  Dragon      1\n",
       "Dark      Ice         1\n",
       "          Flying      1\n",
       "Bug       Rock        1\n",
       "Water     Rock        1\n",
       "Name: count, dtype: int64"
      ]
     },
     "execution_count": 11,
     "metadata": {},
     "output_type": "execute_result"
    }
   ],
   "source": [
    "df_pokemon[df_pokemon['Generation'] == 2]['Type 1'].value_counts()\n",
    "df_pokemon[df_pokemon['Generation'] == 2]['Type 2'].value_counts()\n",
    "df_pokemon[df_pokemon['Generation'] == 2][['Type 1','Type 2']].value_counts()"
   ]
  },
  {
   "cell_type": "code",
   "execution_count": 12,
   "id": "d185c446",
   "metadata": {
    "execution": {
     "iopub.execute_input": "2024-03-14T19:41:53.166307Z",
     "iopub.status.busy": "2024-03-14T19:41:53.165868Z",
     "iopub.status.idle": "2024-03-14T19:41:53.182170Z",
     "shell.execute_reply": "2024-03-14T19:41:53.181323Z"
    },
    "papermill": {
     "duration": 0.027157,
     "end_time": "2024-03-14T19:41:53.183797",
     "exception": false,
     "start_time": "2024-03-14T19:41:53.156640",
     "status": "completed"
    },
    "tags": []
   },
   "outputs": [
    {
     "data": {
      "text/plain": [
       "Type 1\n",
       "Water       27\n",
       "Normal      18\n",
       "Grass       13\n",
       "Bug         12\n",
       "Psychic     12\n",
       "Steel       12\n",
       "Dragon      12\n",
       "Fire         8\n",
       "Rock         8\n",
       "Ground       7\n",
       "Ice          7\n",
       "Dark         6\n",
       "Fighting     5\n",
       "Electric     5\n",
       "Ghost        5\n",
       "Poison       3\n",
       "Name: count, dtype: int64"
      ]
     },
     "execution_count": 12,
     "metadata": {},
     "output_type": "execute_result"
    },
    {
     "data": {
      "text/plain": [
       "Type 2\n",
       "Psychic     16\n",
       "Flying      14\n",
       "Ground       9\n",
       "Fairy        8\n",
       "Dark         7\n",
       "Grass        5\n",
       "Fighting     4\n",
       "Water        4\n",
       "Rock         4\n",
       "Dragon       3\n",
       "Ghost        3\n",
       "Poison       2\n",
       "Bug          2\n",
       "Fire         1\n",
       "Name: count, dtype: int64"
      ]
     },
     "execution_count": 12,
     "metadata": {},
     "output_type": "execute_result"
    },
    {
     "data": {
      "text/plain": [
       "Type 1    Type 2  \n",
       "Water     Ground      5\n",
       "Steel     Psychic     5\n",
       "Dragon    Flying      5\n",
       "Psychic   Fairy       4\n",
       "Water     Dark        4\n",
       "Dragon    Psychic     4\n",
       "Bug       Flying      3\n",
       "Ice       Water       3\n",
       "Grass     Dark        3\n",
       "Fire      Ground      3\n",
       "          Fighting    3\n",
       "Fighting  Psychic     3\n",
       "Steel     Rock        3\n",
       "Water     Grass       3\n",
       "Normal    Flying      3\n",
       "Water     Flying      2\n",
       "Steel     Fairy       2\n",
       "Rock      Psychic     2\n",
       "          Grass       2\n",
       "          Bug         2\n",
       "Ground    Dragon      2\n",
       "          Psychic     2\n",
       "Dark      Ghost       2\n",
       "Normal    Fairy       1\n",
       "Ground    Fire        1\n",
       "Bug       Ghost       1\n",
       "Grass     Poison      1\n",
       "          Flying      1\n",
       "          Fighting    1\n",
       "          Dragon      1\n",
       "Dragon    Fairy       1\n",
       "Bug       Water       1\n",
       "          Poison      1\n",
       "          Ground      1\n",
       "Water     Rock        1\n",
       "Name: count, dtype: int64"
      ]
     },
     "execution_count": 12,
     "metadata": {},
     "output_type": "execute_result"
    }
   ],
   "source": [
    "df_pokemon[df_pokemon['Generation'] == 3]['Type 1'].value_counts()\n",
    "df_pokemon[df_pokemon['Generation'] == 3]['Type 2'].value_counts()\n",
    "df_pokemon[df_pokemon['Generation'] == 3][['Type 1','Type 2']].value_counts()"
   ]
  },
  {
   "cell_type": "code",
   "execution_count": 13,
   "id": "fc220f3e",
   "metadata": {
    "execution": {
     "iopub.execute_input": "2024-03-14T19:41:53.201250Z",
     "iopub.status.busy": "2024-03-14T19:41:53.200791Z",
     "iopub.status.idle": "2024-03-14T19:41:53.216078Z",
     "shell.execute_reply": "2024-03-14T19:41:53.215434Z"
    },
    "papermill": {
     "duration": 0.02572,
     "end_time": "2024-03-14T19:41:53.217666",
     "exception": false,
     "start_time": "2024-03-14T19:41:53.191946",
     "status": "completed"
    },
    "tags": []
   },
   "outputs": [
    {
     "data": {
      "text/plain": [
       "Type 1\n",
       "Normal      18\n",
       "Grass       15\n",
       "Water       13\n",
       "Electric    12\n",
       "Bug         10\n",
       "Psychic      8\n",
       "Ghost        7\n",
       "Rock         6\n",
       "Poison       6\n",
       "Fire         5\n",
       "Ground       4\n",
       "Dragon       4\n",
       "Fighting     3\n",
       "Dark         3\n",
       "Steel        3\n",
       "Ice          3\n",
       "Fairy        1\n",
       "Name: count, dtype: int64"
      ]
     },
     "execution_count": 13,
     "metadata": {},
     "output_type": "execute_result"
    },
    {
     "data": {
      "text/plain": [
       "Type 2\n",
       "Flying      16\n",
       "Steel        9\n",
       "Ground       8\n",
       "Fighting     7\n",
       "Ice          5\n",
       "Dark         4\n",
       "Dragon       4\n",
       "Water        2\n",
       "Poison       2\n",
       "Grass        2\n",
       "Psychic      2\n",
       "Ghost        2\n",
       "Fairy        1\n",
       "Bug          1\n",
       "Rock         1\n",
       "Fire         1\n",
       "Name: count, dtype: int64"
      ]
     },
     "execution_count": 13,
     "metadata": {},
     "output_type": "execute_result"
    },
    {
     "data": {
      "text/plain": [
       "Type 1    Type 2  \n",
       "Bug       Flying      4\n",
       "Dragon    Ground      4\n",
       "Normal    Flying      4\n",
       "Grass     Ice         3\n",
       "Rock      Steel       3\n",
       "Poison    Dark        3\n",
       "Steel     Psychic     2\n",
       "Poison    Fighting    2\n",
       "Ghost     Flying      2\n",
       "          Dragon      2\n",
       "Fire      Fighting    2\n",
       "Fighting  Steel       2\n",
       "Psychic   Fighting    2\n",
       "Grass     Poison      2\n",
       "Ground    Rock        1\n",
       "Poison    Bug         1\n",
       "Normal    Water       1\n",
       "Steel     Dragon      1\n",
       "Psychic   Fairy       1\n",
       "Water     Flying      1\n",
       "Normal    Fighting    1\n",
       "Water     Dragon      1\n",
       "Ice       Ground      1\n",
       "          Ghost       1\n",
       "Water     Ground      1\n",
       "Grass     Ground      1\n",
       "Ground    Flying      1\n",
       "Bug       Grass       1\n",
       "          Ground      1\n",
       "          Steel       1\n",
       "Dark      Flying      1\n",
       "          Ice         1\n",
       "Electric  Fire        1\n",
       "          Flying      1\n",
       "          Ghost       1\n",
       "          Grass       1\n",
       "          Ice         1\n",
       "          Steel       1\n",
       "          Water       1\n",
       "Fairy     Flying      1\n",
       "Fire      Steel       1\n",
       "Ghost     Dark        1\n",
       "Grass     Flying      1\n",
       "Water     Steel       1\n",
       "Name: count, dtype: int64"
      ]
     },
     "execution_count": 13,
     "metadata": {},
     "output_type": "execute_result"
    }
   ],
   "source": [
    "df_pokemon[df_pokemon['Generation'] == 4]['Type 1'].value_counts()\n",
    "df_pokemon[df_pokemon['Generation'] == 4]['Type 2'].value_counts()\n",
    "df_pokemon[df_pokemon['Generation'] == 4][['Type 1','Type 2']].value_counts()"
   ]
  },
  {
   "cell_type": "code",
   "execution_count": 14,
   "id": "3212c06a",
   "metadata": {
    "execution": {
     "iopub.execute_input": "2024-03-14T19:41:53.235964Z",
     "iopub.status.busy": "2024-03-14T19:41:53.235735Z",
     "iopub.status.idle": "2024-03-14T19:41:53.250593Z",
     "shell.execute_reply": "2024-03-14T19:41:53.249893Z"
    },
    "papermill": {
     "duration": 0.025896,
     "end_time": "2024-03-14T19:41:53.252099",
     "exception": false,
     "start_time": "2024-03-14T19:41:53.226203",
     "status": "completed"
    },
    "tags": []
   },
   "outputs": [
    {
     "data": {
      "text/plain": [
       "Type 1\n",
       "Normal      19\n",
       "Bug         18\n",
       "Water       18\n",
       "Grass       15\n",
       "Psychic     14\n",
       "Dark        13\n",
       "Ground      10\n",
       "Fire         9\n",
       "Dragon       9\n",
       "Electric     8\n",
       "Fighting     7\n",
       "Rock         6\n",
       "Ice          6\n",
       "Ghost        5\n",
       "Steel        4\n",
       "Poison       2\n",
       "Flying       2\n",
       "Name: count, dtype: int64"
      ]
     },
     "execution_count": 14,
     "metadata": {},
     "output_type": "execute_result"
    },
    {
     "data": {
      "text/plain": [
       "Type 2\n",
       "Flying      19\n",
       "Fighting    10\n",
       "Steel        8\n",
       "Fire         7\n",
       "Grass        5\n",
       "Poison       5\n",
       "Rock         4\n",
       "Ghost        4\n",
       "Electric     4\n",
       "Fairy        3\n",
       "Dark         3\n",
       "Dragon       3\n",
       "Ice          3\n",
       "Ground       2\n",
       "Psychic      2\n",
       "Name: count, dtype: int64"
      ]
     },
     "execution_count": 14,
     "metadata": {},
     "output_type": "execute_result"
    },
    {
     "data": {
      "text/plain": [
       "Type 1    Type 2  \n",
       "Normal    Flying      5\n",
       "Ground    Dark        3\n",
       "Electric  Flying      3\n",
       "Bug       Grass       3\n",
       "          Poison      3\n",
       "          Steel       3\n",
       "Dark      Dragon      3\n",
       "Ghost     Fire        3\n",
       "Psychic   Flying      3\n",
       "Dragon    Ice         3\n",
       "Ground    Flying      2\n",
       "          Ghost       2\n",
       "Normal    Grass       2\n",
       "Bug       Electric    2\n",
       "          Fire        2\n",
       "Water     Fighting    2\n",
       "          Flying      2\n",
       "          Ghost       2\n",
       "          Ground      2\n",
       "Rock      Flying      2\n",
       "Grass     Steel       2\n",
       "          Poison      2\n",
       "Fire      Fighting    2\n",
       "Bug       Rock        2\n",
       "Dark      Fighting    2\n",
       "          Flying      2\n",
       "          Steel       2\n",
       "Water     Rock        2\n",
       "Grass     Fairy       2\n",
       "Fire      Psychic     1\n",
       "Normal    Fighting    1\n",
       "          Psychic     1\n",
       "Ground    Electric    1\n",
       "Dragon    Fire        1\n",
       "Rock      Fighting    1\n",
       "Dragon    Electric    1\n",
       "Steel     Fighting    1\n",
       "Normal    Fairy       1\n",
       "Ground    Steel       1\n",
       "Grass     Fighting    1\n",
       "Psychic   Fire        1\n",
       "Name: count, dtype: int64"
      ]
     },
     "execution_count": 14,
     "metadata": {},
     "output_type": "execute_result"
    }
   ],
   "source": [
    "df_pokemon[df_pokemon['Generation'] == 5]['Type 1'].value_counts()\n",
    "df_pokemon[df_pokemon['Generation'] == 5]['Type 2'].value_counts()\n",
    "df_pokemon[df_pokemon['Generation'] == 5][['Type 1','Type 2']].value_counts()"
   ]
  },
  {
   "cell_type": "code",
   "execution_count": 15,
   "id": "fcace949",
   "metadata": {
    "execution": {
     "iopub.execute_input": "2024-03-14T19:41:53.270897Z",
     "iopub.status.busy": "2024-03-14T19:41:53.270263Z",
     "iopub.status.idle": "2024-03-14T19:41:53.285294Z",
     "shell.execute_reply": "2024-03-14T19:41:53.284599Z"
    },
    "papermill": {
     "duration": 0.02603,
     "end_time": "2024-03-14T19:41:53.286884",
     "exception": false,
     "start_time": "2024-03-14T19:41:53.260854",
     "status": "completed"
    },
    "tags": []
   },
   "outputs": [
    {
     "data": {
      "text/plain": [
       "Type 1\n",
       "Ghost       10\n",
       "Rock         9\n",
       "Fairy        9\n",
       "Fire         8\n",
       "Grass        5\n",
       "Psychic      5\n",
       "Steel        5\n",
       "Water        5\n",
       "Normal       4\n",
       "Dragon       4\n",
       "Fighting     3\n",
       "Bug          3\n",
       "Dark         3\n",
       "Electric     3\n",
       "Poison       2\n",
       "Ice          2\n",
       "Flying       2\n",
       "Name: count, dtype: int64"
      ]
     },
     "execution_count": 15,
     "metadata": {},
     "output_type": "execute_result"
    },
    {
     "data": {
      "text/plain": [
       "Type 2\n",
       "Grass       10\n",
       "Flying       6\n",
       "Ghost        5\n",
       "Dragon       5\n",
       "Fairy        5\n",
       "Normal       4\n",
       "Water        4\n",
       "Psychic      3\n",
       "Dark         3\n",
       "Ground       2\n",
       "Ice          2\n",
       "Fighting     1\n",
       "Name: count, dtype: int64"
      ]
     },
     "execution_count": 15,
     "metadata": {},
     "output_type": "execute_result"
    },
    {
     "data": {
      "text/plain": [
       "Type 1    Type 2  \n",
       "Ghost     Grass       10\n",
       "Steel     Ghost        4\n",
       "Rock      Fairy        3\n",
       "Fire      Flying       2\n",
       "Dark      Psychic      2\n",
       "Electric  Normal       2\n",
       "Rock      Water        2\n",
       "          Ice          2\n",
       "Fire      Normal       2\n",
       "Rock      Dragon       2\n",
       "Flying    Dragon       2\n",
       "Psychic   Dark         1\n",
       "          Ghost        1\n",
       "Bug       Flying       1\n",
       "Poison    Dragon       1\n",
       "Steel     Fairy        1\n",
       "Poison    Water        1\n",
       "Grass     Fighting     1\n",
       "Normal    Ground       1\n",
       "          Flying       1\n",
       "Dark      Flying       1\n",
       "Fire      Water        1\n",
       "          Psychic      1\n",
       "Fighting  Flying       1\n",
       "          Dark         1\n",
       "Electric  Fairy        1\n",
       "Dragon    Ground       1\n",
       "Water     Dark         1\n",
       "Name: count, dtype: int64"
      ]
     },
     "execution_count": 15,
     "metadata": {},
     "output_type": "execute_result"
    }
   ],
   "source": [
    "df_pokemon[df_pokemon['Generation'] == 6]['Type 1'].value_counts()\n",
    "df_pokemon[df_pokemon['Generation'] == 6]['Type 2'].value_counts()\n",
    "df_pokemon[df_pokemon['Generation'] == 6][['Type 1','Type 2']].value_counts()"
   ]
  },
  {
   "cell_type": "markdown",
   "id": "8050d912",
   "metadata": {
    "papermill": {
     "duration": 0.008846,
     "end_time": "2024-03-14T19:41:53.305300",
     "exception": false,
     "start_time": "2024-03-14T19:41:53.296454",
     "status": "completed"
    },
    "tags": []
   },
   "source": [
    "## legendary"
   ]
  },
  {
   "cell_type": "code",
   "execution_count": 16,
   "id": "ad3cdc96",
   "metadata": {
    "execution": {
     "iopub.execute_input": "2024-03-14T19:41:53.324936Z",
     "iopub.status.busy": "2024-03-14T19:41:53.324229Z",
     "iopub.status.idle": "2024-03-14T19:41:53.331935Z",
     "shell.execute_reply": "2024-03-14T19:41:53.331179Z"
    },
    "papermill": {
     "duration": 0.019295,
     "end_time": "2024-03-14T19:41:53.333589",
     "exception": false,
     "start_time": "2024-03-14T19:41:53.314294",
     "status": "completed"
    },
    "tags": []
   },
   "outputs": [
    {
     "data": {
      "text/plain": [
       "Legendary\n",
       "False    735\n",
       "True      65\n",
       "Name: count, dtype: int64"
      ]
     },
     "execution_count": 16,
     "metadata": {},
     "output_type": "execute_result"
    }
   ],
   "source": [
    "df_pokemon['Legendary'].value_counts()"
   ]
  },
  {
   "cell_type": "markdown",
   "id": "d4453204",
   "metadata": {
    "papermill": {
     "duration": 0.008936,
     "end_time": "2024-03-14T19:41:53.351723",
     "exception": false,
     "start_time": "2024-03-14T19:41:53.342787",
     "status": "completed"
    },
    "tags": []
   },
   "source": [
    "### for legendary checking for generations and types"
   ]
  },
  {
   "cell_type": "code",
   "execution_count": 17,
   "id": "a9f1a973",
   "metadata": {
    "execution": {
     "iopub.execute_input": "2024-03-14T19:41:53.371501Z",
     "iopub.status.busy": "2024-03-14T19:41:53.371233Z",
     "iopub.status.idle": "2024-03-14T19:41:53.378308Z",
     "shell.execute_reply": "2024-03-14T19:41:53.377474Z"
    },
    "papermill": {
     "duration": 0.018898,
     "end_time": "2024-03-14T19:41:53.379886",
     "exception": false,
     "start_time": "2024-03-14T19:41:53.360988",
     "status": "completed"
    },
    "tags": []
   },
   "outputs": [
    {
     "data": {
      "text/plain": [
       "Generation\n",
       "3    18\n",
       "5    15\n",
       "4    13\n",
       "6     8\n",
       "1     6\n",
       "2     5\n",
       "Name: count, dtype: int64"
      ]
     },
     "execution_count": 17,
     "metadata": {},
     "output_type": "execute_result"
    }
   ],
   "source": [
    "df_pokemon[df_pokemon['Legendary'] == True]['Generation'].value_counts()"
   ]
  },
  {
   "cell_type": "code",
   "execution_count": 18,
   "id": "4083550f",
   "metadata": {
    "execution": {
     "iopub.execute_input": "2024-03-14T19:41:53.400259Z",
     "iopub.status.busy": "2024-03-14T19:41:53.399739Z",
     "iopub.status.idle": "2024-03-14T19:41:53.415856Z",
     "shell.execute_reply": "2024-03-14T19:41:53.415246Z"
    },
    "papermill": {
     "duration": 0.027983,
     "end_time": "2024-03-14T19:41:53.417449",
     "exception": false,
     "start_time": "2024-03-14T19:41:53.389466",
     "status": "completed"
    },
    "tags": []
   },
   "outputs": [
    {
     "data": {
      "text/plain": [
       "Type 1\n",
       "Psychic     14\n",
       "Dragon      12\n",
       "Fire         5\n",
       "Electric     4\n",
       "Water        4\n",
       "Rock         4\n",
       "Steel        4\n",
       "Ground       4\n",
       "Grass        3\n",
       "Ice          2\n",
       "Normal       2\n",
       "Ghost        2\n",
       "Dark         2\n",
       "Flying       2\n",
       "Fairy        1\n",
       "Name: count, dtype: int64"
      ]
     },
     "execution_count": 18,
     "metadata": {},
     "output_type": "execute_result"
    },
    {
     "data": {
      "text/plain": [
       "Type 2\n",
       "Flying      13\n",
       "Psychic      5\n",
       "Fighting     4\n",
       "Dragon       4\n",
       "Fire         3\n",
       "Ice          3\n",
       "Fairy        2\n",
       "Steel        1\n",
       "Electric     1\n",
       "Ground       1\n",
       "Ghost        1\n",
       "Dark         1\n",
       "Water        1\n",
       "Name: count, dtype: int64"
      ]
     },
     "execution_count": 18,
     "metadata": {},
     "output_type": "execute_result"
    },
    {
     "data": {
      "text/plain": [
       "Type 1    Type 2  \n",
       "Dragon    Psychic     4\n",
       "          Ice         3\n",
       "Electric  Flying      3\n",
       "Fire      Flying      2\n",
       "Ghost     Dragon      2\n",
       "Ground    Flying      2\n",
       "Dragon    Flying      2\n",
       "Rock      Fairy       2\n",
       "Psychic   Flying      1\n",
       "          Ghost       1\n",
       "Dark      Flying      1\n",
       "Rock      Fighting    1\n",
       "Steel     Dragon      1\n",
       "Psychic   Fighting    1\n",
       "Steel     Fighting    1\n",
       "          Psychic     1\n",
       "Psychic   Fire        1\n",
       "Ground    Fire        1\n",
       "Psychic   Dark        1\n",
       "Ice       Flying      1\n",
       "Dragon    Electric    1\n",
       "Grass     Flying      1\n",
       "          Fighting    1\n",
       "Fire      Water       1\n",
       "          Steel       1\n",
       "Dragon    Ground      1\n",
       "          Fire        1\n",
       "Water     Dragon      1\n",
       "Name: count, dtype: int64"
      ]
     },
     "execution_count": 18,
     "metadata": {},
     "output_type": "execute_result"
    }
   ],
   "source": [
    "df_pokemon[df_pokemon['Legendary'] == True]['Type 1'].value_counts()\n",
    "df_pokemon[df_pokemon['Legendary'] == True]['Type 2'].value_counts()\n",
    "df_pokemon[df_pokemon['Legendary'] == True][['Type 1','Type 2']].value_counts()"
   ]
  },
  {
   "cell_type": "markdown",
   "id": "bcda9241",
   "metadata": {
    "papermill": {
     "duration": 0.009407,
     "end_time": "2024-03-14T19:41:53.436755",
     "exception": false,
     "start_time": "2024-03-14T19:41:53.427348",
     "status": "completed"
    },
    "tags": []
   },
   "source": [
    "# Channging column names for convenience"
   ]
  },
  {
   "cell_type": "code",
   "execution_count": 19,
   "id": "6d46f0ff",
   "metadata": {
    "execution": {
     "iopub.execute_input": "2024-03-14T19:41:53.457345Z",
     "iopub.status.busy": "2024-03-14T19:41:53.456827Z",
     "iopub.status.idle": "2024-03-14T19:41:53.462203Z",
     "shell.execute_reply": "2024-03-14T19:41:53.461295Z"
    },
    "papermill": {
     "duration": 0.01752,
     "end_time": "2024-03-14T19:41:53.463750",
     "exception": false,
     "start_time": "2024-03-14T19:41:53.446230",
     "status": "completed"
    },
    "tags": []
   },
   "outputs": [
    {
     "data": {
      "text/plain": [
       "['#',\n",
       " 'Name',\n",
       " 'Type 1',\n",
       " 'Type 2',\n",
       " 'HP',\n",
       " 'Attack',\n",
       " 'Defense',\n",
       " 'Sp. Atk',\n",
       " 'Sp. Def',\n",
       " 'Speed',\n",
       " 'Generation',\n",
       " 'Legendary']"
      ]
     },
     "execution_count": 19,
     "metadata": {},
     "output_type": "execute_result"
    }
   ],
   "source": [
    "df_pokemon.columns.tolist()"
   ]
  },
  {
   "cell_type": "markdown",
   "id": "f27381f4",
   "metadata": {
    "papermill": {
     "duration": 0.009478,
     "end_time": "2024-03-14T19:41:53.483190",
     "exception": false,
     "start_time": "2024-03-14T19:41:53.473712",
     "status": "completed"
    },
    "tags": []
   },
   "source": [
    "## column name converted to lowercase"
   ]
  },
  {
   "cell_type": "code",
   "execution_count": 20,
   "id": "81b1ab94",
   "metadata": {
    "execution": {
     "iopub.execute_input": "2024-03-14T19:41:53.503972Z",
     "iopub.status.busy": "2024-03-14T19:41:53.503681Z",
     "iopub.status.idle": "2024-03-14T19:41:53.508737Z",
     "shell.execute_reply": "2024-03-14T19:41:53.507983Z"
    },
    "papermill": {
     "duration": 0.017633,
     "end_time": "2024-03-14T19:41:53.510507",
     "exception": false,
     "start_time": "2024-03-14T19:41:53.492874",
     "status": "completed"
    },
    "tags": []
   },
   "outputs": [],
   "source": [
    "df_pokemon.columns = df_pokemon.columns.str.lower()"
   ]
  },
  {
   "cell_type": "code",
   "execution_count": 21,
   "id": "69475b91",
   "metadata": {
    "execution": {
     "iopub.execute_input": "2024-03-14T19:41:53.531061Z",
     "iopub.status.busy": "2024-03-14T19:41:53.530795Z",
     "iopub.status.idle": "2024-03-14T19:41:53.543095Z",
     "shell.execute_reply": "2024-03-14T19:41:53.542357Z"
    },
    "papermill": {
     "duration": 0.024389,
     "end_time": "2024-03-14T19:41:53.544689",
     "exception": false,
     "start_time": "2024-03-14T19:41:53.520300",
     "status": "completed"
    },
    "tags": []
   },
   "outputs": [
    {
     "data": {
      "text/html": [
       "<div>\n",
       "<style scoped>\n",
       "    .dataframe tbody tr th:only-of-type {\n",
       "        vertical-align: middle;\n",
       "    }\n",
       "\n",
       "    .dataframe tbody tr th {\n",
       "        vertical-align: top;\n",
       "    }\n",
       "\n",
       "    .dataframe thead th {\n",
       "        text-align: right;\n",
       "    }\n",
       "</style>\n",
       "<table border=\"1\" class=\"dataframe\">\n",
       "  <thead>\n",
       "    <tr style=\"text-align: right;\">\n",
       "      <th></th>\n",
       "      <th>#</th>\n",
       "      <th>name</th>\n",
       "      <th>type 1</th>\n",
       "      <th>type 2</th>\n",
       "      <th>hp</th>\n",
       "      <th>attack</th>\n",
       "      <th>defense</th>\n",
       "      <th>sp. atk</th>\n",
       "      <th>sp. def</th>\n",
       "      <th>speed</th>\n",
       "      <th>generation</th>\n",
       "      <th>legendary</th>\n",
       "    </tr>\n",
       "  </thead>\n",
       "  <tbody>\n",
       "    <tr>\n",
       "      <th>0</th>\n",
       "      <td>1</td>\n",
       "      <td>Bulbasaur</td>\n",
       "      <td>Grass</td>\n",
       "      <td>Poison</td>\n",
       "      <td>45</td>\n",
       "      <td>49</td>\n",
       "      <td>49</td>\n",
       "      <td>65</td>\n",
       "      <td>65</td>\n",
       "      <td>45</td>\n",
       "      <td>1</td>\n",
       "      <td>False</td>\n",
       "    </tr>\n",
       "    <tr>\n",
       "      <th>1</th>\n",
       "      <td>2</td>\n",
       "      <td>Ivysaur</td>\n",
       "      <td>Grass</td>\n",
       "      <td>Poison</td>\n",
       "      <td>60</td>\n",
       "      <td>62</td>\n",
       "      <td>63</td>\n",
       "      <td>80</td>\n",
       "      <td>80</td>\n",
       "      <td>60</td>\n",
       "      <td>1</td>\n",
       "      <td>False</td>\n",
       "    </tr>\n",
       "    <tr>\n",
       "      <th>2</th>\n",
       "      <td>3</td>\n",
       "      <td>Venusaur</td>\n",
       "      <td>Grass</td>\n",
       "      <td>Poison</td>\n",
       "      <td>80</td>\n",
       "      <td>82</td>\n",
       "      <td>83</td>\n",
       "      <td>100</td>\n",
       "      <td>100</td>\n",
       "      <td>80</td>\n",
       "      <td>1</td>\n",
       "      <td>False</td>\n",
       "    </tr>\n",
       "    <tr>\n",
       "      <th>3</th>\n",
       "      <td>4</td>\n",
       "      <td>Mega Venusaur</td>\n",
       "      <td>Grass</td>\n",
       "      <td>Poison</td>\n",
       "      <td>80</td>\n",
       "      <td>100</td>\n",
       "      <td>123</td>\n",
       "      <td>122</td>\n",
       "      <td>120</td>\n",
       "      <td>80</td>\n",
       "      <td>1</td>\n",
       "      <td>False</td>\n",
       "    </tr>\n",
       "    <tr>\n",
       "      <th>4</th>\n",
       "      <td>5</td>\n",
       "      <td>Charmander</td>\n",
       "      <td>Fire</td>\n",
       "      <td>NaN</td>\n",
       "      <td>39</td>\n",
       "      <td>52</td>\n",
       "      <td>43</td>\n",
       "      <td>60</td>\n",
       "      <td>50</td>\n",
       "      <td>65</td>\n",
       "      <td>1</td>\n",
       "      <td>False</td>\n",
       "    </tr>\n",
       "    <tr>\n",
       "      <th>...</th>\n",
       "      <td>...</td>\n",
       "      <td>...</td>\n",
       "      <td>...</td>\n",
       "      <td>...</td>\n",
       "      <td>...</td>\n",
       "      <td>...</td>\n",
       "      <td>...</td>\n",
       "      <td>...</td>\n",
       "      <td>...</td>\n",
       "      <td>...</td>\n",
       "      <td>...</td>\n",
       "      <td>...</td>\n",
       "    </tr>\n",
       "    <tr>\n",
       "      <th>795</th>\n",
       "      <td>796</td>\n",
       "      <td>Diancie</td>\n",
       "      <td>Rock</td>\n",
       "      <td>Fairy</td>\n",
       "      <td>50</td>\n",
       "      <td>100</td>\n",
       "      <td>150</td>\n",
       "      <td>100</td>\n",
       "      <td>150</td>\n",
       "      <td>50</td>\n",
       "      <td>6</td>\n",
       "      <td>True</td>\n",
       "    </tr>\n",
       "    <tr>\n",
       "      <th>796</th>\n",
       "      <td>797</td>\n",
       "      <td>Mega Diancie</td>\n",
       "      <td>Rock</td>\n",
       "      <td>Fairy</td>\n",
       "      <td>50</td>\n",
       "      <td>160</td>\n",
       "      <td>110</td>\n",
       "      <td>160</td>\n",
       "      <td>110</td>\n",
       "      <td>110</td>\n",
       "      <td>6</td>\n",
       "      <td>True</td>\n",
       "    </tr>\n",
       "    <tr>\n",
       "      <th>797</th>\n",
       "      <td>798</td>\n",
       "      <td>Hoopa Confined</td>\n",
       "      <td>Psychic</td>\n",
       "      <td>Ghost</td>\n",
       "      <td>80</td>\n",
       "      <td>110</td>\n",
       "      <td>60</td>\n",
       "      <td>150</td>\n",
       "      <td>130</td>\n",
       "      <td>70</td>\n",
       "      <td>6</td>\n",
       "      <td>True</td>\n",
       "    </tr>\n",
       "    <tr>\n",
       "      <th>798</th>\n",
       "      <td>799</td>\n",
       "      <td>Hoopa Unbound</td>\n",
       "      <td>Psychic</td>\n",
       "      <td>Dark</td>\n",
       "      <td>80</td>\n",
       "      <td>160</td>\n",
       "      <td>60</td>\n",
       "      <td>170</td>\n",
       "      <td>130</td>\n",
       "      <td>80</td>\n",
       "      <td>6</td>\n",
       "      <td>True</td>\n",
       "    </tr>\n",
       "    <tr>\n",
       "      <th>799</th>\n",
       "      <td>800</td>\n",
       "      <td>Volcanion</td>\n",
       "      <td>Fire</td>\n",
       "      <td>Water</td>\n",
       "      <td>80</td>\n",
       "      <td>110</td>\n",
       "      <td>120</td>\n",
       "      <td>130</td>\n",
       "      <td>90</td>\n",
       "      <td>70</td>\n",
       "      <td>6</td>\n",
       "      <td>True</td>\n",
       "    </tr>\n",
       "  </tbody>\n",
       "</table>\n",
       "<p>800 rows × 12 columns</p>\n",
       "</div>"
      ],
      "text/plain": [
       "       #            name   type 1  type 2  hp  attack  defense  sp. atk  \\\n",
       "0      1       Bulbasaur    Grass  Poison  45      49       49       65   \n",
       "1      2         Ivysaur    Grass  Poison  60      62       63       80   \n",
       "2      3        Venusaur    Grass  Poison  80      82       83      100   \n",
       "3      4   Mega Venusaur    Grass  Poison  80     100      123      122   \n",
       "4      5      Charmander     Fire     NaN  39      52       43       60   \n",
       "..   ...             ...      ...     ...  ..     ...      ...      ...   \n",
       "795  796         Diancie     Rock   Fairy  50     100      150      100   \n",
       "796  797    Mega Diancie     Rock   Fairy  50     160      110      160   \n",
       "797  798  Hoopa Confined  Psychic   Ghost  80     110       60      150   \n",
       "798  799   Hoopa Unbound  Psychic    Dark  80     160       60      170   \n",
       "799  800       Volcanion     Fire   Water  80     110      120      130   \n",
       "\n",
       "     sp. def  speed  generation  legendary  \n",
       "0         65     45           1      False  \n",
       "1         80     60           1      False  \n",
       "2        100     80           1      False  \n",
       "3        120     80           1      False  \n",
       "4         50     65           1      False  \n",
       "..       ...    ...         ...        ...  \n",
       "795      150     50           6       True  \n",
       "796      110    110           6       True  \n",
       "797      130     70           6       True  \n",
       "798      130     80           6       True  \n",
       "799       90     70           6       True  \n",
       "\n",
       "[800 rows x 12 columns]"
      ]
     },
     "execution_count": 21,
     "metadata": {},
     "output_type": "execute_result"
    }
   ],
   "source": [
    "df_pokemon"
   ]
  },
  {
   "cell_type": "markdown",
   "id": "2b5634b8",
   "metadata": {
    "papermill": {
     "duration": 0.009817,
     "end_time": "2024-03-14T19:41:53.564797",
     "exception": false,
     "start_time": "2024-03-14T19:41:53.554980",
     "status": "completed"
    },
    "tags": []
   },
   "source": [
    "# ANALYSIS"
   ]
  },
  {
   "cell_type": "markdown",
   "id": "8f292407",
   "metadata": {
    "papermill": {
     "duration": 0.009812,
     "end_time": "2024-03-14T19:41:53.584622",
     "exception": false,
     "start_time": "2024-03-14T19:41:53.574810",
     "status": "completed"
    },
    "tags": []
   },
   "source": [
    "## Goal --> Form Team"
   ]
  },
  {
   "cell_type": "markdown",
   "id": "e4657903",
   "metadata": {
    "papermill": {
     "duration": 0.009773,
     "end_time": "2024-03-14T19:41:53.604270",
     "exception": false,
     "start_time": "2024-03-14T19:41:53.594497",
     "status": "completed"
    },
    "tags": []
   },
   "source": [
    "> check values for all stats --> check for pokemon having lowest, highest<br>\n",
    "> create more features\n",
    "> check generations for more than median and types<br>\n",
    "> check best in different generations<br>\n",
    "> check how many mega evolutions<br>\n",
    "> correlation between mega evolutions and stats<br>\n",
    "> correlation between 2 types and stats<br>\n",
    "> correlation between different types and stats<br>\n",
    "> correlation between legendary and stats<br>\n",
    "> correlation between number of types and legendaries<br>\n"
   ]
  },
  {
   "cell_type": "code",
   "execution_count": 22,
   "id": "44f81538",
   "metadata": {
    "execution": {
     "iopub.execute_input": "2024-03-14T19:41:53.665528Z",
     "iopub.status.busy": "2024-03-14T19:41:53.665233Z",
     "iopub.status.idle": "2024-03-14T19:41:53.690567Z",
     "shell.execute_reply": "2024-03-14T19:41:53.689349Z"
    },
    "papermill": {
     "duration": 0.07782,
     "end_time": "2024-03-14T19:41:53.692075",
     "exception": false,
     "start_time": "2024-03-14T19:41:53.614255",
     "status": "completed"
    },
    "tags": []
   },
   "outputs": [
    {
     "data": {
      "text/html": [
       "<div>\n",
       "<style scoped>\n",
       "    .dataframe tbody tr th:only-of-type {\n",
       "        vertical-align: middle;\n",
       "    }\n",
       "\n",
       "    .dataframe tbody tr th {\n",
       "        vertical-align: top;\n",
       "    }\n",
       "\n",
       "    .dataframe thead th {\n",
       "        text-align: right;\n",
       "    }\n",
       "</style>\n",
       "<table border=\"1\" class=\"dataframe\">\n",
       "  <thead>\n",
       "    <tr style=\"text-align: right;\">\n",
       "      <th></th>\n",
       "      <th>#</th>\n",
       "      <th>hp</th>\n",
       "      <th>attack</th>\n",
       "      <th>defense</th>\n",
       "      <th>sp. atk</th>\n",
       "      <th>sp. def</th>\n",
       "      <th>speed</th>\n",
       "      <th>generation</th>\n",
       "    </tr>\n",
       "  </thead>\n",
       "  <tbody>\n",
       "    <tr>\n",
       "      <th>count</th>\n",
       "      <td>800.0000</td>\n",
       "      <td>800.000000</td>\n",
       "      <td>800.000000</td>\n",
       "      <td>800.000000</td>\n",
       "      <td>800.000000</td>\n",
       "      <td>800.000000</td>\n",
       "      <td>800.000000</td>\n",
       "      <td>800.00000</td>\n",
       "    </tr>\n",
       "    <tr>\n",
       "      <th>mean</th>\n",
       "      <td>400.5000</td>\n",
       "      <td>69.258750</td>\n",
       "      <td>79.001250</td>\n",
       "      <td>73.842500</td>\n",
       "      <td>72.820000</td>\n",
       "      <td>71.902500</td>\n",
       "      <td>68.277500</td>\n",
       "      <td>3.32375</td>\n",
       "    </tr>\n",
       "    <tr>\n",
       "      <th>std</th>\n",
       "      <td>231.0844</td>\n",
       "      <td>25.534669</td>\n",
       "      <td>32.457366</td>\n",
       "      <td>31.183501</td>\n",
       "      <td>32.722294</td>\n",
       "      <td>27.828916</td>\n",
       "      <td>29.060474</td>\n",
       "      <td>1.66129</td>\n",
       "    </tr>\n",
       "    <tr>\n",
       "      <th>min</th>\n",
       "      <td>1.0000</td>\n",
       "      <td>1.000000</td>\n",
       "      <td>5.000000</td>\n",
       "      <td>5.000000</td>\n",
       "      <td>10.000000</td>\n",
       "      <td>20.000000</td>\n",
       "      <td>5.000000</td>\n",
       "      <td>1.00000</td>\n",
       "    </tr>\n",
       "    <tr>\n",
       "      <th>10%</th>\n",
       "      <td>80.9000</td>\n",
       "      <td>40.000000</td>\n",
       "      <td>40.000000</td>\n",
       "      <td>40.000000</td>\n",
       "      <td>35.000000</td>\n",
       "      <td>40.000000</td>\n",
       "      <td>30.000000</td>\n",
       "      <td>1.00000</td>\n",
       "    </tr>\n",
       "    <tr>\n",
       "      <th>25%</th>\n",
       "      <td>200.7500</td>\n",
       "      <td>50.000000</td>\n",
       "      <td>55.000000</td>\n",
       "      <td>50.000000</td>\n",
       "      <td>49.750000</td>\n",
       "      <td>50.000000</td>\n",
       "      <td>45.000000</td>\n",
       "      <td>2.00000</td>\n",
       "    </tr>\n",
       "    <tr>\n",
       "      <th>50%</th>\n",
       "      <td>400.5000</td>\n",
       "      <td>65.000000</td>\n",
       "      <td>75.000000</td>\n",
       "      <td>70.000000</td>\n",
       "      <td>65.000000</td>\n",
       "      <td>70.000000</td>\n",
       "      <td>65.000000</td>\n",
       "      <td>3.00000</td>\n",
       "    </tr>\n",
       "    <tr>\n",
       "      <th>75%</th>\n",
       "      <td>600.2500</td>\n",
       "      <td>80.000000</td>\n",
       "      <td>100.000000</td>\n",
       "      <td>90.000000</td>\n",
       "      <td>95.000000</td>\n",
       "      <td>90.000000</td>\n",
       "      <td>90.000000</td>\n",
       "      <td>5.00000</td>\n",
       "    </tr>\n",
       "    <tr>\n",
       "      <th>80%</th>\n",
       "      <td>640.2000</td>\n",
       "      <td>89.000000</td>\n",
       "      <td>105.000000</td>\n",
       "      <td>95.000000</td>\n",
       "      <td>100.000000</td>\n",
       "      <td>95.000000</td>\n",
       "      <td>95.000000</td>\n",
       "      <td>5.00000</td>\n",
       "    </tr>\n",
       "    <tr>\n",
       "      <th>90%</th>\n",
       "      <td>720.1000</td>\n",
       "      <td>100.000000</td>\n",
       "      <td>125.000000</td>\n",
       "      <td>115.000000</td>\n",
       "      <td>120.000000</td>\n",
       "      <td>107.000000</td>\n",
       "      <td>106.000000</td>\n",
       "      <td>6.00000</td>\n",
       "    </tr>\n",
       "    <tr>\n",
       "      <th>95%</th>\n",
       "      <td>760.0500</td>\n",
       "      <td>110.000000</td>\n",
       "      <td>136.200000</td>\n",
       "      <td>130.000000</td>\n",
       "      <td>131.050000</td>\n",
       "      <td>120.000000</td>\n",
       "      <td>115.000000</td>\n",
       "      <td>6.00000</td>\n",
       "    </tr>\n",
       "    <tr>\n",
       "      <th>max</th>\n",
       "      <td>800.0000</td>\n",
       "      <td>255.000000</td>\n",
       "      <td>190.000000</td>\n",
       "      <td>230.000000</td>\n",
       "      <td>194.000000</td>\n",
       "      <td>230.000000</td>\n",
       "      <td>180.000000</td>\n",
       "      <td>6.00000</td>\n",
       "    </tr>\n",
       "  </tbody>\n",
       "</table>\n",
       "</div>"
      ],
      "text/plain": [
       "              #          hp      attack     defense     sp. atk     sp. def  \\\n",
       "count  800.0000  800.000000  800.000000  800.000000  800.000000  800.000000   \n",
       "mean   400.5000   69.258750   79.001250   73.842500   72.820000   71.902500   \n",
       "std    231.0844   25.534669   32.457366   31.183501   32.722294   27.828916   \n",
       "min      1.0000    1.000000    5.000000    5.000000   10.000000   20.000000   \n",
       "10%     80.9000   40.000000   40.000000   40.000000   35.000000   40.000000   \n",
       "25%    200.7500   50.000000   55.000000   50.000000   49.750000   50.000000   \n",
       "50%    400.5000   65.000000   75.000000   70.000000   65.000000   70.000000   \n",
       "75%    600.2500   80.000000  100.000000   90.000000   95.000000   90.000000   \n",
       "80%    640.2000   89.000000  105.000000   95.000000  100.000000   95.000000   \n",
       "90%    720.1000  100.000000  125.000000  115.000000  120.000000  107.000000   \n",
       "95%    760.0500  110.000000  136.200000  130.000000  131.050000  120.000000   \n",
       "max    800.0000  255.000000  190.000000  230.000000  194.000000  230.000000   \n",
       "\n",
       "            speed  generation  \n",
       "count  800.000000   800.00000  \n",
       "mean    68.277500     3.32375  \n",
       "std     29.060474     1.66129  \n",
       "min      5.000000     1.00000  \n",
       "10%     30.000000     1.00000  \n",
       "25%     45.000000     2.00000  \n",
       "50%     65.000000     3.00000  \n",
       "75%     90.000000     5.00000  \n",
       "80%     95.000000     5.00000  \n",
       "90%    106.000000     6.00000  \n",
       "95%    115.000000     6.00000  \n",
       "max    180.000000     6.00000  "
      ]
     },
     "execution_count": 22,
     "metadata": {},
     "output_type": "execute_result"
    }
   ],
   "source": [
    "df_pokemon.describe(percentiles=[0.10,0.25,0.50,0.75,0.80,0.90,0.95])"
   ]
  },
  {
   "cell_type": "code",
   "execution_count": 23,
   "id": "27b5a2b8",
   "metadata": {
    "execution": {
     "iopub.execute_input": "2024-03-14T19:41:53.714138Z",
     "iopub.status.busy": "2024-03-14T19:41:53.713562Z",
     "iopub.status.idle": "2024-03-14T19:41:53.763885Z",
     "shell.execute_reply": "2024-03-14T19:41:53.763165Z"
    },
    "papermill": {
     "duration": 0.063354,
     "end_time": "2024-03-14T19:41:53.765999",
     "exception": false,
     "start_time": "2024-03-14T19:41:53.702645",
     "status": "completed"
    },
    "tags": []
   },
   "outputs": [
    {
     "name": "stdout",
     "output_type": "stream",
     "text": [
      "hp lowest\n"
     ]
    },
    {
     "data": {
      "text/html": [
       "<div>\n",
       "<style scoped>\n",
       "    .dataframe tbody tr th:only-of-type {\n",
       "        vertical-align: middle;\n",
       "    }\n",
       "\n",
       "    .dataframe tbody tr th {\n",
       "        vertical-align: top;\n",
       "    }\n",
       "\n",
       "    .dataframe thead th {\n",
       "        text-align: right;\n",
       "    }\n",
       "</style>\n",
       "<table border=\"1\" class=\"dataframe\">\n",
       "  <thead>\n",
       "    <tr style=\"text-align: right;\">\n",
       "      <th></th>\n",
       "      <th>#</th>\n",
       "      <th>name</th>\n",
       "      <th>type 1</th>\n",
       "      <th>type 2</th>\n",
       "      <th>hp</th>\n",
       "      <th>attack</th>\n",
       "      <th>defense</th>\n",
       "      <th>sp. atk</th>\n",
       "      <th>sp. def</th>\n",
       "      <th>speed</th>\n",
       "      <th>generation</th>\n",
       "      <th>legendary</th>\n",
       "    </tr>\n",
       "  </thead>\n",
       "  <tbody>\n",
       "    <tr>\n",
       "      <th>316</th>\n",
       "      <td>317</td>\n",
       "      <td>Shedinja</td>\n",
       "      <td>Bug</td>\n",
       "      <td>Ghost</td>\n",
       "      <td>1</td>\n",
       "      <td>90</td>\n",
       "      <td>45</td>\n",
       "      <td>30</td>\n",
       "      <td>30</td>\n",
       "      <td>40</td>\n",
       "      <td>3</td>\n",
       "      <td>False</td>\n",
       "    </tr>\n",
       "  </tbody>\n",
       "</table>\n",
       "</div>"
      ],
      "text/plain": [
       "       #      name type 1 type 2  hp  attack  defense  sp. atk  sp. def  \\\n",
       "316  317  Shedinja    Bug  Ghost   1      90       45       30       30   \n",
       "\n",
       "     speed  generation  legendary  \n",
       "316     40           3      False  "
      ]
     },
     "execution_count": 23,
     "metadata": {},
     "output_type": "execute_result"
    },
    {
     "name": "stdout",
     "output_type": "stream",
     "text": [
      "attack lowest\n"
     ]
    },
    {
     "data": {
      "text/html": [
       "<div>\n",
       "<style scoped>\n",
       "    .dataframe tbody tr th:only-of-type {\n",
       "        vertical-align: middle;\n",
       "    }\n",
       "\n",
       "    .dataframe tbody tr th {\n",
       "        vertical-align: top;\n",
       "    }\n",
       "\n",
       "    .dataframe thead th {\n",
       "        text-align: right;\n",
       "    }\n",
       "</style>\n",
       "<table border=\"1\" class=\"dataframe\">\n",
       "  <thead>\n",
       "    <tr style=\"text-align: right;\">\n",
       "      <th></th>\n",
       "      <th>#</th>\n",
       "      <th>name</th>\n",
       "      <th>type 1</th>\n",
       "      <th>type 2</th>\n",
       "      <th>hp</th>\n",
       "      <th>attack</th>\n",
       "      <th>defense</th>\n",
       "      <th>sp. atk</th>\n",
       "      <th>sp. def</th>\n",
       "      <th>speed</th>\n",
       "      <th>generation</th>\n",
       "      <th>legendary</th>\n",
       "    </tr>\n",
       "  </thead>\n",
       "  <tbody>\n",
       "    <tr>\n",
       "      <th>121</th>\n",
       "      <td>122</td>\n",
       "      <td>Chansey</td>\n",
       "      <td>Normal</td>\n",
       "      <td>NaN</td>\n",
       "      <td>250</td>\n",
       "      <td>5</td>\n",
       "      <td>5</td>\n",
       "      <td>35</td>\n",
       "      <td>105</td>\n",
       "      <td>50</td>\n",
       "      <td>1</td>\n",
       "      <td>False</td>\n",
       "    </tr>\n",
       "    <tr>\n",
       "      <th>488</th>\n",
       "      <td>489</td>\n",
       "      <td>Happiny</td>\n",
       "      <td>Normal</td>\n",
       "      <td>NaN</td>\n",
       "      <td>100</td>\n",
       "      <td>5</td>\n",
       "      <td>5</td>\n",
       "      <td>15</td>\n",
       "      <td>65</td>\n",
       "      <td>30</td>\n",
       "      <td>4</td>\n",
       "      <td>False</td>\n",
       "    </tr>\n",
       "  </tbody>\n",
       "</table>\n",
       "</div>"
      ],
      "text/plain": [
       "       #     name  type 1 type 2   hp  attack  defense  sp. atk  sp. def  \\\n",
       "121  122  Chansey  Normal    NaN  250       5        5       35      105   \n",
       "488  489  Happiny  Normal    NaN  100       5        5       15       65   \n",
       "\n",
       "     speed  generation  legendary  \n",
       "121     50           1      False  \n",
       "488     30           4      False  "
      ]
     },
     "execution_count": 23,
     "metadata": {},
     "output_type": "execute_result"
    },
    {
     "name": "stdout",
     "output_type": "stream",
     "text": [
      "defense lowest\n"
     ]
    },
    {
     "data": {
      "text/html": [
       "<div>\n",
       "<style scoped>\n",
       "    .dataframe tbody tr th:only-of-type {\n",
       "        vertical-align: middle;\n",
       "    }\n",
       "\n",
       "    .dataframe tbody tr th {\n",
       "        vertical-align: top;\n",
       "    }\n",
       "\n",
       "    .dataframe thead th {\n",
       "        text-align: right;\n",
       "    }\n",
       "</style>\n",
       "<table border=\"1\" class=\"dataframe\">\n",
       "  <thead>\n",
       "    <tr style=\"text-align: right;\">\n",
       "      <th></th>\n",
       "      <th>#</th>\n",
       "      <th>name</th>\n",
       "      <th>type 1</th>\n",
       "      <th>type 2</th>\n",
       "      <th>hp</th>\n",
       "      <th>attack</th>\n",
       "      <th>defense</th>\n",
       "      <th>sp. atk</th>\n",
       "      <th>sp. def</th>\n",
       "      <th>speed</th>\n",
       "      <th>generation</th>\n",
       "      <th>legendary</th>\n",
       "    </tr>\n",
       "  </thead>\n",
       "  <tbody>\n",
       "    <tr>\n",
       "      <th>121</th>\n",
       "      <td>122</td>\n",
       "      <td>Chansey</td>\n",
       "      <td>Normal</td>\n",
       "      <td>NaN</td>\n",
       "      <td>250</td>\n",
       "      <td>5</td>\n",
       "      <td>5</td>\n",
       "      <td>35</td>\n",
       "      <td>105</td>\n",
       "      <td>50</td>\n",
       "      <td>1</td>\n",
       "      <td>False</td>\n",
       "    </tr>\n",
       "    <tr>\n",
       "      <th>488</th>\n",
       "      <td>489</td>\n",
       "      <td>Happiny</td>\n",
       "      <td>Normal</td>\n",
       "      <td>NaN</td>\n",
       "      <td>100</td>\n",
       "      <td>5</td>\n",
       "      <td>5</td>\n",
       "      <td>15</td>\n",
       "      <td>65</td>\n",
       "      <td>30</td>\n",
       "      <td>4</td>\n",
       "      <td>False</td>\n",
       "    </tr>\n",
       "  </tbody>\n",
       "</table>\n",
       "</div>"
      ],
      "text/plain": [
       "       #     name  type 1 type 2   hp  attack  defense  sp. atk  sp. def  \\\n",
       "121  122  Chansey  Normal    NaN  250       5        5       35      105   \n",
       "488  489  Happiny  Normal    NaN  100       5        5       15       65   \n",
       "\n",
       "     speed  generation  legendary  \n",
       "121     50           1      False  \n",
       "488     30           4      False  "
      ]
     },
     "execution_count": 23,
     "metadata": {},
     "output_type": "execute_result"
    },
    {
     "name": "stdout",
     "output_type": "stream",
     "text": [
      "sp. atk lowest\n"
     ]
    },
    {
     "data": {
      "text/html": [
       "<div>\n",
       "<style scoped>\n",
       "    .dataframe tbody tr th:only-of-type {\n",
       "        vertical-align: middle;\n",
       "    }\n",
       "\n",
       "    .dataframe tbody tr th {\n",
       "        vertical-align: top;\n",
       "    }\n",
       "\n",
       "    .dataframe thead th {\n",
       "        text-align: right;\n",
       "    }\n",
       "</style>\n",
       "<table border=\"1\" class=\"dataframe\">\n",
       "  <thead>\n",
       "    <tr style=\"text-align: right;\">\n",
       "      <th></th>\n",
       "      <th>#</th>\n",
       "      <th>name</th>\n",
       "      <th>type 1</th>\n",
       "      <th>type 2</th>\n",
       "      <th>hp</th>\n",
       "      <th>attack</th>\n",
       "      <th>defense</th>\n",
       "      <th>sp. atk</th>\n",
       "      <th>sp. def</th>\n",
       "      <th>speed</th>\n",
       "      <th>generation</th>\n",
       "      <th>legendary</th>\n",
       "    </tr>\n",
       "  </thead>\n",
       "  <tbody>\n",
       "    <tr>\n",
       "      <th>230</th>\n",
       "      <td>231</td>\n",
       "      <td>Shuckle</td>\n",
       "      <td>Bug</td>\n",
       "      <td>Rock</td>\n",
       "      <td>20</td>\n",
       "      <td>10</td>\n",
       "      <td>230</td>\n",
       "      <td>10</td>\n",
       "      <td>230</td>\n",
       "      <td>5</td>\n",
       "      <td>2</td>\n",
       "      <td>False</td>\n",
       "    </tr>\n",
       "    <tr>\n",
       "      <th>381</th>\n",
       "      <td>382</td>\n",
       "      <td>Feebas</td>\n",
       "      <td>Water</td>\n",
       "      <td>NaN</td>\n",
       "      <td>20</td>\n",
       "      <td>15</td>\n",
       "      <td>20</td>\n",
       "      <td>10</td>\n",
       "      <td>55</td>\n",
       "      <td>80</td>\n",
       "      <td>3</td>\n",
       "      <td>False</td>\n",
       "    </tr>\n",
       "    <tr>\n",
       "      <th>486</th>\n",
       "      <td>487</td>\n",
       "      <td>Bonsly</td>\n",
       "      <td>Rock</td>\n",
       "      <td>NaN</td>\n",
       "      <td>50</td>\n",
       "      <td>80</td>\n",
       "      <td>95</td>\n",
       "      <td>10</td>\n",
       "      <td>45</td>\n",
       "      <td>10</td>\n",
       "      <td>4</td>\n",
       "      <td>False</td>\n",
       "    </tr>\n",
       "  </tbody>\n",
       "</table>\n",
       "</div>"
      ],
      "text/plain": [
       "       #     name type 1 type 2  hp  attack  defense  sp. atk  sp. def  speed  \\\n",
       "230  231  Shuckle    Bug   Rock  20      10      230       10      230      5   \n",
       "381  382   Feebas  Water    NaN  20      15       20       10       55     80   \n",
       "486  487   Bonsly   Rock    NaN  50      80       95       10       45     10   \n",
       "\n",
       "     generation  legendary  \n",
       "230           2      False  \n",
       "381           3      False  \n",
       "486           4      False  "
      ]
     },
     "execution_count": 23,
     "metadata": {},
     "output_type": "execute_result"
    },
    {
     "name": "stdout",
     "output_type": "stream",
     "text": [
      "sp. def lowest\n"
     ]
    },
    {
     "data": {
      "text/html": [
       "<div>\n",
       "<style scoped>\n",
       "    .dataframe tbody tr th:only-of-type {\n",
       "        vertical-align: middle;\n",
       "    }\n",
       "\n",
       "    .dataframe tbody tr th {\n",
       "        vertical-align: top;\n",
       "    }\n",
       "\n",
       "    .dataframe thead th {\n",
       "        text-align: right;\n",
       "    }\n",
       "</style>\n",
       "<table border=\"1\" class=\"dataframe\">\n",
       "  <thead>\n",
       "    <tr style=\"text-align: right;\">\n",
       "      <th></th>\n",
       "      <th>#</th>\n",
       "      <th>name</th>\n",
       "      <th>type 1</th>\n",
       "      <th>type 2</th>\n",
       "      <th>hp</th>\n",
       "      <th>attack</th>\n",
       "      <th>defense</th>\n",
       "      <th>sp. atk</th>\n",
       "      <th>sp. def</th>\n",
       "      <th>speed</th>\n",
       "      <th>generation</th>\n",
       "      <th>legendary</th>\n",
       "    </tr>\n",
       "  </thead>\n",
       "  <tbody>\n",
       "    <tr>\n",
       "      <th>13</th>\n",
       "      <td>14</td>\n",
       "      <td>Caterpie</td>\n",
       "      <td>Bug</td>\n",
       "      <td>NaN</td>\n",
       "      <td>45</td>\n",
       "      <td>30</td>\n",
       "      <td>35</td>\n",
       "      <td>20</td>\n",
       "      <td>20</td>\n",
       "      <td>45</td>\n",
       "      <td>1</td>\n",
       "      <td>False</td>\n",
       "    </tr>\n",
       "    <tr>\n",
       "      <th>16</th>\n",
       "      <td>17</td>\n",
       "      <td>Weedle</td>\n",
       "      <td>Bug</td>\n",
       "      <td>Poison</td>\n",
       "      <td>40</td>\n",
       "      <td>35</td>\n",
       "      <td>30</td>\n",
       "      <td>20</td>\n",
       "      <td>20</td>\n",
       "      <td>50</td>\n",
       "      <td>1</td>\n",
       "      <td>False</td>\n",
       "    </tr>\n",
       "    <tr>\n",
       "      <th>139</th>\n",
       "      <td>140</td>\n",
       "      <td>Magikarp</td>\n",
       "      <td>Water</td>\n",
       "      <td>NaN</td>\n",
       "      <td>20</td>\n",
       "      <td>10</td>\n",
       "      <td>55</td>\n",
       "      <td>15</td>\n",
       "      <td>20</td>\n",
       "      <td>80</td>\n",
       "      <td>1</td>\n",
       "      <td>False</td>\n",
       "    </tr>\n",
       "    <tr>\n",
       "      <th>188</th>\n",
       "      <td>189</td>\n",
       "      <td>Igglybuff</td>\n",
       "      <td>Normal</td>\n",
       "      <td>Fairy</td>\n",
       "      <td>90</td>\n",
       "      <td>30</td>\n",
       "      <td>15</td>\n",
       "      <td>40</td>\n",
       "      <td>20</td>\n",
       "      <td>15</td>\n",
       "      <td>2</td>\n",
       "      <td>False</td>\n",
       "    </tr>\n",
       "    <tr>\n",
       "      <th>347</th>\n",
       "      <td>348</td>\n",
       "      <td>Carvanha</td>\n",
       "      <td>Water</td>\n",
       "      <td>Dark</td>\n",
       "      <td>45</td>\n",
       "      <td>90</td>\n",
       "      <td>20</td>\n",
       "      <td>65</td>\n",
       "      <td>20</td>\n",
       "      <td>65</td>\n",
       "      <td>3</td>\n",
       "      <td>False</td>\n",
       "    </tr>\n",
       "    <tr>\n",
       "      <th>429</th>\n",
       "      <td>430</td>\n",
       "      <td>DeoxysAttack Forme</td>\n",
       "      <td>Psychic</td>\n",
       "      <td>NaN</td>\n",
       "      <td>50</td>\n",
       "      <td>180</td>\n",
       "      <td>20</td>\n",
       "      <td>180</td>\n",
       "      <td>20</td>\n",
       "      <td>150</td>\n",
       "      <td>3</td>\n",
       "      <td>True</td>\n",
       "    </tr>\n",
       "  </tbody>\n",
       "</table>\n",
       "</div>"
      ],
      "text/plain": [
       "       #                name   type 1  type 2  hp  attack  defense  sp. atk  \\\n",
       "13    14            Caterpie      Bug     NaN  45      30       35       20   \n",
       "16    17              Weedle      Bug  Poison  40      35       30       20   \n",
       "139  140            Magikarp    Water     NaN  20      10       55       15   \n",
       "188  189           Igglybuff   Normal   Fairy  90      30       15       40   \n",
       "347  348            Carvanha    Water    Dark  45      90       20       65   \n",
       "429  430  DeoxysAttack Forme  Psychic     NaN  50     180       20      180   \n",
       "\n",
       "     sp. def  speed  generation  legendary  \n",
       "13        20     45           1      False  \n",
       "16        20     50           1      False  \n",
       "139       20     80           1      False  \n",
       "188       20     15           2      False  \n",
       "347       20     65           3      False  \n",
       "429       20    150           3       True  "
      ]
     },
     "execution_count": 23,
     "metadata": {},
     "output_type": "execute_result"
    },
    {
     "name": "stdout",
     "output_type": "stream",
     "text": [
      "speed lowest\n"
     ]
    },
    {
     "data": {
      "text/html": [
       "<div>\n",
       "<style scoped>\n",
       "    .dataframe tbody tr th:only-of-type {\n",
       "        vertical-align: middle;\n",
       "    }\n",
       "\n",
       "    .dataframe tbody tr th {\n",
       "        vertical-align: top;\n",
       "    }\n",
       "\n",
       "    .dataframe thead th {\n",
       "        text-align: right;\n",
       "    }\n",
       "</style>\n",
       "<table border=\"1\" class=\"dataframe\">\n",
       "  <thead>\n",
       "    <tr style=\"text-align: right;\">\n",
       "      <th></th>\n",
       "      <th>#</th>\n",
       "      <th>name</th>\n",
       "      <th>type 1</th>\n",
       "      <th>type 2</th>\n",
       "      <th>hp</th>\n",
       "      <th>attack</th>\n",
       "      <th>defense</th>\n",
       "      <th>sp. atk</th>\n",
       "      <th>sp. def</th>\n",
       "      <th>speed</th>\n",
       "      <th>generation</th>\n",
       "      <th>legendary</th>\n",
       "    </tr>\n",
       "  </thead>\n",
       "  <tbody>\n",
       "    <tr>\n",
       "      <th>230</th>\n",
       "      <td>231</td>\n",
       "      <td>Shuckle</td>\n",
       "      <td>Bug</td>\n",
       "      <td>Rock</td>\n",
       "      <td>20</td>\n",
       "      <td>10</td>\n",
       "      <td>230</td>\n",
       "      <td>10</td>\n",
       "      <td>230</td>\n",
       "      <td>5</td>\n",
       "      <td>2</td>\n",
       "      <td>False</td>\n",
       "    </tr>\n",
       "    <tr>\n",
       "      <th>495</th>\n",
       "      <td>496</td>\n",
       "      <td>Munchlax</td>\n",
       "      <td>Normal</td>\n",
       "      <td>NaN</td>\n",
       "      <td>135</td>\n",
       "      <td>85</td>\n",
       "      <td>40</td>\n",
       "      <td>40</td>\n",
       "      <td>85</td>\n",
       "      <td>5</td>\n",
       "      <td>4</td>\n",
       "      <td>False</td>\n",
       "    </tr>\n",
       "  </tbody>\n",
       "</table>\n",
       "</div>"
      ],
      "text/plain": [
       "       #      name  type 1 type 2   hp  attack  defense  sp. atk  sp. def  \\\n",
       "230  231   Shuckle     Bug   Rock   20      10      230       10      230   \n",
       "495  496  Munchlax  Normal    NaN  135      85       40       40       85   \n",
       "\n",
       "     speed  generation  legendary  \n",
       "230      5           2      False  \n",
       "495      5           4      False  "
      ]
     },
     "execution_count": 23,
     "metadata": {},
     "output_type": "execute_result"
    }
   ],
   "source": [
    "#  pokemon which has lowest following stats\n",
    "print('hp lowest')\n",
    "df_pokemon[df_pokemon['hp'] == df_pokemon['hp'].min()]\n",
    "print('attack lowest')\n",
    "df_pokemon[df_pokemon['attack'] == df_pokemon['attack'].min()]\n",
    "print('defense lowest')\n",
    "df_pokemon[df_pokemon['defense'] == df_pokemon['defense'].min()]\n",
    "print('sp. atk lowest')\n",
    "df_pokemon[df_pokemon['sp. atk'] == df_pokemon['sp. atk'].min()]\n",
    "print('sp. def lowest')\n",
    "df_pokemon[df_pokemon['sp. def'] == df_pokemon['sp. def'].min()]\n",
    "print('speed lowest')\n",
    "df_pokemon[df_pokemon['speed'] == df_pokemon['speed'].min()]"
   ]
  },
  {
   "cell_type": "code",
   "execution_count": 24,
   "id": "9ac76b36",
   "metadata": {
    "execution": {
     "iopub.execute_input": "2024-03-14T19:41:53.790414Z",
     "iopub.status.busy": "2024-03-14T19:41:53.789776Z",
     "iopub.status.idle": "2024-03-14T19:41:53.843521Z",
     "shell.execute_reply": "2024-03-14T19:41:53.842697Z"
    },
    "papermill": {
     "duration": 0.067271,
     "end_time": "2024-03-14T19:41:53.845119",
     "exception": false,
     "start_time": "2024-03-14T19:41:53.777848",
     "status": "completed"
    },
    "tags": []
   },
   "outputs": [
    {
     "name": "stdout",
     "output_type": "stream",
     "text": [
      "hp highest\n"
     ]
    },
    {
     "data": {
      "text/html": [
       "<div>\n",
       "<style scoped>\n",
       "    .dataframe tbody tr th:only-of-type {\n",
       "        vertical-align: middle;\n",
       "    }\n",
       "\n",
       "    .dataframe tbody tr th {\n",
       "        vertical-align: top;\n",
       "    }\n",
       "\n",
       "    .dataframe thead th {\n",
       "        text-align: right;\n",
       "    }\n",
       "</style>\n",
       "<table border=\"1\" class=\"dataframe\">\n",
       "  <thead>\n",
       "    <tr style=\"text-align: right;\">\n",
       "      <th></th>\n",
       "      <th>#</th>\n",
       "      <th>name</th>\n",
       "      <th>type 1</th>\n",
       "      <th>type 2</th>\n",
       "      <th>hp</th>\n",
       "      <th>attack</th>\n",
       "      <th>defense</th>\n",
       "      <th>sp. atk</th>\n",
       "      <th>sp. def</th>\n",
       "      <th>speed</th>\n",
       "      <th>generation</th>\n",
       "      <th>legendary</th>\n",
       "    </tr>\n",
       "  </thead>\n",
       "  <tbody>\n",
       "    <tr>\n",
       "      <th>261</th>\n",
       "      <td>262</td>\n",
       "      <td>Blissey</td>\n",
       "      <td>Normal</td>\n",
       "      <td>NaN</td>\n",
       "      <td>255</td>\n",
       "      <td>10</td>\n",
       "      <td>10</td>\n",
       "      <td>75</td>\n",
       "      <td>135</td>\n",
       "      <td>55</td>\n",
       "      <td>2</td>\n",
       "      <td>False</td>\n",
       "    </tr>\n",
       "  </tbody>\n",
       "</table>\n",
       "</div>"
      ],
      "text/plain": [
       "       #     name  type 1 type 2   hp  attack  defense  sp. atk  sp. def  \\\n",
       "261  262  Blissey  Normal    NaN  255      10       10       75      135   \n",
       "\n",
       "     speed  generation  legendary  \n",
       "261     55           2      False  "
      ]
     },
     "execution_count": 24,
     "metadata": {},
     "output_type": "execute_result"
    },
    {
     "name": "stdout",
     "output_type": "stream",
     "text": [
      "attack highest\n"
     ]
    },
    {
     "data": {
      "text/html": [
       "<div>\n",
       "<style scoped>\n",
       "    .dataframe tbody tr th:only-of-type {\n",
       "        vertical-align: middle;\n",
       "    }\n",
       "\n",
       "    .dataframe tbody tr th {\n",
       "        vertical-align: top;\n",
       "    }\n",
       "\n",
       "    .dataframe thead th {\n",
       "        text-align: right;\n",
       "    }\n",
       "</style>\n",
       "<table border=\"1\" class=\"dataframe\">\n",
       "  <thead>\n",
       "    <tr style=\"text-align: right;\">\n",
       "      <th></th>\n",
       "      <th>#</th>\n",
       "      <th>name</th>\n",
       "      <th>type 1</th>\n",
       "      <th>type 2</th>\n",
       "      <th>hp</th>\n",
       "      <th>attack</th>\n",
       "      <th>defense</th>\n",
       "      <th>sp. atk</th>\n",
       "      <th>sp. def</th>\n",
       "      <th>speed</th>\n",
       "      <th>generation</th>\n",
       "      <th>legendary</th>\n",
       "    </tr>\n",
       "  </thead>\n",
       "  <tbody>\n",
       "    <tr>\n",
       "      <th>163</th>\n",
       "      <td>164</td>\n",
       "      <td>Mega Mewtwo X</td>\n",
       "      <td>Psychic</td>\n",
       "      <td>Fighting</td>\n",
       "      <td>106</td>\n",
       "      <td>190</td>\n",
       "      <td>100</td>\n",
       "      <td>154</td>\n",
       "      <td>100</td>\n",
       "      <td>130</td>\n",
       "      <td>1</td>\n",
       "      <td>True</td>\n",
       "    </tr>\n",
       "  </tbody>\n",
       "</table>\n",
       "</div>"
      ],
      "text/plain": [
       "       #           name   type 1    type 2   hp  attack  defense  sp. atk  \\\n",
       "163  164  Mega Mewtwo X  Psychic  Fighting  106     190      100      154   \n",
       "\n",
       "     sp. def  speed  generation  legendary  \n",
       "163      100    130           1       True  "
      ]
     },
     "execution_count": 24,
     "metadata": {},
     "output_type": "execute_result"
    },
    {
     "name": "stdout",
     "output_type": "stream",
     "text": [
      "defense highest\n"
     ]
    },
    {
     "data": {
      "text/html": [
       "<div>\n",
       "<style scoped>\n",
       "    .dataframe tbody tr th:only-of-type {\n",
       "        vertical-align: middle;\n",
       "    }\n",
       "\n",
       "    .dataframe tbody tr th {\n",
       "        vertical-align: top;\n",
       "    }\n",
       "\n",
       "    .dataframe thead th {\n",
       "        text-align: right;\n",
       "    }\n",
       "</style>\n",
       "<table border=\"1\" class=\"dataframe\">\n",
       "  <thead>\n",
       "    <tr style=\"text-align: right;\">\n",
       "      <th></th>\n",
       "      <th>#</th>\n",
       "      <th>name</th>\n",
       "      <th>type 1</th>\n",
       "      <th>type 2</th>\n",
       "      <th>hp</th>\n",
       "      <th>attack</th>\n",
       "      <th>defense</th>\n",
       "      <th>sp. atk</th>\n",
       "      <th>sp. def</th>\n",
       "      <th>speed</th>\n",
       "      <th>generation</th>\n",
       "      <th>legendary</th>\n",
       "    </tr>\n",
       "  </thead>\n",
       "  <tbody>\n",
       "    <tr>\n",
       "      <th>224</th>\n",
       "      <td>225</td>\n",
       "      <td>Mega Steelix</td>\n",
       "      <td>Steel</td>\n",
       "      <td>Ground</td>\n",
       "      <td>75</td>\n",
       "      <td>125</td>\n",
       "      <td>230</td>\n",
       "      <td>55</td>\n",
       "      <td>95</td>\n",
       "      <td>30</td>\n",
       "      <td>2</td>\n",
       "      <td>False</td>\n",
       "    </tr>\n",
       "    <tr>\n",
       "      <th>230</th>\n",
       "      <td>231</td>\n",
       "      <td>Shuckle</td>\n",
       "      <td>Bug</td>\n",
       "      <td>Rock</td>\n",
       "      <td>20</td>\n",
       "      <td>10</td>\n",
       "      <td>230</td>\n",
       "      <td>10</td>\n",
       "      <td>230</td>\n",
       "      <td>5</td>\n",
       "      <td>2</td>\n",
       "      <td>False</td>\n",
       "    </tr>\n",
       "    <tr>\n",
       "      <th>333</th>\n",
       "      <td>334</td>\n",
       "      <td>Mega Aggron</td>\n",
       "      <td>Steel</td>\n",
       "      <td>NaN</td>\n",
       "      <td>70</td>\n",
       "      <td>140</td>\n",
       "      <td>230</td>\n",
       "      <td>60</td>\n",
       "      <td>80</td>\n",
       "      <td>50</td>\n",
       "      <td>3</td>\n",
       "      <td>False</td>\n",
       "    </tr>\n",
       "  </tbody>\n",
       "</table>\n",
       "</div>"
      ],
      "text/plain": [
       "       #          name type 1  type 2  hp  attack  defense  sp. atk  sp. def  \\\n",
       "224  225  Mega Steelix  Steel  Ground  75     125      230       55       95   \n",
       "230  231       Shuckle    Bug    Rock  20      10      230       10      230   \n",
       "333  334   Mega Aggron  Steel     NaN  70     140      230       60       80   \n",
       "\n",
       "     speed  generation  legendary  \n",
       "224     30           2      False  \n",
       "230      5           2      False  \n",
       "333     50           3      False  "
      ]
     },
     "execution_count": 24,
     "metadata": {},
     "output_type": "execute_result"
    },
    {
     "name": "stdout",
     "output_type": "stream",
     "text": [
      "sp. atk highest\n"
     ]
    },
    {
     "data": {
      "text/html": [
       "<div>\n",
       "<style scoped>\n",
       "    .dataframe tbody tr th:only-of-type {\n",
       "        vertical-align: middle;\n",
       "    }\n",
       "\n",
       "    .dataframe tbody tr th {\n",
       "        vertical-align: top;\n",
       "    }\n",
       "\n",
       "    .dataframe thead th {\n",
       "        text-align: right;\n",
       "    }\n",
       "</style>\n",
       "<table border=\"1\" class=\"dataframe\">\n",
       "  <thead>\n",
       "    <tr style=\"text-align: right;\">\n",
       "      <th></th>\n",
       "      <th>#</th>\n",
       "      <th>name</th>\n",
       "      <th>type 1</th>\n",
       "      <th>type 2</th>\n",
       "      <th>hp</th>\n",
       "      <th>attack</th>\n",
       "      <th>defense</th>\n",
       "      <th>sp. atk</th>\n",
       "      <th>sp. def</th>\n",
       "      <th>speed</th>\n",
       "      <th>generation</th>\n",
       "      <th>legendary</th>\n",
       "    </tr>\n",
       "  </thead>\n",
       "  <tbody>\n",
       "    <tr>\n",
       "      <th>164</th>\n",
       "      <td>165</td>\n",
       "      <td>Mega Mewtwo Y</td>\n",
       "      <td>Psychic</td>\n",
       "      <td>NaN</td>\n",
       "      <td>106</td>\n",
       "      <td>150</td>\n",
       "      <td>70</td>\n",
       "      <td>194</td>\n",
       "      <td>120</td>\n",
       "      <td>140</td>\n",
       "      <td>1</td>\n",
       "      <td>True</td>\n",
       "    </tr>\n",
       "  </tbody>\n",
       "</table>\n",
       "</div>"
      ],
      "text/plain": [
       "       #           name   type 1 type 2   hp  attack  defense  sp. atk  \\\n",
       "164  165  Mega Mewtwo Y  Psychic    NaN  106     150       70      194   \n",
       "\n",
       "     sp. def  speed  generation  legendary  \n",
       "164      120    140           1       True  "
      ]
     },
     "execution_count": 24,
     "metadata": {},
     "output_type": "execute_result"
    },
    {
     "name": "stdout",
     "output_type": "stream",
     "text": [
      "sp. def highest\n"
     ]
    },
    {
     "data": {
      "text/html": [
       "<div>\n",
       "<style scoped>\n",
       "    .dataframe tbody tr th:only-of-type {\n",
       "        vertical-align: middle;\n",
       "    }\n",
       "\n",
       "    .dataframe tbody tr th {\n",
       "        vertical-align: top;\n",
       "    }\n",
       "\n",
       "    .dataframe thead th {\n",
       "        text-align: right;\n",
       "    }\n",
       "</style>\n",
       "<table border=\"1\" class=\"dataframe\">\n",
       "  <thead>\n",
       "    <tr style=\"text-align: right;\">\n",
       "      <th></th>\n",
       "      <th>#</th>\n",
       "      <th>name</th>\n",
       "      <th>type 1</th>\n",
       "      <th>type 2</th>\n",
       "      <th>hp</th>\n",
       "      <th>attack</th>\n",
       "      <th>defense</th>\n",
       "      <th>sp. atk</th>\n",
       "      <th>sp. def</th>\n",
       "      <th>speed</th>\n",
       "      <th>generation</th>\n",
       "      <th>legendary</th>\n",
       "    </tr>\n",
       "  </thead>\n",
       "  <tbody>\n",
       "    <tr>\n",
       "      <th>230</th>\n",
       "      <td>231</td>\n",
       "      <td>Shuckle</td>\n",
       "      <td>Bug</td>\n",
       "      <td>Rock</td>\n",
       "      <td>20</td>\n",
       "      <td>10</td>\n",
       "      <td>230</td>\n",
       "      <td>10</td>\n",
       "      <td>230</td>\n",
       "      <td>5</td>\n",
       "      <td>2</td>\n",
       "      <td>False</td>\n",
       "    </tr>\n",
       "  </tbody>\n",
       "</table>\n",
       "</div>"
      ],
      "text/plain": [
       "       #     name type 1 type 2  hp  attack  defense  sp. atk  sp. def  speed  \\\n",
       "230  231  Shuckle    Bug   Rock  20      10      230       10      230      5   \n",
       "\n",
       "     generation  legendary  \n",
       "230           2      False  "
      ]
     },
     "execution_count": 24,
     "metadata": {},
     "output_type": "execute_result"
    },
    {
     "name": "stdout",
     "output_type": "stream",
     "text": [
      "speed highest\n"
     ]
    },
    {
     "data": {
      "text/html": [
       "<div>\n",
       "<style scoped>\n",
       "    .dataframe tbody tr th:only-of-type {\n",
       "        vertical-align: middle;\n",
       "    }\n",
       "\n",
       "    .dataframe tbody tr th {\n",
       "        vertical-align: top;\n",
       "    }\n",
       "\n",
       "    .dataframe thead th {\n",
       "        text-align: right;\n",
       "    }\n",
       "</style>\n",
       "<table border=\"1\" class=\"dataframe\">\n",
       "  <thead>\n",
       "    <tr style=\"text-align: right;\">\n",
       "      <th></th>\n",
       "      <th>#</th>\n",
       "      <th>name</th>\n",
       "      <th>type 1</th>\n",
       "      <th>type 2</th>\n",
       "      <th>hp</th>\n",
       "      <th>attack</th>\n",
       "      <th>defense</th>\n",
       "      <th>sp. atk</th>\n",
       "      <th>sp. def</th>\n",
       "      <th>speed</th>\n",
       "      <th>generation</th>\n",
       "      <th>legendary</th>\n",
       "    </tr>\n",
       "  </thead>\n",
       "  <tbody>\n",
       "    <tr>\n",
       "      <th>431</th>\n",
       "      <td>432</td>\n",
       "      <td>Deoxys Speed Forme</td>\n",
       "      <td>Psychic</td>\n",
       "      <td>NaN</td>\n",
       "      <td>50</td>\n",
       "      <td>95</td>\n",
       "      <td>90</td>\n",
       "      <td>95</td>\n",
       "      <td>90</td>\n",
       "      <td>180</td>\n",
       "      <td>3</td>\n",
       "      <td>True</td>\n",
       "    </tr>\n",
       "  </tbody>\n",
       "</table>\n",
       "</div>"
      ],
      "text/plain": [
       "       #                name   type 1 type 2  hp  attack  defense  sp. atk  \\\n",
       "431  432  Deoxys Speed Forme  Psychic    NaN  50      95       90       95   \n",
       "\n",
       "     sp. def  speed  generation  legendary  \n",
       "431       90    180           3       True  "
      ]
     },
     "execution_count": 24,
     "metadata": {},
     "output_type": "execute_result"
    }
   ],
   "source": [
    "#  pokemon which has highest following stats\n",
    "print('hp highest')\n",
    "df_pokemon[df_pokemon['hp'] == df_pokemon['hp'].max()]\n",
    "print('attack highest')\n",
    "df_pokemon[df_pokemon['attack'] == df_pokemon['attack'].max()]\n",
    "print('defense highest')\n",
    "df_pokemon[df_pokemon['defense'] == df_pokemon['defense'].max()]\n",
    "print('sp. atk highest')\n",
    "df_pokemon[df_pokemon['sp. atk'] == df_pokemon['sp. atk'].max()]\n",
    "print('sp. def highest')\n",
    "df_pokemon[df_pokemon['sp. def'] == df_pokemon['sp. def'].max()]\n",
    "print('speed highest')\n",
    "df_pokemon[df_pokemon['speed'] == df_pokemon['speed'].max()]"
   ]
  },
  {
   "cell_type": "code",
   "execution_count": null,
   "id": "a500d5e4",
   "metadata": {
    "papermill": {
     "duration": 0.012579,
     "end_time": "2024-03-14T19:41:53.871254",
     "exception": false,
     "start_time": "2024-03-14T19:41:53.858675",
     "status": "completed"
    },
    "tags": []
   },
   "outputs": [],
   "source": []
  }
 ],
 "metadata": {
  "kaggle": {
   "accelerator": "none",
   "dataSources": [
    {
     "datasetId": 2619,
     "sourceId": 4359,
     "sourceType": "datasetVersion"
    }
   ],
   "dockerImageVersionId": 30664,
   "isGpuEnabled": false,
   "isInternetEnabled": true,
   "language": "python",
   "sourceType": "notebook"
  },
  "kernelspec": {
   "display_name": "Python 3",
   "language": "python",
   "name": "python3"
  },
  "language_info": {
   "codemirror_mode": {
    "name": "ipython",
    "version": 3
   },
   "file_extension": ".py",
   "mimetype": "text/x-python",
   "name": "python",
   "nbconvert_exporter": "python",
   "pygments_lexer": "ipython3",
   "version": "3.10.13"
  },
  "papermill": {
   "default_parameters": {},
   "duration": 4.161055,
   "end_time": "2024-03-14T19:41:54.201848",
   "environment_variables": {},
   "exception": null,
   "input_path": "__notebook__.ipynb",
   "output_path": "__notebook__.ipynb",
   "parameters": {},
   "start_time": "2024-03-14T19:41:50.040793",
   "version": "2.5.0"
  }
 },
 "nbformat": 4,
 "nbformat_minor": 5
}
