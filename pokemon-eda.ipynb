{
 "cells": [
  {
   "cell_type": "code",
   "execution_count": 1,
   "id": "5ce572f6",
   "metadata": {
    "_cell_guid": "b1076dfc-b9ad-4769-8c92-a6c4dae69d19",
    "_uuid": "8f2839f25d086af736a60e9eeb907d3b93b6e0e5",
    "execution": {
     "iopub.execute_input": "2024-03-14T19:04:19.835523Z",
     "iopub.status.busy": "2024-03-14T19:04:19.835077Z",
     "iopub.status.idle": "2024-03-14T19:04:20.950243Z",
     "shell.execute_reply": "2024-03-14T19:04:20.948708Z"
    },
    "papermill": {
     "duration": 1.127715,
     "end_time": "2024-03-14T19:04:20.953063",
     "exception": false,
     "start_time": "2024-03-14T19:04:19.825348",
     "status": "completed"
    },
    "tags": []
   },
   "outputs": [
    {
     "name": "stdout",
     "output_type": "stream",
     "text": [
      "/kaggle/input/pokemon-challenge/pokemon.csv\n",
      "/kaggle/input/pokemon-challenge/tests.csv\n",
      "/kaggle/input/pokemon-challenge/combats.csv\n"
     ]
    }
   ],
   "source": [
    "# This Python 3 annotationsenvironment comes with many helpful analytics libraries installed\n",
    "# It is defined by the kaggle/python Docker image: https://github.com/kaggle/docker-python\n",
    "# For example, here's several helpful packages to load\n",
    "\n",
    "import numpy as np # linear algebra\n",
    "import pandas as pd # data processing, CSV file I/O (e.g. pd.read_csv)\n",
    "\n",
    "# Input data files are available in the read-only \"../input/\" directory\n",
    "# For example, running this (by clicking run or pressing Shift+Enter) will list all files under the input directory\n",
    "\n",
    "import os\n",
    "for dirname, _, filenames in os.walk('/kaggle/input'):\n",
    "    for filename in filenames:\n",
    "        print(os.path.join(dirname, filename))\n",
    "\n",
    "from IPython.core.interactiveshell import InteractiveShell\n",
    "InteractiveShell.ast_node_interactivity = 'all'\n",
    "\n",
    "# You can write up to 20GB to the current directory (/kaggle/working/) that gets preserved as output when you create a version using \"Save & Run All\" \n",
    "# You can also write temporary files to /kaggle/temp/, but they won't be saved outside of the current session"
   ]
  },
  {
   "cell_type": "code",
   "execution_count": 2,
   "id": "9dd2067e",
   "metadata": {
    "execution": {
     "iopub.execute_input": "2024-03-14T19:04:20.971232Z",
     "iopub.status.busy": "2024-03-14T19:04:20.969785Z",
     "iopub.status.idle": "2024-03-14T19:04:21.024699Z",
     "shell.execute_reply": "2024-03-14T19:04:21.023502Z"
    },
    "papermill": {
     "duration": 0.066519,
     "end_time": "2024-03-14T19:04:21.027368",
     "exception": false,
     "start_time": "2024-03-14T19:04:20.960849",
     "status": "completed"
    },
    "tags": []
   },
   "outputs": [
    {
     "data": {
      "text/html": [
       "<div>\n",
       "<style scoped>\n",
       "    .dataframe tbody tr th:only-of-type {\n",
       "        vertical-align: middle;\n",
       "    }\n",
       "\n",
       "    .dataframe tbody tr th {\n",
       "        vertical-align: top;\n",
       "    }\n",
       "\n",
       "    .dataframe thead th {\n",
       "        text-align: right;\n",
       "    }\n",
       "</style>\n",
       "<table border=\"1\" class=\"dataframe\">\n",
       "  <thead>\n",
       "    <tr style=\"text-align: right;\">\n",
       "      <th></th>\n",
       "      <th>#</th>\n",
       "      <th>Name</th>\n",
       "      <th>Type 1</th>\n",
       "      <th>Type 2</th>\n",
       "      <th>HP</th>\n",
       "      <th>Attack</th>\n",
       "      <th>Defense</th>\n",
       "      <th>Sp. Atk</th>\n",
       "      <th>Sp. Def</th>\n",
       "      <th>Speed</th>\n",
       "      <th>Generation</th>\n",
       "      <th>Legendary</th>\n",
       "    </tr>\n",
       "  </thead>\n",
       "  <tbody>\n",
       "    <tr>\n",
       "      <th>0</th>\n",
       "      <td>1</td>\n",
       "      <td>Bulbasaur</td>\n",
       "      <td>Grass</td>\n",
       "      <td>Poison</td>\n",
       "      <td>45</td>\n",
       "      <td>49</td>\n",
       "      <td>49</td>\n",
       "      <td>65</td>\n",
       "      <td>65</td>\n",
       "      <td>45</td>\n",
       "      <td>1</td>\n",
       "      <td>False</td>\n",
       "    </tr>\n",
       "    <tr>\n",
       "      <th>1</th>\n",
       "      <td>2</td>\n",
       "      <td>Ivysaur</td>\n",
       "      <td>Grass</td>\n",
       "      <td>Poison</td>\n",
       "      <td>60</td>\n",
       "      <td>62</td>\n",
       "      <td>63</td>\n",
       "      <td>80</td>\n",
       "      <td>80</td>\n",
       "      <td>60</td>\n",
       "      <td>1</td>\n",
       "      <td>False</td>\n",
       "    </tr>\n",
       "    <tr>\n",
       "      <th>2</th>\n",
       "      <td>3</td>\n",
       "      <td>Venusaur</td>\n",
       "      <td>Grass</td>\n",
       "      <td>Poison</td>\n",
       "      <td>80</td>\n",
       "      <td>82</td>\n",
       "      <td>83</td>\n",
       "      <td>100</td>\n",
       "      <td>100</td>\n",
       "      <td>80</td>\n",
       "      <td>1</td>\n",
       "      <td>False</td>\n",
       "    </tr>\n",
       "    <tr>\n",
       "      <th>3</th>\n",
       "      <td>4</td>\n",
       "      <td>Mega Venusaur</td>\n",
       "      <td>Grass</td>\n",
       "      <td>Poison</td>\n",
       "      <td>80</td>\n",
       "      <td>100</td>\n",
       "      <td>123</td>\n",
       "      <td>122</td>\n",
       "      <td>120</td>\n",
       "      <td>80</td>\n",
       "      <td>1</td>\n",
       "      <td>False</td>\n",
       "    </tr>\n",
       "    <tr>\n",
       "      <th>4</th>\n",
       "      <td>5</td>\n",
       "      <td>Charmander</td>\n",
       "      <td>Fire</td>\n",
       "      <td>NaN</td>\n",
       "      <td>39</td>\n",
       "      <td>52</td>\n",
       "      <td>43</td>\n",
       "      <td>60</td>\n",
       "      <td>50</td>\n",
       "      <td>65</td>\n",
       "      <td>1</td>\n",
       "      <td>False</td>\n",
       "    </tr>\n",
       "    <tr>\n",
       "      <th>...</th>\n",
       "      <td>...</td>\n",
       "      <td>...</td>\n",
       "      <td>...</td>\n",
       "      <td>...</td>\n",
       "      <td>...</td>\n",
       "      <td>...</td>\n",
       "      <td>...</td>\n",
       "      <td>...</td>\n",
       "      <td>...</td>\n",
       "      <td>...</td>\n",
       "      <td>...</td>\n",
       "      <td>...</td>\n",
       "    </tr>\n",
       "    <tr>\n",
       "      <th>795</th>\n",
       "      <td>796</td>\n",
       "      <td>Diancie</td>\n",
       "      <td>Rock</td>\n",
       "      <td>Fairy</td>\n",
       "      <td>50</td>\n",
       "      <td>100</td>\n",
       "      <td>150</td>\n",
       "      <td>100</td>\n",
       "      <td>150</td>\n",
       "      <td>50</td>\n",
       "      <td>6</td>\n",
       "      <td>True</td>\n",
       "    </tr>\n",
       "    <tr>\n",
       "      <th>796</th>\n",
       "      <td>797</td>\n",
       "      <td>Mega Diancie</td>\n",
       "      <td>Rock</td>\n",
       "      <td>Fairy</td>\n",
       "      <td>50</td>\n",
       "      <td>160</td>\n",
       "      <td>110</td>\n",
       "      <td>160</td>\n",
       "      <td>110</td>\n",
       "      <td>110</td>\n",
       "      <td>6</td>\n",
       "      <td>True</td>\n",
       "    </tr>\n",
       "    <tr>\n",
       "      <th>797</th>\n",
       "      <td>798</td>\n",
       "      <td>Hoopa Confined</td>\n",
       "      <td>Psychic</td>\n",
       "      <td>Ghost</td>\n",
       "      <td>80</td>\n",
       "      <td>110</td>\n",
       "      <td>60</td>\n",
       "      <td>150</td>\n",
       "      <td>130</td>\n",
       "      <td>70</td>\n",
       "      <td>6</td>\n",
       "      <td>True</td>\n",
       "    </tr>\n",
       "    <tr>\n",
       "      <th>798</th>\n",
       "      <td>799</td>\n",
       "      <td>Hoopa Unbound</td>\n",
       "      <td>Psychic</td>\n",
       "      <td>Dark</td>\n",
       "      <td>80</td>\n",
       "      <td>160</td>\n",
       "      <td>60</td>\n",
       "      <td>170</td>\n",
       "      <td>130</td>\n",
       "      <td>80</td>\n",
       "      <td>6</td>\n",
       "      <td>True</td>\n",
       "    </tr>\n",
       "    <tr>\n",
       "      <th>799</th>\n",
       "      <td>800</td>\n",
       "      <td>Volcanion</td>\n",
       "      <td>Fire</td>\n",
       "      <td>Water</td>\n",
       "      <td>80</td>\n",
       "      <td>110</td>\n",
       "      <td>120</td>\n",
       "      <td>130</td>\n",
       "      <td>90</td>\n",
       "      <td>70</td>\n",
       "      <td>6</td>\n",
       "      <td>True</td>\n",
       "    </tr>\n",
       "  </tbody>\n",
       "</table>\n",
       "<p>800 rows × 12 columns</p>\n",
       "</div>"
      ],
      "text/plain": [
       "       #            Name   Type 1  Type 2  HP  Attack  Defense  Sp. Atk  \\\n",
       "0      1       Bulbasaur    Grass  Poison  45      49       49       65   \n",
       "1      2         Ivysaur    Grass  Poison  60      62       63       80   \n",
       "2      3        Venusaur    Grass  Poison  80      82       83      100   \n",
       "3      4   Mega Venusaur    Grass  Poison  80     100      123      122   \n",
       "4      5      Charmander     Fire     NaN  39      52       43       60   \n",
       "..   ...             ...      ...     ...  ..     ...      ...      ...   \n",
       "795  796         Diancie     Rock   Fairy  50     100      150      100   \n",
       "796  797    Mega Diancie     Rock   Fairy  50     160      110      160   \n",
       "797  798  Hoopa Confined  Psychic   Ghost  80     110       60      150   \n",
       "798  799   Hoopa Unbound  Psychic    Dark  80     160       60      170   \n",
       "799  800       Volcanion     Fire   Water  80     110      120      130   \n",
       "\n",
       "     Sp. Def  Speed  Generation  Legendary  \n",
       "0         65     45           1      False  \n",
       "1         80     60           1      False  \n",
       "2        100     80           1      False  \n",
       "3        120     80           1      False  \n",
       "4         50     65           1      False  \n",
       "..       ...    ...         ...        ...  \n",
       "795      150     50           6       True  \n",
       "796      110    110           6       True  \n",
       "797      130     70           6       True  \n",
       "798      130     80           6       True  \n",
       "799       90     70           6       True  \n",
       "\n",
       "[800 rows x 12 columns]"
      ]
     },
     "execution_count": 2,
     "metadata": {},
     "output_type": "execute_result"
    }
   ],
   "source": [
    "df_pokemon = pd.read_csv(r'/kaggle/input/pokemon-challenge/pokemon.csv')\n",
    "df_pokemon"
   ]
  },
  {
   "cell_type": "markdown",
   "id": "b8624371",
   "metadata": {
    "papermill": {
     "duration": 0.007799,
     "end_time": "2024-03-14T19:04:21.043245",
     "exception": false,
     "start_time": "2024-03-14T19:04:21.035446",
     "status": "completed"
    },
    "tags": []
   },
   "source": [
    "# Checking basic data structres"
   ]
  },
  {
   "cell_type": "code",
   "execution_count": 3,
   "id": "cef40276",
   "metadata": {
    "execution": {
     "iopub.execute_input": "2024-03-14T19:04:21.061692Z",
     "iopub.status.busy": "2024-03-14T19:04:21.061019Z",
     "iopub.status.idle": "2024-03-14T19:04:21.087944Z",
     "shell.execute_reply": "2024-03-14T19:04:21.086934Z"
    },
    "papermill": {
     "duration": 0.039293,
     "end_time": "2024-03-14T19:04:21.090630",
     "exception": false,
     "start_time": "2024-03-14T19:04:21.051337",
     "status": "completed"
    },
    "tags": []
   },
   "outputs": [
    {
     "name": "stdout",
     "output_type": "stream",
     "text": [
      "<class 'pandas.core.frame.DataFrame'>\n",
      "RangeIndex: 800 entries, 0 to 799\n",
      "Data columns (total 12 columns):\n",
      " #   Column      Non-Null Count  Dtype \n",
      "---  ------      --------------  ----- \n",
      " 0   #           800 non-null    int64 \n",
      " 1   Name        799 non-null    object\n",
      " 2   Type 1      800 non-null    object\n",
      " 3   Type 2      414 non-null    object\n",
      " 4   HP          800 non-null    int64 \n",
      " 5   Attack      800 non-null    int64 \n",
      " 6   Defense     800 non-null    int64 \n",
      " 7   Sp. Atk     800 non-null    int64 \n",
      " 8   Sp. Def     800 non-null    int64 \n",
      " 9   Speed       800 non-null    int64 \n",
      " 10  Generation  800 non-null    int64 \n",
      " 11  Legendary   800 non-null    bool  \n",
      "dtypes: bool(1), int64(8), object(3)\n",
      "memory usage: 69.7+ KB\n"
     ]
    }
   ],
   "source": [
    "df_pokemon.info()"
   ]
  },
  {
   "cell_type": "code",
   "execution_count": 4,
   "id": "ed256edf",
   "metadata": {
    "execution": {
     "iopub.execute_input": "2024-03-14T19:04:21.109625Z",
     "iopub.status.busy": "2024-03-14T19:04:21.108487Z",
     "iopub.status.idle": "2024-03-14T19:04:21.115959Z",
     "shell.execute_reply": "2024-03-14T19:04:21.114978Z"
    },
    "papermill": {
     "duration": 0.019462,
     "end_time": "2024-03-14T19:04:21.118365",
     "exception": false,
     "start_time": "2024-03-14T19:04:21.098903",
     "status": "completed"
    },
    "tags": []
   },
   "outputs": [
    {
     "data": {
      "text/plain": [
       "(800, 12)"
      ]
     },
     "execution_count": 4,
     "metadata": {},
     "output_type": "execute_result"
    }
   ],
   "source": [
    "df_pokemon.shape"
   ]
  },
  {
   "cell_type": "code",
   "execution_count": 5,
   "id": "240d4efd",
   "metadata": {
    "execution": {
     "iopub.execute_input": "2024-03-14T19:04:21.137396Z",
     "iopub.status.busy": "2024-03-14T19:04:21.136343Z",
     "iopub.status.idle": "2024-03-14T19:04:21.171679Z",
     "shell.execute_reply": "2024-03-14T19:04:21.170844Z"
    },
    "papermill": {
     "duration": 0.047599,
     "end_time": "2024-03-14T19:04:21.174332",
     "exception": false,
     "start_time": "2024-03-14T19:04:21.126733",
     "status": "completed"
    },
    "tags": []
   },
   "outputs": [
    {
     "data": {
      "text/html": [
       "<div>\n",
       "<style scoped>\n",
       "    .dataframe tbody tr th:only-of-type {\n",
       "        vertical-align: middle;\n",
       "    }\n",
       "\n",
       "    .dataframe tbody tr th {\n",
       "        vertical-align: top;\n",
       "    }\n",
       "\n",
       "    .dataframe thead th {\n",
       "        text-align: right;\n",
       "    }\n",
       "</style>\n",
       "<table border=\"1\" class=\"dataframe\">\n",
       "  <thead>\n",
       "    <tr style=\"text-align: right;\">\n",
       "      <th></th>\n",
       "      <th>#</th>\n",
       "      <th>HP</th>\n",
       "      <th>Attack</th>\n",
       "      <th>Defense</th>\n",
       "      <th>Sp. Atk</th>\n",
       "      <th>Sp. Def</th>\n",
       "      <th>Speed</th>\n",
       "      <th>Generation</th>\n",
       "    </tr>\n",
       "  </thead>\n",
       "  <tbody>\n",
       "    <tr>\n",
       "      <th>count</th>\n",
       "      <td>800.0000</td>\n",
       "      <td>800.000000</td>\n",
       "      <td>800.000000</td>\n",
       "      <td>800.000000</td>\n",
       "      <td>800.000000</td>\n",
       "      <td>800.000000</td>\n",
       "      <td>800.000000</td>\n",
       "      <td>800.00000</td>\n",
       "    </tr>\n",
       "    <tr>\n",
       "      <th>mean</th>\n",
       "      <td>400.5000</td>\n",
       "      <td>69.258750</td>\n",
       "      <td>79.001250</td>\n",
       "      <td>73.842500</td>\n",
       "      <td>72.820000</td>\n",
       "      <td>71.902500</td>\n",
       "      <td>68.277500</td>\n",
       "      <td>3.32375</td>\n",
       "    </tr>\n",
       "    <tr>\n",
       "      <th>std</th>\n",
       "      <td>231.0844</td>\n",
       "      <td>25.534669</td>\n",
       "      <td>32.457366</td>\n",
       "      <td>31.183501</td>\n",
       "      <td>32.722294</td>\n",
       "      <td>27.828916</td>\n",
       "      <td>29.060474</td>\n",
       "      <td>1.66129</td>\n",
       "    </tr>\n",
       "    <tr>\n",
       "      <th>min</th>\n",
       "      <td>1.0000</td>\n",
       "      <td>1.000000</td>\n",
       "      <td>5.000000</td>\n",
       "      <td>5.000000</td>\n",
       "      <td>10.000000</td>\n",
       "      <td>20.000000</td>\n",
       "      <td>5.000000</td>\n",
       "      <td>1.00000</td>\n",
       "    </tr>\n",
       "    <tr>\n",
       "      <th>25%</th>\n",
       "      <td>200.7500</td>\n",
       "      <td>50.000000</td>\n",
       "      <td>55.000000</td>\n",
       "      <td>50.000000</td>\n",
       "      <td>49.750000</td>\n",
       "      <td>50.000000</td>\n",
       "      <td>45.000000</td>\n",
       "      <td>2.00000</td>\n",
       "    </tr>\n",
       "    <tr>\n",
       "      <th>50%</th>\n",
       "      <td>400.5000</td>\n",
       "      <td>65.000000</td>\n",
       "      <td>75.000000</td>\n",
       "      <td>70.000000</td>\n",
       "      <td>65.000000</td>\n",
       "      <td>70.000000</td>\n",
       "      <td>65.000000</td>\n",
       "      <td>3.00000</td>\n",
       "    </tr>\n",
       "    <tr>\n",
       "      <th>75%</th>\n",
       "      <td>600.2500</td>\n",
       "      <td>80.000000</td>\n",
       "      <td>100.000000</td>\n",
       "      <td>90.000000</td>\n",
       "      <td>95.000000</td>\n",
       "      <td>90.000000</td>\n",
       "      <td>90.000000</td>\n",
       "      <td>5.00000</td>\n",
       "    </tr>\n",
       "    <tr>\n",
       "      <th>max</th>\n",
       "      <td>800.0000</td>\n",
       "      <td>255.000000</td>\n",
       "      <td>190.000000</td>\n",
       "      <td>230.000000</td>\n",
       "      <td>194.000000</td>\n",
       "      <td>230.000000</td>\n",
       "      <td>180.000000</td>\n",
       "      <td>6.00000</td>\n",
       "    </tr>\n",
       "  </tbody>\n",
       "</table>\n",
       "</div>"
      ],
      "text/plain": [
       "              #          HP      Attack     Defense     Sp. Atk     Sp. Def  \\\n",
       "count  800.0000  800.000000  800.000000  800.000000  800.000000  800.000000   \n",
       "mean   400.5000   69.258750   79.001250   73.842500   72.820000   71.902500   \n",
       "std    231.0844   25.534669   32.457366   31.183501   32.722294   27.828916   \n",
       "min      1.0000    1.000000    5.000000    5.000000   10.000000   20.000000   \n",
       "25%    200.7500   50.000000   55.000000   50.000000   49.750000   50.000000   \n",
       "50%    400.5000   65.000000   75.000000   70.000000   65.000000   70.000000   \n",
       "75%    600.2500   80.000000  100.000000   90.000000   95.000000   90.000000   \n",
       "max    800.0000  255.000000  190.000000  230.000000  194.000000  230.000000   \n",
       "\n",
       "            Speed  Generation  \n",
       "count  800.000000   800.00000  \n",
       "mean    68.277500     3.32375  \n",
       "std     29.060474     1.66129  \n",
       "min      5.000000     1.00000  \n",
       "25%     45.000000     2.00000  \n",
       "50%     65.000000     3.00000  \n",
       "75%     90.000000     5.00000  \n",
       "max    180.000000     6.00000  "
      ]
     },
     "execution_count": 5,
     "metadata": {},
     "output_type": "execute_result"
    }
   ],
   "source": [
    "df_pokemon.describe()"
   ]
  },
  {
   "cell_type": "code",
   "execution_count": 6,
   "id": "d508cf76",
   "metadata": {
    "execution": {
     "iopub.execute_input": "2024-03-14T19:04:21.193870Z",
     "iopub.status.busy": "2024-03-14T19:04:21.193431Z",
     "iopub.status.idle": "2024-03-14T19:04:21.202471Z",
     "shell.execute_reply": "2024-03-14T19:04:21.201336Z"
    },
    "papermill": {
     "duration": 0.021721,
     "end_time": "2024-03-14T19:04:21.204856",
     "exception": false,
     "start_time": "2024-03-14T19:04:21.183135",
     "status": "completed"
    },
    "tags": []
   },
   "outputs": [
    {
     "data": {
      "text/plain": [
       "Type 1\n",
       "Water       112\n",
       "Normal       98\n",
       "Grass        70\n",
       "Bug          69\n",
       "Psychic      57\n",
       "Fire         52\n",
       "Electric     44\n",
       "Rock         44\n",
       "Dragon       32\n",
       "Ground       32\n",
       "Ghost        32\n",
       "Dark         31\n",
       "Poison       28\n",
       "Steel        27\n",
       "Fighting     27\n",
       "Ice          24\n",
       "Fairy        17\n",
       "Flying        4\n",
       "Name: count, dtype: int64"
      ]
     },
     "execution_count": 6,
     "metadata": {},
     "output_type": "execute_result"
    }
   ],
   "source": [
    "df_pokemon['Type 1'].value_counts()"
   ]
  },
  {
   "cell_type": "code",
   "execution_count": 7,
   "id": "76b1930b",
   "metadata": {
    "execution": {
     "iopub.execute_input": "2024-03-14T19:04:21.224485Z",
     "iopub.status.busy": "2024-03-14T19:04:21.223874Z",
     "iopub.status.idle": "2024-03-14T19:04:21.232731Z",
     "shell.execute_reply": "2024-03-14T19:04:21.231621Z"
    },
    "papermill": {
     "duration": 0.021515,
     "end_time": "2024-03-14T19:04:21.235086",
     "exception": false,
     "start_time": "2024-03-14T19:04:21.213571",
     "status": "completed"
    },
    "tags": []
   },
   "outputs": [
    {
     "data": {
      "text/plain": [
       "Type 2\n",
       "Flying      97\n",
       "Ground      35\n",
       "Poison      34\n",
       "Psychic     33\n",
       "Fighting    26\n",
       "Grass       25\n",
       "Fairy       23\n",
       "Steel       22\n",
       "Dark        20\n",
       "Dragon      18\n",
       "Water       14\n",
       "Ghost       14\n",
       "Ice         14\n",
       "Rock        14\n",
       "Fire        12\n",
       "Electric     6\n",
       "Normal       4\n",
       "Bug          3\n",
       "Name: count, dtype: int64"
      ]
     },
     "execution_count": 7,
     "metadata": {},
     "output_type": "execute_result"
    }
   ],
   "source": [
    "df_pokemon['Type 2'].value_counts()"
   ]
  },
  {
   "cell_type": "code",
   "execution_count": 8,
   "id": "4662b648",
   "metadata": {
    "execution": {
     "iopub.execute_input": "2024-03-14T19:04:21.255806Z",
     "iopub.status.busy": "2024-03-14T19:04:21.255056Z",
     "iopub.status.idle": "2024-03-14T19:04:21.271017Z",
     "shell.execute_reply": "2024-03-14T19:04:21.269869Z"
    },
    "papermill": {
     "duration": 0.02898,
     "end_time": "2024-03-14T19:04:21.273566",
     "exception": false,
     "start_time": "2024-03-14T19:04:21.244586",
     "status": "completed"
    },
    "tags": []
   },
   "outputs": [
    {
     "data": {
      "text/plain": [
       "Type 1    Type 2\n",
       "Normal    Flying    24\n",
       "Grass     Poison    15\n",
       "Bug       Flying    14\n",
       "          Poison    12\n",
       "Ghost     Grass     10\n",
       "                    ..\n",
       "Fire      Rock       1\n",
       "Ice       Ghost      1\n",
       "Fire      Dragon     1\n",
       "Fighting  Flying     1\n",
       "Water     Steel      1\n",
       "Name: count, Length: 136, dtype: int64"
      ]
     },
     "execution_count": 8,
     "metadata": {},
     "output_type": "execute_result"
    }
   ],
   "source": [
    "df_pokemon[['Type 1','Type 2']].value_counts()"
   ]
  },
  {
   "cell_type": "markdown",
   "id": "330d01ad",
   "metadata": {
    "papermill": {
     "duration": 0.008886,
     "end_time": "2024-03-14T19:04:21.291653",
     "exception": false,
     "start_time": "2024-03-14T19:04:21.282767",
     "status": "completed"
    },
    "tags": []
   },
   "source": [
    "## generation"
   ]
  },
  {
   "cell_type": "code",
   "execution_count": 9,
   "id": "6477f2e5",
   "metadata": {
    "execution": {
     "iopub.execute_input": "2024-03-14T19:04:21.311911Z",
     "iopub.status.busy": "2024-03-14T19:04:21.311039Z",
     "iopub.status.idle": "2024-03-14T19:04:21.325544Z",
     "shell.execute_reply": "2024-03-14T19:04:21.324457Z"
    },
    "papermill": {
     "duration": 0.027213,
     "end_time": "2024-03-14T19:04:21.327984",
     "exception": false,
     "start_time": "2024-03-14T19:04:21.300771",
     "status": "completed"
    },
    "tags": []
   },
   "outputs": [
    {
     "data": {
      "text/plain": [
       "Generation\n",
       "1    166\n",
       "5    165\n",
       "3    160\n",
       "4    121\n",
       "2    106\n",
       "6     82\n",
       "Name: count, dtype: int64"
      ]
     },
     "execution_count": 9,
     "metadata": {},
     "output_type": "execute_result"
    }
   ],
   "source": [
    "df_pokemon['Generation'].value_counts()"
   ]
  },
  {
   "cell_type": "markdown",
   "id": "57576695",
   "metadata": {
    "papermill": {
     "duration": 0.00904,
     "end_time": "2024-03-14T19:04:21.347405",
     "exception": false,
     "start_time": "2024-03-14T19:04:21.338365",
     "status": "completed"
    },
    "tags": []
   },
   "source": [
    "### for each generation checking value_counts() for different types"
   ]
  },
  {
   "cell_type": "code",
   "execution_count": 10,
   "id": "ab13afc6",
   "metadata": {
    "execution": {
     "iopub.execute_input": "2024-03-14T19:04:21.368482Z",
     "iopub.status.busy": "2024-03-14T19:04:21.367363Z",
     "iopub.status.idle": "2024-03-14T19:04:21.517876Z",
     "shell.execute_reply": "2024-03-14T19:04:21.516967Z"
    },
    "papermill": {
     "duration": 0.163524,
     "end_time": "2024-03-14T19:04:21.520324",
     "exception": false,
     "start_time": "2024-03-14T19:04:21.356800",
     "status": "completed"
    },
    "tags": []
   },
   "outputs": [
    {
     "data": {
      "text/plain": [
       "Type 1\n",
       "Water       31\n",
       "Normal      24\n",
       "Fire        14\n",
       "Bug         14\n",
       "Poison      14\n",
       "Grass       13\n",
       "Psychic     11\n",
       "Rock        10\n",
       "Electric     9\n",
       "Ground       8\n",
       "Fighting     7\n",
       "Ghost        4\n",
       "Dragon       3\n",
       "Fairy        2\n",
       "Ice          2\n",
       "Name: count, dtype: int64"
      ]
     },
     "execution_count": 10,
     "metadata": {},
     "output_type": "execute_result"
    },
    {
     "data": {
      "text/plain": [
       "Type 2\n",
       "Flying      23\n",
       "Poison      22\n",
       "Psychic      7\n",
       "Ground       6\n",
       "Water        4\n",
       "Fairy        3\n",
       "Ice          3\n",
       "Grass        2\n",
       "Fighting     2\n",
       "Steel        2\n",
       "Rock         2\n",
       "Dragon       1\n",
       "Dark         1\n",
       "Name: count, dtype: int64"
      ]
     },
     "execution_count": 10,
     "metadata": {},
     "output_type": "execute_result"
    },
    {
     "data": {
      "text/plain": [
       "Type 1    Type 2  \n",
       "Grass     Poison      10\n",
       "Normal    Flying       9\n",
       "Bug       Poison       6\n",
       "Water     Psychic      4\n",
       "Ghost     Poison       4\n",
       "Rock      Water        4\n",
       "          Ground       4\n",
       "Water     Ice          3\n",
       "Bug       Flying       3\n",
       "Fire      Flying       3\n",
       "Poison    Flying       2\n",
       "Water     Poison       2\n",
       "Electric  Steel        2\n",
       "Rock      Flying       2\n",
       "Grass     Psychic      2\n",
       "Poison    Ground       2\n",
       "Normal    Fairy        2\n",
       "Bug       Grass        2\n",
       "Ground    Rock         2\n",
       "Fire      Dragon       1\n",
       "Psychic   Fairy        1\n",
       "Ice       Psychic      1\n",
       "          Flying       1\n",
       "Electric  Flying       1\n",
       "Water     Dark         1\n",
       "          Fighting     1\n",
       "          Flying       1\n",
       "Dragon    Flying       1\n",
       "Psychic   Fighting     1\n",
       "Name: count, dtype: int64"
      ]
     },
     "execution_count": 10,
     "metadata": {},
     "output_type": "execute_result"
    },
    {
     "data": {
      "text/plain": [
       "Type 1\n",
       "Water       18\n",
       "Normal      15\n",
       "Bug         12\n",
       "Grass        9\n",
       "Fire         8\n",
       "Electric     7\n",
       "Psychic      7\n",
       "Dark         6\n",
       "Fairy        5\n",
       "Rock         5\n",
       "Ice          4\n",
       "Ground       3\n",
       "Steel        3\n",
       "Fighting     2\n",
       "Poison       1\n",
       "Ghost        1\n",
       "Name: count, dtype: int64"
      ]
     },
     "execution_count": 10,
     "metadata": {},
     "output_type": "execute_result"
    },
    {
     "data": {
      "text/plain": [
       "Type 2\n",
       "Flying      19\n",
       "Ground       8\n",
       "Poison       3\n",
       "Fairy        3\n",
       "Psychic      3\n",
       "Steel        3\n",
       "Rock         3\n",
       "Fire         3\n",
       "Electric     2\n",
       "Dragon       2\n",
       "Fighting     2\n",
       "Dark         2\n",
       "Ice          1\n",
       "Grass        1\n",
       "Name: count, dtype: int64"
      ]
     },
     "execution_count": 10,
     "metadata": {},
     "output_type": "execute_result"
    },
    {
     "data": {
      "text/plain": [
       "Type 1    Type 2  \n",
       "Grass     Flying      3\n",
       "Bug       Steel       3\n",
       "Dark      Fire        3\n",
       "Bug       Flying      3\n",
       "Psychic   Flying      3\n",
       "Bug       Fighting    2\n",
       "Rock      Dark        2\n",
       "Normal    Flying      2\n",
       "Rock      Ground      2\n",
       "Ice       Ground      2\n",
       "Steel     Ground      2\n",
       "Water     Electric    2\n",
       "          Fairy       2\n",
       "          Ground      2\n",
       "Bug       Poison      2\n",
       "Water     Dragon      1\n",
       "Steel     Flying      1\n",
       "Water     Flying      1\n",
       "          Poison      1\n",
       "          Psychic     1\n",
       "Psychic   Grass       1\n",
       "Normal    Fairy       1\n",
       "Poison    Flying      1\n",
       "Normal    Psychic     1\n",
       "Ice       Psychic     1\n",
       "          Flying      1\n",
       "Ground    Flying      1\n",
       "Fire      Rock        1\n",
       "          Flying      1\n",
       "Fairy     Flying      1\n",
       "Electric  Dragon      1\n",
       "Dark      Ice         1\n",
       "          Flying      1\n",
       "Bug       Rock        1\n",
       "Water     Rock        1\n",
       "Name: count, dtype: int64"
      ]
     },
     "execution_count": 10,
     "metadata": {},
     "output_type": "execute_result"
    },
    {
     "data": {
      "text/plain": [
       "Type 1\n",
       "Water       27\n",
       "Normal      18\n",
       "Grass       13\n",
       "Bug         12\n",
       "Psychic     12\n",
       "Steel       12\n",
       "Dragon      12\n",
       "Fire         8\n",
       "Rock         8\n",
       "Ground       7\n",
       "Ice          7\n",
       "Dark         6\n",
       "Fighting     5\n",
       "Electric     5\n",
       "Ghost        5\n",
       "Poison       3\n",
       "Name: count, dtype: int64"
      ]
     },
     "execution_count": 10,
     "metadata": {},
     "output_type": "execute_result"
    },
    {
     "data": {
      "text/plain": [
       "Type 2\n",
       "Psychic     16\n",
       "Flying      14\n",
       "Ground       9\n",
       "Fairy        8\n",
       "Dark         7\n",
       "Grass        5\n",
       "Fighting     4\n",
       "Water        4\n",
       "Rock         4\n",
       "Dragon       3\n",
       "Ghost        3\n",
       "Poison       2\n",
       "Bug          2\n",
       "Fire         1\n",
       "Name: count, dtype: int64"
      ]
     },
     "execution_count": 10,
     "metadata": {},
     "output_type": "execute_result"
    },
    {
     "data": {
      "text/plain": [
       "Type 1    Type 2  \n",
       "Water     Ground      5\n",
       "Steel     Psychic     5\n",
       "Dragon    Flying      5\n",
       "Psychic   Fairy       4\n",
       "Water     Dark        4\n",
       "Dragon    Psychic     4\n",
       "Bug       Flying      3\n",
       "Ice       Water       3\n",
       "Grass     Dark        3\n",
       "Fire      Ground      3\n",
       "          Fighting    3\n",
       "Fighting  Psychic     3\n",
       "Steel     Rock        3\n",
       "Water     Grass       3\n",
       "Normal    Flying      3\n",
       "Water     Flying      2\n",
       "Steel     Fairy       2\n",
       "Rock      Psychic     2\n",
       "          Grass       2\n",
       "          Bug         2\n",
       "Ground    Dragon      2\n",
       "          Psychic     2\n",
       "Dark      Ghost       2\n",
       "Normal    Fairy       1\n",
       "Ground    Fire        1\n",
       "Bug       Ghost       1\n",
       "Grass     Poison      1\n",
       "          Flying      1\n",
       "          Fighting    1\n",
       "          Dragon      1\n",
       "Dragon    Fairy       1\n",
       "Bug       Water       1\n",
       "          Poison      1\n",
       "          Ground      1\n",
       "Water     Rock        1\n",
       "Name: count, dtype: int64"
      ]
     },
     "execution_count": 10,
     "metadata": {},
     "output_type": "execute_result"
    },
    {
     "data": {
      "text/plain": [
       "Type 1\n",
       "Normal      18\n",
       "Grass       15\n",
       "Water       13\n",
       "Electric    12\n",
       "Bug         10\n",
       "Psychic      8\n",
       "Ghost        7\n",
       "Rock         6\n",
       "Poison       6\n",
       "Fire         5\n",
       "Ground       4\n",
       "Dragon       4\n",
       "Fighting     3\n",
       "Dark         3\n",
       "Steel        3\n",
       "Ice          3\n",
       "Fairy        1\n",
       "Name: count, dtype: int64"
      ]
     },
     "execution_count": 10,
     "metadata": {},
     "output_type": "execute_result"
    },
    {
     "data": {
      "text/plain": [
       "Type 2\n",
       "Flying      16\n",
       "Steel        9\n",
       "Ground       8\n",
       "Fighting     7\n",
       "Ice          5\n",
       "Dark         4\n",
       "Dragon       4\n",
       "Water        2\n",
       "Poison       2\n",
       "Grass        2\n",
       "Psychic      2\n",
       "Ghost        2\n",
       "Fairy        1\n",
       "Bug          1\n",
       "Rock         1\n",
       "Fire         1\n",
       "Name: count, dtype: int64"
      ]
     },
     "execution_count": 10,
     "metadata": {},
     "output_type": "execute_result"
    },
    {
     "data": {
      "text/plain": [
       "Type 1    Type 2  \n",
       "Bug       Flying      4\n",
       "Dragon    Ground      4\n",
       "Normal    Flying      4\n",
       "Grass     Ice         3\n",
       "Rock      Steel       3\n",
       "Poison    Dark        3\n",
       "Steel     Psychic     2\n",
       "Poison    Fighting    2\n",
       "Ghost     Flying      2\n",
       "          Dragon      2\n",
       "Fire      Fighting    2\n",
       "Fighting  Steel       2\n",
       "Psychic   Fighting    2\n",
       "Grass     Poison      2\n",
       "Ground    Rock        1\n",
       "Poison    Bug         1\n",
       "Normal    Water       1\n",
       "Steel     Dragon      1\n",
       "Psychic   Fairy       1\n",
       "Water     Flying      1\n",
       "Normal    Fighting    1\n",
       "Water     Dragon      1\n",
       "Ice       Ground      1\n",
       "          Ghost       1\n",
       "Water     Ground      1\n",
       "Grass     Ground      1\n",
       "Ground    Flying      1\n",
       "Bug       Grass       1\n",
       "          Ground      1\n",
       "          Steel       1\n",
       "Dark      Flying      1\n",
       "          Ice         1\n",
       "Electric  Fire        1\n",
       "          Flying      1\n",
       "          Ghost       1\n",
       "          Grass       1\n",
       "          Ice         1\n",
       "          Steel       1\n",
       "          Water       1\n",
       "Fairy     Flying      1\n",
       "Fire      Steel       1\n",
       "Ghost     Dark        1\n",
       "Grass     Flying      1\n",
       "Water     Steel       1\n",
       "Name: count, dtype: int64"
      ]
     },
     "execution_count": 10,
     "metadata": {},
     "output_type": "execute_result"
    },
    {
     "data": {
      "text/plain": [
       "Type 1\n",
       "Normal      19\n",
       "Bug         18\n",
       "Water       18\n",
       "Grass       15\n",
       "Psychic     14\n",
       "Dark        13\n",
       "Ground      10\n",
       "Fire         9\n",
       "Dragon       9\n",
       "Electric     8\n",
       "Fighting     7\n",
       "Rock         6\n",
       "Ice          6\n",
       "Ghost        5\n",
       "Steel        4\n",
       "Poison       2\n",
       "Flying       2\n",
       "Name: count, dtype: int64"
      ]
     },
     "execution_count": 10,
     "metadata": {},
     "output_type": "execute_result"
    },
    {
     "data": {
      "text/plain": [
       "Type 2\n",
       "Flying      19\n",
       "Fighting    10\n",
       "Steel        8\n",
       "Fire         7\n",
       "Grass        5\n",
       "Poison       5\n",
       "Rock         4\n",
       "Ghost        4\n",
       "Electric     4\n",
       "Fairy        3\n",
       "Dark         3\n",
       "Dragon       3\n",
       "Ice          3\n",
       "Ground       2\n",
       "Psychic      2\n",
       "Name: count, dtype: int64"
      ]
     },
     "execution_count": 10,
     "metadata": {},
     "output_type": "execute_result"
    },
    {
     "data": {
      "text/plain": [
       "Type 1    Type 2  \n",
       "Normal    Flying      5\n",
       "Ground    Dark        3\n",
       "Electric  Flying      3\n",
       "Bug       Grass       3\n",
       "          Poison      3\n",
       "          Steel       3\n",
       "Dark      Dragon      3\n",
       "Ghost     Fire        3\n",
       "Psychic   Flying      3\n",
       "Dragon    Ice         3\n",
       "Ground    Flying      2\n",
       "          Ghost       2\n",
       "Normal    Grass       2\n",
       "Bug       Electric    2\n",
       "          Fire        2\n",
       "Water     Fighting    2\n",
       "          Flying      2\n",
       "          Ghost       2\n",
       "          Ground      2\n",
       "Rock      Flying      2\n",
       "Grass     Steel       2\n",
       "          Poison      2\n",
       "Fire      Fighting    2\n",
       "Bug       Rock        2\n",
       "Dark      Fighting    2\n",
       "          Flying      2\n",
       "          Steel       2\n",
       "Water     Rock        2\n",
       "Grass     Fairy       2\n",
       "Fire      Psychic     1\n",
       "Normal    Fighting    1\n",
       "          Psychic     1\n",
       "Ground    Electric    1\n",
       "Dragon    Fire        1\n",
       "Rock      Fighting    1\n",
       "Dragon    Electric    1\n",
       "Steel     Fighting    1\n",
       "Normal    Fairy       1\n",
       "Ground    Steel       1\n",
       "Grass     Fighting    1\n",
       "Psychic   Fire        1\n",
       "Name: count, dtype: int64"
      ]
     },
     "execution_count": 10,
     "metadata": {},
     "output_type": "execute_result"
    },
    {
     "data": {
      "text/plain": [
       "Type 1\n",
       "Ghost       10\n",
       "Rock         9\n",
       "Fairy        9\n",
       "Fire         8\n",
       "Grass        5\n",
       "Psychic      5\n",
       "Steel        5\n",
       "Water        5\n",
       "Normal       4\n",
       "Dragon       4\n",
       "Fighting     3\n",
       "Bug          3\n",
       "Dark         3\n",
       "Electric     3\n",
       "Poison       2\n",
       "Ice          2\n",
       "Flying       2\n",
       "Name: count, dtype: int64"
      ]
     },
     "execution_count": 10,
     "metadata": {},
     "output_type": "execute_result"
    },
    {
     "data": {
      "text/plain": [
       "Type 2\n",
       "Grass       10\n",
       "Flying       6\n",
       "Ghost        5\n",
       "Dragon       5\n",
       "Fairy        5\n",
       "Normal       4\n",
       "Water        4\n",
       "Psychic      3\n",
       "Dark         3\n",
       "Ground       2\n",
       "Ice          2\n",
       "Fighting     1\n",
       "Name: count, dtype: int64"
      ]
     },
     "execution_count": 10,
     "metadata": {},
     "output_type": "execute_result"
    },
    {
     "data": {
      "text/plain": [
       "Type 1    Type 2  \n",
       "Ghost     Grass       10\n",
       "Steel     Ghost        4\n",
       "Rock      Fairy        3\n",
       "Fire      Flying       2\n",
       "Dark      Psychic      2\n",
       "Electric  Normal       2\n",
       "Rock      Water        2\n",
       "          Ice          2\n",
       "Fire      Normal       2\n",
       "Rock      Dragon       2\n",
       "Flying    Dragon       2\n",
       "Psychic   Dark         1\n",
       "          Ghost        1\n",
       "Bug       Flying       1\n",
       "Poison    Dragon       1\n",
       "Steel     Fairy        1\n",
       "Poison    Water        1\n",
       "Grass     Fighting     1\n",
       "Normal    Ground       1\n",
       "          Flying       1\n",
       "Dark      Flying       1\n",
       "Fire      Water        1\n",
       "          Psychic      1\n",
       "Fighting  Flying       1\n",
       "          Dark         1\n",
       "Electric  Fairy        1\n",
       "Dragon    Ground       1\n",
       "Water     Dark         1\n",
       "Name: count, dtype: int64"
      ]
     },
     "execution_count": 10,
     "metadata": {},
     "output_type": "execute_result"
    }
   ],
   "source": [
    "df_pokemon[df_pokemon['Generation'] == 1]['Type 1'].value_counts()\n",
    "df_pokemon[df_pokemon['Generation'] == 1]['Type 2'].value_counts()\n",
    "df_pokemon[df_pokemon['Generation'] == 1][['Type 1','Type 2']].value_counts()\n",
    "\n",
    "df_pokemon[df_pokemon['Generation'] == 2]['Type 1'].value_counts()\n",
    "df_pokemon[df_pokemon['Generation'] == 2]['Type 2'].value_counts()\n",
    "df_pokemon[df_pokemon['Generation'] == 2][['Type 1','Type 2']].value_counts()\n",
    "\n",
    "df_pokemon[df_pokemon['Generation'] == 3]['Type 1'].value_counts()\n",
    "df_pokemon[df_pokemon['Generation'] == 3]['Type 2'].value_counts()\n",
    "df_pokemon[df_pokemon['Generation'] == 3][['Type 1','Type 2']].value_counts()\n",
    "\n",
    "df_pokemon[df_pokemon['Generation'] == 4]['Type 1'].value_counts()\n",
    "df_pokemon[df_pokemon['Generation'] == 4]['Type 2'].value_counts()\n",
    "df_pokemon[df_pokemon['Generation'] == 4][['Type 1','Type 2']].value_counts()\n",
    "\n",
    "df_pokemon[df_pokemon['Generation'] == 5]['Type 1'].value_counts()\n",
    "df_pokemon[df_pokemon['Generation'] == 5]['Type 2'].value_counts()\n",
    "df_pokemon[df_pokemon['Generation'] == 5][['Type 1','Type 2']].value_counts()\n",
    "\n",
    "df_pokemon[df_pokemon['Generation'] == 6]['Type 1'].value_counts()\n",
    "df_pokemon[df_pokemon['Generation'] == 6]['Type 2'].value_counts()\n",
    "df_pokemon[df_pokemon['Generation'] == 6][['Type 1','Type 2']].value_counts()"
   ]
  },
  {
   "cell_type": "markdown",
   "id": "53fd14e1",
   "metadata": {
    "papermill": {
     "duration": 0.012074,
     "end_time": "2024-03-14T19:04:21.545049",
     "exception": false,
     "start_time": "2024-03-14T19:04:21.532975",
     "status": "completed"
    },
    "tags": []
   },
   "source": [
    "## legendary"
   ]
  },
  {
   "cell_type": "code",
   "execution_count": 11,
   "id": "72fee36e",
   "metadata": {
    "execution": {
     "iopub.execute_input": "2024-03-14T19:04:21.572127Z",
     "iopub.status.busy": "2024-03-14T19:04:21.571564Z",
     "iopub.status.idle": "2024-03-14T19:04:21.582543Z",
     "shell.execute_reply": "2024-03-14T19:04:21.581499Z"
    },
    "papermill": {
     "duration": 0.02743,
     "end_time": "2024-03-14T19:04:21.585250",
     "exception": false,
     "start_time": "2024-03-14T19:04:21.557820",
     "status": "completed"
    },
    "tags": []
   },
   "outputs": [
    {
     "data": {
      "text/plain": [
       "Legendary\n",
       "False    735\n",
       "True      65\n",
       "Name: count, dtype: int64"
      ]
     },
     "execution_count": 11,
     "metadata": {},
     "output_type": "execute_result"
    }
   ],
   "source": [
    "df_pokemon['Legendary'].value_counts()"
   ]
  },
  {
   "cell_type": "markdown",
   "id": "00463872",
   "metadata": {
    "papermill": {
     "duration": 0.012674,
     "end_time": "2024-03-14T19:04:21.610609",
     "exception": false,
     "start_time": "2024-03-14T19:04:21.597935",
     "status": "completed"
    },
    "tags": []
   },
   "source": [
    "### for legendary checking for generations and types"
   ]
  },
  {
   "cell_type": "code",
   "execution_count": 12,
   "id": "2bc1c981",
   "metadata": {
    "execution": {
     "iopub.execute_input": "2024-03-14T19:04:21.637595Z",
     "iopub.status.busy": "2024-03-14T19:04:21.637232Z",
     "iopub.status.idle": "2024-03-14T19:04:21.646826Z",
     "shell.execute_reply": "2024-03-14T19:04:21.645819Z"
    },
    "papermill": {
     "duration": 0.025827,
     "end_time": "2024-03-14T19:04:21.649110",
     "exception": false,
     "start_time": "2024-03-14T19:04:21.623283",
     "status": "completed"
    },
    "tags": []
   },
   "outputs": [
    {
     "data": {
      "text/plain": [
       "Generation\n",
       "3    18\n",
       "5    15\n",
       "4    13\n",
       "6     8\n",
       "1     6\n",
       "2     5\n",
       "Name: count, dtype: int64"
      ]
     },
     "execution_count": 12,
     "metadata": {},
     "output_type": "execute_result"
    }
   ],
   "source": [
    "df_pokemon[df_pokemon['Legendary'] == True]['Generation'].value_counts()"
   ]
  },
  {
   "cell_type": "code",
   "execution_count": 13,
   "id": "d74386e7",
   "metadata": {
    "execution": {
     "iopub.execute_input": "2024-03-14T19:04:21.676958Z",
     "iopub.status.busy": "2024-03-14T19:04:21.676540Z",
     "iopub.status.idle": "2024-03-14T19:04:21.700631Z",
     "shell.execute_reply": "2024-03-14T19:04:21.699357Z"
    },
    "papermill": {
     "duration": 0.040864,
     "end_time": "2024-03-14T19:04:21.703191",
     "exception": false,
     "start_time": "2024-03-14T19:04:21.662327",
     "status": "completed"
    },
    "tags": []
   },
   "outputs": [
    {
     "data": {
      "text/plain": [
       "Type 1\n",
       "Psychic     14\n",
       "Dragon      12\n",
       "Fire         5\n",
       "Electric     4\n",
       "Water        4\n",
       "Rock         4\n",
       "Steel        4\n",
       "Ground       4\n",
       "Grass        3\n",
       "Ice          2\n",
       "Normal       2\n",
       "Ghost        2\n",
       "Dark         2\n",
       "Flying       2\n",
       "Fairy        1\n",
       "Name: count, dtype: int64"
      ]
     },
     "execution_count": 13,
     "metadata": {},
     "output_type": "execute_result"
    },
    {
     "data": {
      "text/plain": [
       "Type 2\n",
       "Flying      13\n",
       "Psychic      5\n",
       "Fighting     4\n",
       "Dragon       4\n",
       "Fire         3\n",
       "Ice          3\n",
       "Fairy        2\n",
       "Steel        1\n",
       "Electric     1\n",
       "Ground       1\n",
       "Ghost        1\n",
       "Dark         1\n",
       "Water        1\n",
       "Name: count, dtype: int64"
      ]
     },
     "execution_count": 13,
     "metadata": {},
     "output_type": "execute_result"
    },
    {
     "data": {
      "text/plain": [
       "Type 1    Type 2  \n",
       "Dragon    Psychic     4\n",
       "          Ice         3\n",
       "Electric  Flying      3\n",
       "Fire      Flying      2\n",
       "Ghost     Dragon      2\n",
       "Ground    Flying      2\n",
       "Dragon    Flying      2\n",
       "Rock      Fairy       2\n",
       "Psychic   Flying      1\n",
       "          Ghost       1\n",
       "Dark      Flying      1\n",
       "Rock      Fighting    1\n",
       "Steel     Dragon      1\n",
       "Psychic   Fighting    1\n",
       "Steel     Fighting    1\n",
       "          Psychic     1\n",
       "Psychic   Fire        1\n",
       "Ground    Fire        1\n",
       "Psychic   Dark        1\n",
       "Ice       Flying      1\n",
       "Dragon    Electric    1\n",
       "Grass     Flying      1\n",
       "          Fighting    1\n",
       "Fire      Water       1\n",
       "          Steel       1\n",
       "Dragon    Ground      1\n",
       "          Fire        1\n",
       "Water     Dragon      1\n",
       "Name: count, dtype: int64"
      ]
     },
     "execution_count": 13,
     "metadata": {},
     "output_type": "execute_result"
    }
   ],
   "source": [
    "df_pokemon[df_pokemon['Legendary'] == True]['Type 1'].value_counts()\n",
    "df_pokemon[df_pokemon['Legendary'] == True]['Type 2'].value_counts()\n",
    "df_pokemon[df_pokemon['Legendary'] == True][['Type 1','Type 2']].value_counts()"
   ]
  },
  {
   "cell_type": "markdown",
   "id": "ffff8c9e",
   "metadata": {
    "papermill": {
     "duration": 0.012986,
     "end_time": "2024-03-14T19:04:21.729537",
     "exception": false,
     "start_time": "2024-03-14T19:04:21.716551",
     "status": "completed"
    },
    "tags": []
   },
   "source": [
    "# Channging column names for convenience"
   ]
  },
  {
   "cell_type": "code",
   "execution_count": 14,
   "id": "1838ceae",
   "metadata": {
    "execution": {
     "iopub.execute_input": "2024-03-14T19:04:21.757896Z",
     "iopub.status.busy": "2024-03-14T19:04:21.757267Z",
     "iopub.status.idle": "2024-03-14T19:04:21.764146Z",
     "shell.execute_reply": "2024-03-14T19:04:21.763084Z"
    },
    "papermill": {
     "duration": 0.023498,
     "end_time": "2024-03-14T19:04:21.766372",
     "exception": false,
     "start_time": "2024-03-14T19:04:21.742874",
     "status": "completed"
    },
    "tags": []
   },
   "outputs": [
    {
     "data": {
      "text/plain": [
       "['#',\n",
       " 'Name',\n",
       " 'Type 1',\n",
       " 'Type 2',\n",
       " 'HP',\n",
       " 'Attack',\n",
       " 'Defense',\n",
       " 'Sp. Atk',\n",
       " 'Sp. Def',\n",
       " 'Speed',\n",
       " 'Generation',\n",
       " 'Legendary']"
      ]
     },
     "execution_count": 14,
     "metadata": {},
     "output_type": "execute_result"
    }
   ],
   "source": [
    "df_pokemon.columns.tolist()"
   ]
  },
  {
   "cell_type": "code",
   "execution_count": 15,
   "id": "4dc1f0b5",
   "metadata": {
    "execution": {
     "iopub.execute_input": "2024-03-14T19:04:21.796205Z",
     "iopub.status.busy": "2024-03-14T19:04:21.795744Z",
     "iopub.status.idle": "2024-03-14T19:04:21.801783Z",
     "shell.execute_reply": "2024-03-14T19:04:21.800378Z"
    },
    "papermill": {
     "duration": 0.024352,
     "end_time": "2024-03-14T19:04:21.804145",
     "exception": false,
     "start_time": "2024-03-14T19:04:21.779793",
     "status": "completed"
    },
    "tags": []
   },
   "outputs": [],
   "source": [
    "df_pokemon.columns = df_pokemon.columns.str.lower()"
   ]
  },
  {
   "cell_type": "code",
   "execution_count": 16,
   "id": "2b33f6af",
   "metadata": {
    "execution": {
     "iopub.execute_input": "2024-03-14T19:04:21.833229Z",
     "iopub.status.busy": "2024-03-14T19:04:21.832469Z",
     "iopub.status.idle": "2024-03-14T19:04:21.850376Z",
     "shell.execute_reply": "2024-03-14T19:04:21.849356Z"
    },
    "papermill": {
     "duration": 0.035169,
     "end_time": "2024-03-14T19:04:21.852915",
     "exception": false,
     "start_time": "2024-03-14T19:04:21.817746",
     "status": "completed"
    },
    "tags": []
   },
   "outputs": [
    {
     "data": {
      "text/html": [
       "<div>\n",
       "<style scoped>\n",
       "    .dataframe tbody tr th:only-of-type {\n",
       "        vertical-align: middle;\n",
       "    }\n",
       "\n",
       "    .dataframe tbody tr th {\n",
       "        vertical-align: top;\n",
       "    }\n",
       "\n",
       "    .dataframe thead th {\n",
       "        text-align: right;\n",
       "    }\n",
       "</style>\n",
       "<table border=\"1\" class=\"dataframe\">\n",
       "  <thead>\n",
       "    <tr style=\"text-align: right;\">\n",
       "      <th></th>\n",
       "      <th>#</th>\n",
       "      <th>name</th>\n",
       "      <th>type 1</th>\n",
       "      <th>type 2</th>\n",
       "      <th>hp</th>\n",
       "      <th>attack</th>\n",
       "      <th>defense</th>\n",
       "      <th>sp. atk</th>\n",
       "      <th>sp. def</th>\n",
       "      <th>speed</th>\n",
       "      <th>generation</th>\n",
       "      <th>legendary</th>\n",
       "    </tr>\n",
       "  </thead>\n",
       "  <tbody>\n",
       "    <tr>\n",
       "      <th>0</th>\n",
       "      <td>1</td>\n",
       "      <td>Bulbasaur</td>\n",
       "      <td>Grass</td>\n",
       "      <td>Poison</td>\n",
       "      <td>45</td>\n",
       "      <td>49</td>\n",
       "      <td>49</td>\n",
       "      <td>65</td>\n",
       "      <td>65</td>\n",
       "      <td>45</td>\n",
       "      <td>1</td>\n",
       "      <td>False</td>\n",
       "    </tr>\n",
       "    <tr>\n",
       "      <th>1</th>\n",
       "      <td>2</td>\n",
       "      <td>Ivysaur</td>\n",
       "      <td>Grass</td>\n",
       "      <td>Poison</td>\n",
       "      <td>60</td>\n",
       "      <td>62</td>\n",
       "      <td>63</td>\n",
       "      <td>80</td>\n",
       "      <td>80</td>\n",
       "      <td>60</td>\n",
       "      <td>1</td>\n",
       "      <td>False</td>\n",
       "    </tr>\n",
       "    <tr>\n",
       "      <th>2</th>\n",
       "      <td>3</td>\n",
       "      <td>Venusaur</td>\n",
       "      <td>Grass</td>\n",
       "      <td>Poison</td>\n",
       "      <td>80</td>\n",
       "      <td>82</td>\n",
       "      <td>83</td>\n",
       "      <td>100</td>\n",
       "      <td>100</td>\n",
       "      <td>80</td>\n",
       "      <td>1</td>\n",
       "      <td>False</td>\n",
       "    </tr>\n",
       "    <tr>\n",
       "      <th>3</th>\n",
       "      <td>4</td>\n",
       "      <td>Mega Venusaur</td>\n",
       "      <td>Grass</td>\n",
       "      <td>Poison</td>\n",
       "      <td>80</td>\n",
       "      <td>100</td>\n",
       "      <td>123</td>\n",
       "      <td>122</td>\n",
       "      <td>120</td>\n",
       "      <td>80</td>\n",
       "      <td>1</td>\n",
       "      <td>False</td>\n",
       "    </tr>\n",
       "    <tr>\n",
       "      <th>4</th>\n",
       "      <td>5</td>\n",
       "      <td>Charmander</td>\n",
       "      <td>Fire</td>\n",
       "      <td>NaN</td>\n",
       "      <td>39</td>\n",
       "      <td>52</td>\n",
       "      <td>43</td>\n",
       "      <td>60</td>\n",
       "      <td>50</td>\n",
       "      <td>65</td>\n",
       "      <td>1</td>\n",
       "      <td>False</td>\n",
       "    </tr>\n",
       "    <tr>\n",
       "      <th>...</th>\n",
       "      <td>...</td>\n",
       "      <td>...</td>\n",
       "      <td>...</td>\n",
       "      <td>...</td>\n",
       "      <td>...</td>\n",
       "      <td>...</td>\n",
       "      <td>...</td>\n",
       "      <td>...</td>\n",
       "      <td>...</td>\n",
       "      <td>...</td>\n",
       "      <td>...</td>\n",
       "      <td>...</td>\n",
       "    </tr>\n",
       "    <tr>\n",
       "      <th>795</th>\n",
       "      <td>796</td>\n",
       "      <td>Diancie</td>\n",
       "      <td>Rock</td>\n",
       "      <td>Fairy</td>\n",
       "      <td>50</td>\n",
       "      <td>100</td>\n",
       "      <td>150</td>\n",
       "      <td>100</td>\n",
       "      <td>150</td>\n",
       "      <td>50</td>\n",
       "      <td>6</td>\n",
       "      <td>True</td>\n",
       "    </tr>\n",
       "    <tr>\n",
       "      <th>796</th>\n",
       "      <td>797</td>\n",
       "      <td>Mega Diancie</td>\n",
       "      <td>Rock</td>\n",
       "      <td>Fairy</td>\n",
       "      <td>50</td>\n",
       "      <td>160</td>\n",
       "      <td>110</td>\n",
       "      <td>160</td>\n",
       "      <td>110</td>\n",
       "      <td>110</td>\n",
       "      <td>6</td>\n",
       "      <td>True</td>\n",
       "    </tr>\n",
       "    <tr>\n",
       "      <th>797</th>\n",
       "      <td>798</td>\n",
       "      <td>Hoopa Confined</td>\n",
       "      <td>Psychic</td>\n",
       "      <td>Ghost</td>\n",
       "      <td>80</td>\n",
       "      <td>110</td>\n",
       "      <td>60</td>\n",
       "      <td>150</td>\n",
       "      <td>130</td>\n",
       "      <td>70</td>\n",
       "      <td>6</td>\n",
       "      <td>True</td>\n",
       "    </tr>\n",
       "    <tr>\n",
       "      <th>798</th>\n",
       "      <td>799</td>\n",
       "      <td>Hoopa Unbound</td>\n",
       "      <td>Psychic</td>\n",
       "      <td>Dark</td>\n",
       "      <td>80</td>\n",
       "      <td>160</td>\n",
       "      <td>60</td>\n",
       "      <td>170</td>\n",
       "      <td>130</td>\n",
       "      <td>80</td>\n",
       "      <td>6</td>\n",
       "      <td>True</td>\n",
       "    </tr>\n",
       "    <tr>\n",
       "      <th>799</th>\n",
       "      <td>800</td>\n",
       "      <td>Volcanion</td>\n",
       "      <td>Fire</td>\n",
       "      <td>Water</td>\n",
       "      <td>80</td>\n",
       "      <td>110</td>\n",
       "      <td>120</td>\n",
       "      <td>130</td>\n",
       "      <td>90</td>\n",
       "      <td>70</td>\n",
       "      <td>6</td>\n",
       "      <td>True</td>\n",
       "    </tr>\n",
       "  </tbody>\n",
       "</table>\n",
       "<p>800 rows × 12 columns</p>\n",
       "</div>"
      ],
      "text/plain": [
       "       #            name   type 1  type 2  hp  attack  defense  sp. atk  \\\n",
       "0      1       Bulbasaur    Grass  Poison  45      49       49       65   \n",
       "1      2         Ivysaur    Grass  Poison  60      62       63       80   \n",
       "2      3        Venusaur    Grass  Poison  80      82       83      100   \n",
       "3      4   Mega Venusaur    Grass  Poison  80     100      123      122   \n",
       "4      5      Charmander     Fire     NaN  39      52       43       60   \n",
       "..   ...             ...      ...     ...  ..     ...      ...      ...   \n",
       "795  796         Diancie     Rock   Fairy  50     100      150      100   \n",
       "796  797    Mega Diancie     Rock   Fairy  50     160      110      160   \n",
       "797  798  Hoopa Confined  Psychic   Ghost  80     110       60      150   \n",
       "798  799   Hoopa Unbound  Psychic    Dark  80     160       60      170   \n",
       "799  800       Volcanion     Fire   Water  80     110      120      130   \n",
       "\n",
       "     sp. def  speed  generation  legendary  \n",
       "0         65     45           1      False  \n",
       "1         80     60           1      False  \n",
       "2        100     80           1      False  \n",
       "3        120     80           1      False  \n",
       "4         50     65           1      False  \n",
       "..       ...    ...         ...        ...  \n",
       "795      150     50           6       True  \n",
       "796      110    110           6       True  \n",
       "797      130     70           6       True  \n",
       "798      130     80           6       True  \n",
       "799       90     70           6       True  \n",
       "\n",
       "[800 rows x 12 columns]"
      ]
     },
     "execution_count": 16,
     "metadata": {},
     "output_type": "execute_result"
    }
   ],
   "source": [
    "df_pokemon"
   ]
  },
  {
   "cell_type": "code",
   "execution_count": null,
   "id": "d08cd4b7",
   "metadata": {
    "papermill": {
     "duration": 0.013571,
     "end_time": "2024-03-14T19:04:21.880390",
     "exception": false,
     "start_time": "2024-03-14T19:04:21.866819",
     "status": "completed"
    },
    "tags": []
   },
   "outputs": [],
   "source": []
  }
 ],
 "metadata": {
  "kaggle": {
   "accelerator": "none",
   "dataSources": [
    {
     "datasetId": 2619,
     "sourceId": 4359,
     "sourceType": "datasetVersion"
    }
   ],
   "dockerImageVersionId": 30664,
   "isGpuEnabled": false,
   "isInternetEnabled": true,
   "language": "python",
   "sourceType": "notebook"
  },
  "kernelspec": {
   "display_name": "Python 3",
   "language": "python",
   "name": "python3"
  },
  "language_info": {
   "codemirror_mode": {
    "name": "ipython",
    "version": 3
   },
   "file_extension": ".py",
   "mimetype": "text/x-python",
   "name": "python",
   "nbconvert_exporter": "python",
   "pygments_lexer": "ipython3",
   "version": "3.10.13"
  },
  "papermill": {
   "default_parameters": {},
   "duration": 5.721303,
   "end_time": "2024-03-14T19:04:22.415888",
   "environment_variables": {},
   "exception": null,
   "input_path": "__notebook__.ipynb",
   "output_path": "__notebook__.ipynb",
   "parameters": {},
   "start_time": "2024-03-14T19:04:16.694585",
   "version": "2.5.0"
  }
 },
 "nbformat": 4,
 "nbformat_minor": 5
}
