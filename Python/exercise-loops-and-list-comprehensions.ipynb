{
 "cells": [
  {
   "cell_type": "markdown",
   "id": "f86bd270",
   "metadata": {
    "papermill": {
     "duration": 0.005652,
     "end_time": "2024-02-24T18:00:14.434513",
     "exception": false,
     "start_time": "2024-02-24T18:00:14.428861",
     "status": "completed"
    },
    "tags": []
   },
   "source": [
    "**This notebook is an exercise in the [Python](https://www.kaggle.com/learn/python) course.  You can reference the tutorial at [this link](https://www.kaggle.com/colinmorris/loops-and-list-comprehensions).**\n",
    "\n",
    "---\n"
   ]
  },
  {
   "cell_type": "markdown",
   "id": "5b4efc68",
   "metadata": {
    "papermill": {
     "duration": 0.004792,
     "end_time": "2024-02-24T18:00:14.444616",
     "exception": false,
     "start_time": "2024-02-24T18:00:14.439824",
     "status": "completed"
    },
    "tags": []
   },
   "source": [
    "With all you've learned, you can start writing much more interesting programs. See if you can solve the problems below.\n",
    "\n",
    "As always, run the setup code below before working on the questions."
   ]
  },
  {
   "cell_type": "code",
   "execution_count": 1,
   "id": "6f0acefd",
   "metadata": {
    "execution": {
     "iopub.execute_input": "2024-02-24T18:00:14.456587Z",
     "iopub.status.busy": "2024-02-24T18:00:14.456211Z",
     "iopub.status.idle": "2024-02-24T18:00:15.259210Z",
     "shell.execute_reply": "2024-02-24T18:00:15.258193Z"
    },
    "papermill": {
     "duration": 0.812945,
     "end_time": "2024-02-24T18:00:15.262655",
     "exception": false,
     "start_time": "2024-02-24T18:00:14.449710",
     "status": "completed"
    },
    "tags": []
   },
   "outputs": [
    {
     "name": "stdout",
     "output_type": "stream",
     "text": [
      "Setup complete.\n"
     ]
    }
   ],
   "source": [
    "from learntools.core import binder; binder.bind(globals())\n",
    "from learntools.python.ex5 import *\n",
    "print('Setup complete.')"
   ]
  },
  {
   "cell_type": "markdown",
   "id": "0ed16840",
   "metadata": {
    "papermill": {
     "duration": 0.00561,
     "end_time": "2024-02-24T18:00:15.274141",
     "exception": false,
     "start_time": "2024-02-24T18:00:15.268531",
     "status": "completed"
    },
    "tags": []
   },
   "source": [
    "# 1.\n",
    "\n",
    "Have you ever felt debugging involved a bit of luck? The following program has a bug. Try to identify the bug and fix it."
   ]
  },
  {
   "cell_type": "code",
   "execution_count": 2,
   "id": "e8a9d938",
   "metadata": {
    "execution": {
     "iopub.execute_input": "2024-02-24T18:00:15.286218Z",
     "iopub.status.busy": "2024-02-24T18:00:15.285694Z",
     "iopub.status.idle": "2024-02-24T18:00:15.290934Z",
     "shell.execute_reply": "2024-02-24T18:00:15.289811Z"
    },
    "papermill": {
     "duration": 0.01365,
     "end_time": "2024-02-24T18:00:15.292900",
     "exception": false,
     "start_time": "2024-02-24T18:00:15.279250",
     "status": "completed"
    },
    "tags": []
   },
   "outputs": [],
   "source": [
    "def has_lucky_number(nums):\n",
    "    \"\"\"Return whether the given list of numbers is lucky. A lucky list contains\n",
    "    at least one number divisible by 7.\n",
    "    \"\"\"\n",
    "    for num in nums:\n",
    "        if num % 7 == 0:\n",
    "            return True\n",
    "        else:\n",
    "            return False"
   ]
  },
  {
   "cell_type": "markdown",
   "id": "bdb43b3c",
   "metadata": {
    "papermill": {
     "duration": 0.005062,
     "end_time": "2024-02-24T18:00:15.303190",
     "exception": false,
     "start_time": "2024-02-24T18:00:15.298128",
     "status": "completed"
    },
    "tags": []
   },
   "source": [
    "Try to identify the bug and fix it in the cell below:"
   ]
  },
  {
   "cell_type": "code",
   "execution_count": 3,
   "id": "7ca02b90",
   "metadata": {
    "execution": {
     "iopub.execute_input": "2024-02-24T18:00:15.315515Z",
     "iopub.status.busy": "2024-02-24T18:00:15.314846Z",
     "iopub.status.idle": "2024-02-24T18:00:15.323276Z",
     "shell.execute_reply": "2024-02-24T18:00:15.322512Z"
    },
    "papermill": {
     "duration": 0.016743,
     "end_time": "2024-02-24T18:00:15.325044",
     "exception": false,
     "start_time": "2024-02-24T18:00:15.308301",
     "status": "completed"
    },
    "tags": []
   },
   "outputs": [
    {
     "data": {
      "application/javascript": [
       "parent.postMessage({\"jupyterEvent\": \"custom.exercise_interaction\", \"data\": {\"outcomeType\": 1, \"valueTowardsCompletion\": 0.25, \"interactionType\": 1, \"questionType\": 2, \"questionId\": \"1_EarlyExitDebugging\", \"learnToolsVersion\": \"0.3.4\", \"failureMessage\": \"\", \"exceptionClass\": \"\", \"trace\": \"\"}}, \"*\")"
      ],
      "text/plain": [
       "<IPython.core.display.Javascript object>"
      ]
     },
     "metadata": {},
     "output_type": "display_data"
    },
    {
     "data": {
      "text/markdown": [
       "<span style=\"color:#33cc33\">Correct:</span> \n",
       "\n",
       "Remember that `return` causes a function to exit immediately. So our original implementation always ran for just one iteration. We can only return `False` if we've looked at every element of the list (and confirmed that none of them are lucky). Though we can return early if the answer is `True`:\n",
       "\n",
       "```python\n",
       "def has_lucky_number(nums):\n",
       "    for num in nums:\n",
       "        if num % 7 == 0:\n",
       "            return True\n",
       "    # We've exhausted the list without finding a lucky number\n",
       "    return False\n",
       "```\n",
       "\n",
       "Here's a one-line version using a list comprehension with Python's `any` function (you can read about what it does by calling `help(any)`):\n",
       "\n",
       "```python\n",
       "def has_lucky_number(nums):\n",
       "    return any([num % 7 == 0 for num in nums])\n",
       "```\n"
      ],
      "text/plain": [
       "Correct: \n",
       "\n",
       "Remember that `return` causes a function to exit immediately. So our original implementation always ran for just one iteration. We can only return `False` if we've looked at every element of the list (and confirmed that none of them are lucky). Though we can return early if the answer is `True`:\n",
       "\n",
       "```python\n",
       "def has_lucky_number(nums):\n",
       "    for num in nums:\n",
       "        if num % 7 == 0:\n",
       "            return True\n",
       "    # We've exhausted the list without finding a lucky number\n",
       "    return False\n",
       "```\n",
       "\n",
       "Here's a one-line version using a list comprehension with Python's `any` function (you can read about what it does by calling `help(any)`):\n",
       "\n",
       "```python\n",
       "def has_lucky_number(nums):\n",
       "    return any([num % 7 == 0 for num in nums])\n",
       "```"
      ]
     },
     "metadata": {},
     "output_type": "display_data"
    }
   ],
   "source": [
    "def has_lucky_number(nums):\n",
    "    \"\"\"Return whether the given list of numbers is lucky. A lucky list contains\n",
    "    at least one number divisible by 7.\n",
    "    \"\"\"\n",
    "    for num in nums:\n",
    "        if num % 7 == 0:\n",
    "            return True\n",
    "    return False\n",
    "\n",
    "# Check your answer\n",
    "q1.check()"
   ]
  },
  {
   "cell_type": "code",
   "execution_count": 4,
   "id": "29f29ab3",
   "metadata": {
    "execution": {
     "iopub.execute_input": "2024-02-24T18:00:15.337734Z",
     "iopub.status.busy": "2024-02-24T18:00:15.337119Z",
     "iopub.status.idle": "2024-02-24T18:00:15.340564Z",
     "shell.execute_reply": "2024-02-24T18:00:15.339835Z"
    },
    "papermill": {
     "duration": 0.011991,
     "end_time": "2024-02-24T18:00:15.342510",
     "exception": false,
     "start_time": "2024-02-24T18:00:15.330519",
     "status": "completed"
    },
    "tags": []
   },
   "outputs": [],
   "source": [
    "#q1.hint()\n",
    "#q1.solution()"
   ]
  },
  {
   "cell_type": "markdown",
   "id": "5a9cdefe",
   "metadata": {
    "papermill": {
     "duration": 0.005252,
     "end_time": "2024-02-24T18:00:15.353507",
     "exception": false,
     "start_time": "2024-02-24T18:00:15.348255",
     "status": "completed"
    },
    "tags": []
   },
   "source": [
    "# 2.\n",
    "Look at the Python expression below. What do you think we'll get when we run it? When you've made your prediction, uncomment the code and run the cell to see if you were right."
   ]
  },
  {
   "cell_type": "code",
   "execution_count": 5,
   "id": "cdfb3c0c",
   "metadata": {
    "execution": {
     "iopub.execute_input": "2024-02-24T18:00:15.366522Z",
     "iopub.status.busy": "2024-02-24T18:00:15.365800Z",
     "iopub.status.idle": "2024-02-24T18:00:15.369641Z",
     "shell.execute_reply": "2024-02-24T18:00:15.368838Z"
    },
    "papermill": {
     "duration": 0.01295,
     "end_time": "2024-02-24T18:00:15.371921",
     "exception": false,
     "start_time": "2024-02-24T18:00:15.358971",
     "status": "completed"
    },
    "tags": []
   },
   "outputs": [],
   "source": [
    "# [1, 2, 3, 4] > 2"
   ]
  },
  {
   "cell_type": "markdown",
   "id": "4bc71636",
   "metadata": {
    "papermill": {
     "duration": 0.005626,
     "end_time": "2024-02-24T18:00:15.383133",
     "exception": false,
     "start_time": "2024-02-24T18:00:15.377507",
     "status": "completed"
    },
    "tags": []
   },
   "source": [
    "R and Python have some libraries (like numpy and pandas) compare each element of the list to 2 (i.e. do an 'element-wise' comparison) and give us a list of booleans like `[False, False, True, True]`. \n",
    "\n",
    "Implement a function that reproduces this behaviour, returning a list of booleans corresponding to whether the corresponding element is greater than n."
   ]
  },
  {
   "cell_type": "code",
   "execution_count": 6,
   "id": "02532136",
   "metadata": {
    "execution": {
     "iopub.execute_input": "2024-02-24T18:00:15.396883Z",
     "iopub.status.busy": "2024-02-24T18:00:15.396501Z",
     "iopub.status.idle": "2024-02-24T18:00:15.404411Z",
     "shell.execute_reply": "2024-02-24T18:00:15.403374Z"
    },
    "papermill": {
     "duration": 0.01778,
     "end_time": "2024-02-24T18:00:15.406378",
     "exception": false,
     "start_time": "2024-02-24T18:00:15.388598",
     "status": "completed"
    },
    "tags": []
   },
   "outputs": [
    {
     "data": {
      "application/javascript": [
       "parent.postMessage({\"jupyterEvent\": \"custom.exercise_interaction\", \"data\": {\"outcomeType\": 1, \"valueTowardsCompletion\": 0.25, \"interactionType\": 1, \"questionType\": 2, \"questionId\": \"2_ElementWiseComparison\", \"learnToolsVersion\": \"0.3.4\", \"failureMessage\": \"\", \"exceptionClass\": \"\", \"trace\": \"\"}}, \"*\")"
      ],
      "text/plain": [
       "<IPython.core.display.Javascript object>"
      ]
     },
     "metadata": {},
     "output_type": "display_data"
    },
    {
     "data": {
      "text/markdown": [
       "<span style=\"color:#33cc33\">Correct:</span> \n",
       "\n",
       "Here's one solution:\n",
       "```python\n",
       "def elementwise_greater_than(L, thresh):\n",
       "    res = []\n",
       "    for ele in L:\n",
       "        res.append(ele > thresh)\n",
       "    return res\n",
       "```\n",
       "\n",
       "And here's the list comprehension version:\n",
       "```python\n",
       "def elementwise_greater_than(L, thresh):\n",
       "    return [ele > thresh for ele in L]\n",
       "```\n"
      ],
      "text/plain": [
       "Correct: \n",
       "\n",
       "Here's one solution:\n",
       "```python\n",
       "def elementwise_greater_than(L, thresh):\n",
       "    res = []\n",
       "    for ele in L:\n",
       "        res.append(ele > thresh)\n",
       "    return res\n",
       "```\n",
       "\n",
       "And here's the list comprehension version:\n",
       "```python\n",
       "def elementwise_greater_than(L, thresh):\n",
       "    return [ele > thresh for ele in L]\n",
       "```"
      ]
     },
     "metadata": {},
     "output_type": "display_data"
    }
   ],
   "source": [
    "def elementwise_greater_than(L, thresh):\n",
    "    \"\"\"Return a list with the same length as L, where the value at index i is \n",
    "    True if L[i] is greater than thresh, and False otherwise.\n",
    "    \n",
    "    >>> elementwise_greater_than([1, 2, 3, 4], 2)\n",
    "    [False, False, True, True]\n",
    "    \"\"\"\n",
    "    return [num > thresh for num in L]\n",
    "\n",
    "# Check your answer\n",
    "q2.check()"
   ]
  },
  {
   "cell_type": "code",
   "execution_count": 7,
   "id": "9933b3db",
   "metadata": {
    "execution": {
     "iopub.execute_input": "2024-02-24T18:00:15.419325Z",
     "iopub.status.busy": "2024-02-24T18:00:15.418962Z",
     "iopub.status.idle": "2024-02-24T18:00:15.423093Z",
     "shell.execute_reply": "2024-02-24T18:00:15.422218Z"
    },
    "papermill": {
     "duration": 0.012772,
     "end_time": "2024-02-24T18:00:15.424880",
     "exception": false,
     "start_time": "2024-02-24T18:00:15.412108",
     "status": "completed"
    },
    "tags": []
   },
   "outputs": [],
   "source": [
    "#q2.solution()"
   ]
  },
  {
   "cell_type": "markdown",
   "id": "364375bc",
   "metadata": {
    "papermill": {
     "duration": 0.005391,
     "end_time": "2024-02-24T18:00:15.435969",
     "exception": false,
     "start_time": "2024-02-24T18:00:15.430578",
     "status": "completed"
    },
    "tags": []
   },
   "source": [
    "# 3.\n",
    "\n",
    "Complete the body of the function below according to its docstring."
   ]
  },
  {
   "cell_type": "code",
   "execution_count": 8,
   "id": "6f2dbbf1",
   "metadata": {
    "execution": {
     "iopub.execute_input": "2024-02-24T18:00:15.449108Z",
     "iopub.status.busy": "2024-02-24T18:00:15.448546Z",
     "iopub.status.idle": "2024-02-24T18:00:15.456766Z",
     "shell.execute_reply": "2024-02-24T18:00:15.456053Z"
    },
    "papermill": {
     "duration": 0.016884,
     "end_time": "2024-02-24T18:00:15.458551",
     "exception": false,
     "start_time": "2024-02-24T18:00:15.441667",
     "status": "completed"
    },
    "tags": []
   },
   "outputs": [
    {
     "data": {
      "application/javascript": [
       "parent.postMessage({\"jupyterEvent\": \"custom.exercise_interaction\", \"data\": {\"outcomeType\": 1, \"valueTowardsCompletion\": 0.25, \"interactionType\": 1, \"questionType\": 2, \"questionId\": \"3_BoringMenu\", \"learnToolsVersion\": \"0.3.4\", \"failureMessage\": \"\", \"exceptionClass\": \"\", \"trace\": \"\"}}, \"*\")"
      ],
      "text/plain": [
       "<IPython.core.display.Javascript object>"
      ]
     },
     "metadata": {},
     "output_type": "display_data"
    },
    {
     "data": {
      "text/markdown": [
       "<span style=\"color:#33cc33\">Correct:</span> \n",
       "\n",
       "\n",
       "\n",
       "```python\n",
       "def menu_is_boring(meals):\n",
       "    # Iterate over all indices of the list, except the last one\n",
       "    for i in range(len(meals)-1):\n",
       "        if meals[i] == meals[i+1]:\n",
       "            return True\n",
       "    return False\n",
       "```\n",
       "\n",
       "The key to our solution is the call to `range`. `range(len(meals))` would give us all the indices of `meals`. If we had used that range, the last iteration of the loop would be comparing the last element to the element after it, which is... `IndexError`! `range(len(meals)-1)` gives us all the indices except the index of the last element.\n",
       "\n",
       "But don't we need to check if `meals` is empty? Turns out that `range(0) == range(-1)` - they're both empty. So if `meals` has length 0 or 1, we just won't do any iterations of our for loop.\n"
      ],
      "text/plain": [
       "Correct: \n",
       "\n",
       "\n",
       "\n",
       "```python\n",
       "def menu_is_boring(meals):\n",
       "    # Iterate over all indices of the list, except the last one\n",
       "    for i in range(len(meals)-1):\n",
       "        if meals[i] == meals[i+1]:\n",
       "            return True\n",
       "    return False\n",
       "```\n",
       "\n",
       "The key to our solution is the call to `range`. `range(len(meals))` would give us all the indices of `meals`. If we had used that range, the last iteration of the loop would be comparing the last element to the element after it, which is... `IndexError`! `range(len(meals)-1)` gives us all the indices except the index of the last element.\n",
       "\n",
       "But don't we need to check if `meals` is empty? Turns out that `range(0) == range(-1)` - they're both empty. So if `meals` has length 0 or 1, we just won't do any iterations of our for loop."
      ]
     },
     "metadata": {},
     "output_type": "display_data"
    }
   ],
   "source": [
    "def menu_is_boring(meals):\n",
    "    \"\"\"Given a list of meals served over some period of time, return True if the\n",
    "    same meal has ever been served two days in a row, and False otherwise.\n",
    "    \"\"\"\n",
    "    for i in range(len(meals) - 1):\n",
    "        if meals[i] == meals[i+1]:\n",
    "            return True\n",
    "    return False\n",
    "# Check your answer\n",
    "q3.check()"
   ]
  },
  {
   "cell_type": "code",
   "execution_count": 9,
   "id": "99f95333",
   "metadata": {
    "execution": {
     "iopub.execute_input": "2024-02-24T18:00:15.472300Z",
     "iopub.status.busy": "2024-02-24T18:00:15.471664Z",
     "iopub.status.idle": "2024-02-24T18:00:15.475491Z",
     "shell.execute_reply": "2024-02-24T18:00:15.474424Z"
    },
    "papermill": {
     "duration": 0.012915,
     "end_time": "2024-02-24T18:00:15.477388",
     "exception": false,
     "start_time": "2024-02-24T18:00:15.464473",
     "status": "completed"
    },
    "tags": []
   },
   "outputs": [],
   "source": [
    "#q3.hint()\n",
    "#q3.solution()"
   ]
  },
  {
   "cell_type": "markdown",
   "id": "26384bc7",
   "metadata": {
    "papermill": {
     "duration": 0.005875,
     "end_time": "2024-02-24T18:00:15.489431",
     "exception": false,
     "start_time": "2024-02-24T18:00:15.483556",
     "status": "completed"
    },
    "tags": []
   },
   "source": [
    "# 4. <span title=\"A bit spicy\" style=\"color: darkgreen \">🌶️</span>\n",
    "\n",
    "Next to the Blackjack table, the Python Challenge Casino has a slot machine. You can get a result from the slot machine by calling `play_slot_machine()`. The number it returns is your winnings in dollars. Usually it returns 0.  But sometimes you'll get lucky and get a big payday. Try running it below:"
   ]
  },
  {
   "cell_type": "code",
   "execution_count": 10,
   "id": "84dc503d",
   "metadata": {
    "execution": {
     "iopub.execute_input": "2024-02-24T18:00:15.503148Z",
     "iopub.status.busy": "2024-02-24T18:00:15.502756Z",
     "iopub.status.idle": "2024-02-24T18:00:15.508731Z",
     "shell.execute_reply": "2024-02-24T18:00:15.507819Z"
    },
    "papermill": {
     "duration": 0.015054,
     "end_time": "2024-02-24T18:00:15.510537",
     "exception": false,
     "start_time": "2024-02-24T18:00:15.495483",
     "status": "completed"
    },
    "tags": []
   },
   "outputs": [
    {
     "data": {
      "text/plain": [
       "1.5"
      ]
     },
     "execution_count": 10,
     "metadata": {},
     "output_type": "execute_result"
    }
   ],
   "source": [
    "play_slot_machine()"
   ]
  },
  {
   "cell_type": "markdown",
   "id": "d270cdc3",
   "metadata": {
    "papermill": {
     "duration": 0.005972,
     "end_time": "2024-02-24T18:00:15.522828",
     "exception": false,
     "start_time": "2024-02-24T18:00:15.516856",
     "status": "completed"
    },
    "tags": []
   },
   "source": [
    "By the way, did we mention that each play costs $1? Don't worry, we'll send you the bill later.\n",
    "\n",
    "On average, how much money can you expect to gain (or lose) every time you play the machine?  The casino keeps it a secret, but you can estimate the average value of each pull using a technique called the **Monte Carlo method**. To estimate the average outcome, we simulate the scenario many times, and return the average result.\n",
    "\n",
    "Complete the following function to calculate the average value per play of the slot machine."
   ]
  },
  {
   "cell_type": "code",
   "execution_count": 11,
   "id": "2467aa2e",
   "metadata": {
    "execution": {
     "iopub.execute_input": "2024-02-24T18:00:15.537029Z",
     "iopub.status.busy": "2024-02-24T18:00:15.536388Z",
     "iopub.status.idle": "2024-02-24T18:00:15.541582Z",
     "shell.execute_reply": "2024-02-24T18:00:15.540588Z"
    },
    "papermill": {
     "duration": 0.014785,
     "end_time": "2024-02-24T18:00:15.543754",
     "exception": false,
     "start_time": "2024-02-24T18:00:15.528969",
     "status": "completed"
    },
    "tags": []
   },
   "outputs": [],
   "source": [
    "def estimate_average_slot_payout(n_runs):\n",
    "    \"\"\"Run the slot machine n_runs times and return the average net profit per run.\n",
    "    Example calls (note that return value is nondeterministic!):\n",
    "    >>> estimate_average_slot_payout(1)\n",
    "    -1\n",
    "    >>> estimate_average_slot_payout(1)\n",
    "    0.5\n",
    "    \"\"\"\n",
    "    paypouts = [play_slot_machine() - 1 for i in range(n_runs)]\n",
    "    return sum(payouts)/n_runs"
   ]
  },
  {
   "cell_type": "markdown",
   "id": "0c573a41",
   "metadata": {
    "papermill": {
     "duration": 0.005918,
     "end_time": "2024-02-24T18:00:15.555797",
     "exception": false,
     "start_time": "2024-02-24T18:00:15.549879",
     "status": "completed"
    },
    "tags": []
   },
   "source": [
    "When you think you know the expected value per spin, run the code cell below to view the solution and get credit for answering the question."
   ]
  },
  {
   "cell_type": "code",
   "execution_count": 12,
   "id": "42e721ef",
   "metadata": {
    "execution": {
     "iopub.execute_input": "2024-02-24T18:00:15.569915Z",
     "iopub.status.busy": "2024-02-24T18:00:15.568878Z",
     "iopub.status.idle": "2024-02-24T18:00:15.577511Z",
     "shell.execute_reply": "2024-02-24T18:00:15.576715Z"
    },
    "papermill": {
     "duration": 0.017609,
     "end_time": "2024-02-24T18:00:15.579411",
     "exception": false,
     "start_time": "2024-02-24T18:00:15.561802",
     "status": "completed"
    },
    "tags": []
   },
   "outputs": [
    {
     "data": {
      "application/javascript": [
       "parent.postMessage({\"jupyterEvent\": \"custom.exercise_interaction\", \"data\": {\"interactionType\": 3, \"questionType\": 4, \"questionId\": \"4_ExpectedSlotsPayout\", \"learnToolsVersion\": \"0.3.4\", \"valueTowardsCompletion\": 0.0, \"failureMessage\": \"\", \"exceptionClass\": \"\", \"trace\": \"\", \"outcomeType\": 4}}, \"*\")"
      ],
      "text/plain": [
       "<IPython.core.display.Javascript object>"
      ]
     },
     "metadata": {},
     "output_type": "display_data"
    },
    {
     "data": {
      "text/markdown": [
       "<span style=\"color:#33cc99\">Solution:</span> \n",
       "    \n",
       "The exact expected value of one pull of the slot machine is 0.025 - i.e. a little more than 2 cents.  See?  Not every game in the Python Challenge Casino is rigged against the player!\n",
       "\n",
       "In order to get this answer, you'll need to implement the `estimate_average_slot_payout(n_runs)` function to simulate pulling the slot machine `n_runs` times.  It should return the payout averaged over those `n_runs`.\n",
       "\n",
       "Then, once the function is defined, in order to estimate the average slot payout, we need only call the function.\n",
       "\n",
       "Because of the high variance of the outcome (there are some very rare high payout results that significantly affect the average) you might need to run your function with a very high value of `n_runs` to get a stable answer close to the true expectation.  For instance, you might use a value for `n_runs` of 1000000.\n",
       "\n",
       "Here's an example for how the function could look:\n",
       "```python\n",
       "def estimate_average_slot_payout(n_runs):\n",
       "    # Play slot machine n_runs times, calculate payout of each\n",
       "    payouts = [play_slot_machine()-1 for i in range(n_runs)]\n",
       "    # Calculate the average value\n",
       "    avg_payout = sum(payouts) / n_runs\n",
       "    return avg_payout\n",
       "    \n",
       "estimate_average_slot_payout(10000000)\n",
       "\n",
       "```\n",
       "\n",
       "This should return an answer close to 0.025!\n",
       "            \n"
      ],
      "text/plain": [
       "Solution: \n",
       "    \n",
       "The exact expected value of one pull of the slot machine is 0.025 - i.e. a little more than 2 cents.  See?  Not every game in the Python Challenge Casino is rigged against the player!\n",
       "\n",
       "In order to get this answer, you'll need to implement the `estimate_average_slot_payout(n_runs)` function to simulate pulling the slot machine `n_runs` times.  It should return the payout averaged over those `n_runs`.\n",
       "\n",
       "Then, once the function is defined, in order to estimate the average slot payout, we need only call the function.\n",
       "\n",
       "Because of the high variance of the outcome (there are some very rare high payout results that significantly affect the average) you might need to run your function with a very high value of `n_runs` to get a stable answer close to the true expectation.  For instance, you might use a value for `n_runs` of 1000000.\n",
       "\n",
       "Here's an example for how the function could look:\n",
       "```python\n",
       "def estimate_average_slot_payout(n_runs):\n",
       "    # Play slot machine n_runs times, calculate payout of each\n",
       "    payouts = [play_slot_machine()-1 for i in range(n_runs)]\n",
       "    # Calculate the average value\n",
       "    avg_payout = sum(payouts) / n_runs\n",
       "    return avg_payout\n",
       "    \n",
       "estimate_average_slot_payout(10000000)\n",
       "\n",
       "```\n",
       "\n",
       "This should return an answer close to 0.025!\n",
       "            "
      ]
     },
     "metadata": {},
     "output_type": "display_data"
    }
   ],
   "source": [
    "# Check your answer (Run this code cell to receive credit!)\n",
    "q4.solution()\n"
   ]
  },
  {
   "cell_type": "markdown",
   "id": "57d404a1",
   "metadata": {
    "papermill": {
     "duration": 0.00621,
     "end_time": "2024-02-24T18:00:15.591984",
     "exception": false,
     "start_time": "2024-02-24T18:00:15.585774",
     "status": "completed"
    },
    "tags": []
   },
   "source": [
    "# Keep Going\n",
    "\n",
    "Many programmers report that dictionaries are their favorite data structure. You'll get to **[learn about them](https://www.kaggle.com/colinmorris/strings-and-dictionaries)** (as well as strings) in the next lesson."
   ]
  },
  {
   "cell_type": "markdown",
   "id": "968d377e",
   "metadata": {
    "papermill": {
     "duration": 0.007128,
     "end_time": "2024-02-24T18:00:15.605432",
     "exception": false,
     "start_time": "2024-02-24T18:00:15.598304",
     "status": "completed"
    },
    "tags": []
   },
   "source": [
    "---\n",
    "\n",
    "\n",
    "\n",
    "\n",
    "*Have questions or comments? Visit the [course discussion forum](https://www.kaggle.com/learn/python/discussion) to chat with other learners.*"
   ]
  }
 ],
 "metadata": {
  "kaggle": {
   "accelerator": "none",
   "dataSources": [],
   "isGpuEnabled": false,
   "isInternetEnabled": false,
   "language": "python",
   "sourceType": "notebook"
  },
  "kernelspec": {
   "display_name": "Python 3",
   "language": "python",
   "name": "python3"
  },
  "language_info": {
   "codemirror_mode": {
    "name": "ipython",
    "version": 3
   },
   "file_extension": ".py",
   "mimetype": "text/x-python",
   "name": "python",
   "nbconvert_exporter": "python",
   "pygments_lexer": "ipython3",
   "version": "3.10.13"
  },
  "learntools_metadata": {
   "lesson_index": 4,
   "type": "exercise"
  },
  "papermill": {
   "default_parameters": {},
   "duration": 4.204772,
   "end_time": "2024-02-24T18:00:16.031087",
   "environment_variables": {},
   "exception": null,
   "input_path": "__notebook__.ipynb",
   "output_path": "__notebook__.ipynb",
   "parameters": {},
   "start_time": "2024-02-24T18:00:11.826315",
   "version": "2.5.0"
  }
 },
 "nbformat": 4,
 "nbformat_minor": 5
}
