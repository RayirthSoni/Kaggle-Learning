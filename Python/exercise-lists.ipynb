{
 "cells": [
  {
   "cell_type": "markdown",
   "id": "d349036b",
   "metadata": {
    "papermill": {
     "duration": 0.007072,
     "end_time": "2024-02-24T17:20:43.074422",
     "exception": false,
     "start_time": "2024-02-24T17:20:43.067350",
     "status": "completed"
    },
    "tags": []
   },
   "source": [
    "**This notebook is an exercise in the [Python](https://www.kaggle.com/learn/python) course.  You can reference the tutorial at [this link](https://www.kaggle.com/colinmorris/lists).**\n",
    "\n",
    "---\n"
   ]
  },
  {
   "cell_type": "markdown",
   "id": "98435f32",
   "metadata": {
    "papermill": {
     "duration": 0.004917,
     "end_time": "2024-02-24T17:20:43.087351",
     "exception": false,
     "start_time": "2024-02-24T17:20:43.082434",
     "status": "completed"
    },
    "tags": []
   },
   "source": [
    "Things get more interesting with lists. You'll apply your new knowledge to solve the questions below. Remember to run the following cell first."
   ]
  },
  {
   "cell_type": "code",
   "execution_count": 1,
   "id": "e0969e60",
   "metadata": {
    "execution": {
     "iopub.execute_input": "2024-02-24T17:20:43.097974Z",
     "iopub.status.busy": "2024-02-24T17:20:43.097591Z",
     "iopub.status.idle": "2024-02-24T17:20:43.846379Z",
     "shell.execute_reply": "2024-02-24T17:20:43.845583Z"
    },
    "papermill": {
     "duration": 0.757415,
     "end_time": "2024-02-24T17:20:43.849116",
     "exception": false,
     "start_time": "2024-02-24T17:20:43.091701",
     "status": "completed"
    },
    "tags": []
   },
   "outputs": [
    {
     "name": "stdout",
     "output_type": "stream",
     "text": [
      "Setup complete.\n"
     ]
    }
   ],
   "source": [
    "from learntools.core import binder; binder.bind(globals())\n",
    "from learntools.python.ex4 import *\n",
    "print('Setup complete.')"
   ]
  },
  {
   "cell_type": "markdown",
   "id": "dba32347",
   "metadata": {
    "papermill": {
     "duration": 0.004653,
     "end_time": "2024-02-24T17:20:43.858650",
     "exception": false,
     "start_time": "2024-02-24T17:20:43.853997",
     "status": "completed"
    },
    "tags": []
   },
   "source": [
    "# 1.\n",
    "\n",
    "Complete the function below according to its docstring."
   ]
  },
  {
   "cell_type": "code",
   "execution_count": 2,
   "id": "46854698",
   "metadata": {
    "execution": {
     "iopub.execute_input": "2024-02-24T17:20:43.870164Z",
     "iopub.status.busy": "2024-02-24T17:20:43.869161Z",
     "iopub.status.idle": "2024-02-24T17:20:43.878531Z",
     "shell.execute_reply": "2024-02-24T17:20:43.877479Z"
    },
    "papermill": {
     "duration": 0.017299,
     "end_time": "2024-02-24T17:20:43.880759",
     "exception": false,
     "start_time": "2024-02-24T17:20:43.863460",
     "status": "completed"
    },
    "tags": []
   },
   "outputs": [
    {
     "data": {
      "application/javascript": [
       "parent.postMessage({\"jupyterEvent\": \"custom.exercise_interaction\", \"data\": {\"outcomeType\": 1, \"valueTowardsCompletion\": 0.2, \"interactionType\": 1, \"questionType\": 2, \"questionId\": \"1_SelectSecondItem\", \"learnToolsVersion\": \"0.3.4\", \"failureMessage\": \"\", \"exceptionClass\": \"\", \"trace\": \"\"}}, \"*\")"
      ],
      "text/plain": [
       "<IPython.core.display.Javascript object>"
      ]
     },
     "metadata": {},
     "output_type": "display_data"
    },
    {
     "data": {
      "text/markdown": [
       "<span style=\"color:#33cc33\">Correct</span>"
      ],
      "text/plain": [
       "Correct"
      ]
     },
     "metadata": {},
     "output_type": "display_data"
    }
   ],
   "source": [
    "def select_second(L):\n",
    "    \"\"\"Return the second element of the given list. If the list has no second\n",
    "    element, return None.\n",
    "    \"\"\"\n",
    "    return L[1] if len(L) >= 2 else None\n",
    "\n",
    "# Check your answer\n",
    "q1.check()"
   ]
  },
  {
   "cell_type": "code",
   "execution_count": 3,
   "id": "d7a9a3e9",
   "metadata": {
    "execution": {
     "iopub.execute_input": "2024-02-24T17:20:43.892105Z",
     "iopub.status.busy": "2024-02-24T17:20:43.891783Z",
     "iopub.status.idle": "2024-02-24T17:20:43.895588Z",
     "shell.execute_reply": "2024-02-24T17:20:43.894728Z"
    },
    "papermill": {
     "duration": 0.011685,
     "end_time": "2024-02-24T17:20:43.897519",
     "exception": false,
     "start_time": "2024-02-24T17:20:43.885834",
     "status": "completed"
    },
    "tags": []
   },
   "outputs": [],
   "source": [
    "#q1.hint()\n",
    "#q1.solution()"
   ]
  },
  {
   "cell_type": "markdown",
   "id": "1e7f8814",
   "metadata": {
    "papermill": {
     "duration": 0.004512,
     "end_time": "2024-02-24T17:20:43.906960",
     "exception": false,
     "start_time": "2024-02-24T17:20:43.902448",
     "status": "completed"
    },
    "tags": []
   },
   "source": [
    "# 2.\n",
    "\n",
    "You are analyzing sports teams.  Members of each team are stored in a list. The Coach is the first name in the list, the captain is the second name in the list, and other players are listed after that. \n",
    "These lists are stored in another list, which starts with the best team and proceeds through the list to the worst team last.  Complete the function below to select the **captain** of the worst team."
   ]
  },
  {
   "cell_type": "code",
   "execution_count": 4,
   "id": "1989ad90",
   "metadata": {
    "execution": {
     "iopub.execute_input": "2024-02-24T17:20:43.917874Z",
     "iopub.status.busy": "2024-02-24T17:20:43.917540Z",
     "iopub.status.idle": "2024-02-24T17:20:43.925544Z",
     "shell.execute_reply": "2024-02-24T17:20:43.924547Z"
    },
    "papermill": {
     "duration": 0.016032,
     "end_time": "2024-02-24T17:20:43.927659",
     "exception": false,
     "start_time": "2024-02-24T17:20:43.911627",
     "status": "completed"
    },
    "tags": []
   },
   "outputs": [
    {
     "data": {
      "application/javascript": [
       "parent.postMessage({\"jupyterEvent\": \"custom.exercise_interaction\", \"data\": {\"outcomeType\": 1, \"valueTowardsCompletion\": 0.2, \"interactionType\": 1, \"questionType\": 2, \"questionId\": \"2_LosingTeamCaptain\", \"learnToolsVersion\": \"0.3.4\", \"failureMessage\": \"\", \"exceptionClass\": \"\", \"trace\": \"\"}}, \"*\")"
      ],
      "text/plain": [
       "<IPython.core.display.Javascript object>"
      ]
     },
     "metadata": {},
     "output_type": "display_data"
    },
    {
     "data": {
      "text/markdown": [
       "<span style=\"color:#33cc33\">Correct</span>"
      ],
      "text/plain": [
       "Correct"
      ]
     },
     "metadata": {},
     "output_type": "display_data"
    }
   ],
   "source": [
    "def losing_team_captain(teams):\n",
    "    \"\"\"Given a list of teams, where each team is a list of names, return the 2nd player (captain)\n",
    "    from the last listed team\n",
    "    \"\"\"\n",
    "    return teams[-1][1]\n",
    "\n",
    "# Check your answer\n",
    "q2.check()"
   ]
  },
  {
   "cell_type": "code",
   "execution_count": 5,
   "id": "7d0a5de4",
   "metadata": {
    "execution": {
     "iopub.execute_input": "2024-02-24T17:20:43.939147Z",
     "iopub.status.busy": "2024-02-24T17:20:43.938649Z",
     "iopub.status.idle": "2024-02-24T17:20:43.942413Z",
     "shell.execute_reply": "2024-02-24T17:20:43.941552Z"
    },
    "papermill": {
     "duration": 0.011627,
     "end_time": "2024-02-24T17:20:43.944339",
     "exception": false,
     "start_time": "2024-02-24T17:20:43.932712",
     "status": "completed"
    },
    "tags": []
   },
   "outputs": [],
   "source": [
    "#q2.hint()\n",
    "#q2.solution()"
   ]
  },
  {
   "cell_type": "markdown",
   "id": "f2c1ef56",
   "metadata": {
    "papermill": {
     "duration": 0.004838,
     "end_time": "2024-02-24T17:20:43.954079",
     "exception": false,
     "start_time": "2024-02-24T17:20:43.949241",
     "status": "completed"
    },
    "tags": []
   },
   "source": [
    "# 3.\n",
    "\n",
    "The next iteration of Mario Kart will feature an extra-infuriating new item, the *Purple Shell*. When used, it warps the last place racer into first place and the first place racer into last place. Complete the function below to implement the Purple Shell's effect."
   ]
  },
  {
   "cell_type": "code",
   "execution_count": 6,
   "id": "a998f724",
   "metadata": {
    "execution": {
     "iopub.execute_input": "2024-02-24T17:20:43.965822Z",
     "iopub.status.busy": "2024-02-24T17:20:43.964913Z",
     "iopub.status.idle": "2024-02-24T17:20:43.973425Z",
     "shell.execute_reply": "2024-02-24T17:20:43.972464Z"
    },
    "papermill": {
     "duration": 0.01632,
     "end_time": "2024-02-24T17:20:43.975301",
     "exception": false,
     "start_time": "2024-02-24T17:20:43.958981",
     "status": "completed"
    },
    "tags": []
   },
   "outputs": [
    {
     "data": {
      "application/javascript": [
       "parent.postMessage({\"jupyterEvent\": \"custom.exercise_interaction\", \"data\": {\"outcomeType\": 1, \"valueTowardsCompletion\": 0.2, \"interactionType\": 1, \"questionType\": 2, \"questionId\": \"3_PurpleShell\", \"learnToolsVersion\": \"0.3.4\", \"failureMessage\": \"\", \"exceptionClass\": \"\", \"trace\": \"\"}}, \"*\")"
      ],
      "text/plain": [
       "<IPython.core.display.Javascript object>"
      ]
     },
     "metadata": {},
     "output_type": "display_data"
    },
    {
     "data": {
      "text/markdown": [
       "<span style=\"color:#33cc33\">Correct</span>"
      ],
      "text/plain": [
       "Correct"
      ]
     },
     "metadata": {},
     "output_type": "display_data"
    }
   ],
   "source": [
    "def purple_shell(racers):\n",
    "    \"\"\"Given a list of racers, set the first place racer (at the front of the list) to last\n",
    "    place and vice versa.\n",
    "    \n",
    "    >>> r = [\"Mario\", \"Bowser\", \"Luigi\"]\n",
    "    >>> purple_shell(r)\n",
    "    >>> r\n",
    "    [\"Luigi\", \"Bowser\", \"Mario\"]\n",
    "    \"\"\"\n",
    "    racers[0],racers[-1]=racers[-1],racers[0]\n",
    "\n",
    "# Check your answer\n",
    "q3.check()"
   ]
  },
  {
   "cell_type": "code",
   "execution_count": 7,
   "id": "d2b4cf62",
   "metadata": {
    "execution": {
     "iopub.execute_input": "2024-02-24T17:20:43.987145Z",
     "iopub.status.busy": "2024-02-24T17:20:43.986837Z",
     "iopub.status.idle": "2024-02-24T17:20:43.990341Z",
     "shell.execute_reply": "2024-02-24T17:20:43.989521Z"
    },
    "papermill": {
     "duration": 0.011548,
     "end_time": "2024-02-24T17:20:43.992228",
     "exception": false,
     "start_time": "2024-02-24T17:20:43.980680",
     "status": "completed"
    },
    "tags": []
   },
   "outputs": [],
   "source": [
    "#q3.hint()\n",
    "#q3.solution()"
   ]
  },
  {
   "cell_type": "markdown",
   "id": "af9000ed",
   "metadata": {
    "papermill": {
     "duration": 0.004903,
     "end_time": "2024-02-24T17:20:44.002277",
     "exception": false,
     "start_time": "2024-02-24T17:20:43.997374",
     "status": "completed"
    },
    "tags": []
   },
   "source": [
    "# 4.\n",
    "\n",
    "What are the lengths of the following lists? Fill in the variable `lengths` with your predictions. (Try to make a prediction for each list *without* just calling `len()` on it.)"
   ]
  },
  {
   "cell_type": "code",
   "execution_count": 8,
   "id": "6b465fe1",
   "metadata": {
    "execution": {
     "iopub.execute_input": "2024-02-24T17:20:44.014740Z",
     "iopub.status.busy": "2024-02-24T17:20:44.014417Z",
     "iopub.status.idle": "2024-02-24T17:20:44.022659Z",
     "shell.execute_reply": "2024-02-24T17:20:44.021659Z"
    },
    "papermill": {
     "duration": 0.017104,
     "end_time": "2024-02-24T17:20:44.024467",
     "exception": false,
     "start_time": "2024-02-24T17:20:44.007363",
     "status": "completed"
    },
    "tags": []
   },
   "outputs": [
    {
     "data": {
      "application/javascript": [
       "parent.postMessage({\"jupyterEvent\": \"custom.exercise_interaction\", \"data\": {\"outcomeType\": 1, \"valueTowardsCompletion\": 0.2, \"interactionType\": 1, \"questionType\": 1, \"questionId\": \"4_UnderstandLen\", \"learnToolsVersion\": \"0.3.4\", \"failureMessage\": \"\", \"exceptionClass\": \"\", \"trace\": \"\"}}, \"*\")"
      ],
      "text/plain": [
       "<IPython.core.display.Javascript object>"
      ]
     },
     "metadata": {},
     "output_type": "display_data"
    },
    {
     "data": {
      "text/markdown": [
       "<span style=\"color:#33cc33\">Correct:</span> \n",
       "\n",
       "\n",
       "- a: There are three items in this list. Nothing tricky yet.\n",
       "- b: The list `[2, 3]` counts as a single item. It has one item before it. So we have 2 items in the list\n",
       "- c: The empty list has 0 items\n",
       "- d: The expression is the same as the list `[2, 3]`, which has length 2."
      ],
      "text/plain": [
       "Correct: \n",
       "\n",
       "\n",
       "- a: There are three items in this list. Nothing tricky yet.\n",
       "- b: The list `[2, 3]` counts as a single item. It has one item before it. So we have 2 items in the list\n",
       "- c: The empty list has 0 items\n",
       "- d: The expression is the same as the list `[2, 3]`, which has length 2."
      ]
     },
     "metadata": {},
     "output_type": "display_data"
    }
   ],
   "source": [
    "a = [1, 2, 3]\n",
    "b = [1, [2, 3]]\n",
    "c = []\n",
    "d = [1, 2, 3][1:]\n",
    "\n",
    "# Put your predictions in the list below. Lengths should contain 4 numbers, the\n",
    "# first being the length of a, the second being the length of b and so on.\n",
    "lengths = [3,2,0,2]\n",
    "\n",
    "# Check your answer\n",
    "q4.check()"
   ]
  },
  {
   "cell_type": "code",
   "execution_count": 9,
   "id": "d8000698",
   "metadata": {
    "execution": {
     "iopub.execute_input": "2024-02-24T17:20:44.036994Z",
     "iopub.status.busy": "2024-02-24T17:20:44.036456Z",
     "iopub.status.idle": "2024-02-24T17:20:44.039778Z",
     "shell.execute_reply": "2024-02-24T17:20:44.039117Z"
    },
    "papermill": {
     "duration": 0.011719,
     "end_time": "2024-02-24T17:20:44.041527",
     "exception": false,
     "start_time": "2024-02-24T17:20:44.029808",
     "status": "completed"
    },
    "tags": []
   },
   "outputs": [],
   "source": [
    "# line below provides some explanation\n",
    "# q4.solution()"
   ]
  },
  {
   "cell_type": "markdown",
   "id": "53d4ee27",
   "metadata": {
    "papermill": {
     "duration": 0.005246,
     "end_time": "2024-02-24T17:20:44.052191",
     "exception": false,
     "start_time": "2024-02-24T17:20:44.046945",
     "status": "completed"
    },
    "tags": []
   },
   "source": [
    "# 5. <span title=\"A bit spicy\" style=\"color: darkgreen \">🌶️</span>\n",
    "\n",
    "We're using lists to record people who attended our party and what order they arrived in. For example, the following list represents a party with 7 guests, in which Adela showed up first and Ford was the last to arrive:\n",
    "\n",
    "    party_attendees = ['Adela', 'Fleda', 'Owen', 'May', 'Mona', 'Gilbert', 'Ford']\n",
    "\n",
    "A guest is considered 'fashionably late' if they arrived after at least half of the party's guests. However, they must not be the very last guest (that's taking it too far). In the above example, Mona and Gilbert are the only guests who were fashionably late.\n",
    "\n",
    "Complete the function below which takes a list of party attendees as well as a person, and tells us whether that person is fashionably late."
   ]
  },
  {
   "cell_type": "code",
   "execution_count": 10,
   "id": "6f2b509c",
   "metadata": {
    "execution": {
     "iopub.execute_input": "2024-02-24T17:20:44.065368Z",
     "iopub.status.busy": "2024-02-24T17:20:44.064758Z",
     "iopub.status.idle": "2024-02-24T17:20:44.072706Z",
     "shell.execute_reply": "2024-02-24T17:20:44.071821Z"
    },
    "papermill": {
     "duration": 0.016646,
     "end_time": "2024-02-24T17:20:44.074439",
     "exception": false,
     "start_time": "2024-02-24T17:20:44.057793",
     "status": "completed"
    },
    "tags": []
   },
   "outputs": [
    {
     "data": {
      "application/javascript": [
       "parent.postMessage({\"jupyterEvent\": \"custom.exercise_interaction\", \"data\": {\"outcomeType\": 1, \"valueTowardsCompletion\": 0.2, \"interactionType\": 1, \"questionType\": 2, \"questionId\": \"5_FashionablyLate\", \"learnToolsVersion\": \"0.3.4\", \"failureMessage\": \"\", \"exceptionClass\": \"\", \"trace\": \"\"}}, \"*\")"
      ],
      "text/plain": [
       "<IPython.core.display.Javascript object>"
      ]
     },
     "metadata": {},
     "output_type": "display_data"
    },
    {
     "data": {
      "text/markdown": [
       "<span style=\"color:#33cc33\">Correct</span>"
      ],
      "text/plain": [
       "Correct"
      ]
     },
     "metadata": {},
     "output_type": "display_data"
    }
   ],
   "source": [
    "def fashionably_late(arrivals, name):\n",
    "    \"\"\"Given an ordered list of arrivals to the party and a name, return whether the guest with that\n",
    "    name was fashionably late.\n",
    "    \"\"\"\n",
    "    num_guests = len(arrivals)\n",
    "    half_list = num_guests/2\n",
    "    if arrivals.index(name) >= half_list and arrivals.index(name) < num_guests - 1:\n",
    "        return True\n",
    "    else:\n",
    "        return False\n",
    "    \n",
    "\n",
    "# Check your answer\n",
    "q5.check()"
   ]
  },
  {
   "cell_type": "code",
   "execution_count": 11,
   "id": "812dc7d5",
   "metadata": {
    "execution": {
     "iopub.execute_input": "2024-02-24T17:20:44.086998Z",
     "iopub.status.busy": "2024-02-24T17:20:44.086557Z",
     "iopub.status.idle": "2024-02-24T17:20:44.090190Z",
     "shell.execute_reply": "2024-02-24T17:20:44.089519Z"
    },
    "papermill": {
     "duration": 0.011776,
     "end_time": "2024-02-24T17:20:44.091844",
     "exception": false,
     "start_time": "2024-02-24T17:20:44.080068",
     "status": "completed"
    },
    "tags": []
   },
   "outputs": [],
   "source": [
    "#q5.hint()\n",
    "#q5.solution()"
   ]
  },
  {
   "cell_type": "markdown",
   "id": "d55df6f4",
   "metadata": {
    "papermill": {
     "duration": 0.00557,
     "end_time": "2024-02-24T17:20:44.102973",
     "exception": false,
     "start_time": "2024-02-24T17:20:44.097403",
     "status": "completed"
    },
    "tags": []
   },
   "source": [
    "# Keep Going\n",
    "\n",
    "That's it for lists and tuples! Now you have the baseline knowledge to **[learn about loops](https://www.kaggle.com/colinmorris/loops-and-list-comprehensions)**, which is where lists and tuples get really interesting. "
   ]
  },
  {
   "cell_type": "markdown",
   "id": "fde9fc36",
   "metadata": {
    "papermill": {
     "duration": 0.005311,
     "end_time": "2024-02-24T17:20:44.113989",
     "exception": false,
     "start_time": "2024-02-24T17:20:44.108678",
     "status": "completed"
    },
    "tags": []
   },
   "source": [
    "---\n",
    "\n",
    "\n",
    "\n",
    "\n",
    "*Have questions or comments? Visit the [course discussion forum](https://www.kaggle.com/learn/python/discussion) to chat with other learners.*"
   ]
  }
 ],
 "metadata": {
  "kaggle": {
   "accelerator": "none",
   "dataSources": [],
   "isGpuEnabled": false,
   "isInternetEnabled": false,
   "language": "python",
   "sourceType": "notebook"
  },
  "kernelspec": {
   "display_name": "Python 3",
   "language": "python",
   "name": "python3"
  },
  "language_info": {
   "codemirror_mode": {
    "name": "ipython",
    "version": 3
   },
   "file_extension": ".py",
   "mimetype": "text/x-python",
   "name": "python",
   "nbconvert_exporter": "python",
   "pygments_lexer": "ipython3",
   "version": "3.10.13"
  },
  "learntools_metadata": {
   "lesson_index": 3,
   "type": "exercise"
  },
  "papermill": {
   "default_parameters": {},
   "duration": 4.094114,
   "end_time": "2024-02-24T17:20:44.538862",
   "environment_variables": {},
   "exception": null,
   "input_path": "__notebook__.ipynb",
   "output_path": "__notebook__.ipynb",
   "parameters": {},
   "start_time": "2024-02-24T17:20:40.444748",
   "version": "2.5.0"
  }
 },
 "nbformat": 4,
 "nbformat_minor": 5
}
