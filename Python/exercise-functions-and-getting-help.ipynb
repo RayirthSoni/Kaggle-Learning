{
 "cells": [
  {
   "cell_type": "markdown",
   "id": "1ee1dd07",
   "metadata": {
    "papermill": {
     "duration": 0.006635,
     "end_time": "2024-02-23T19:58:08.630360",
     "exception": false,
     "start_time": "2024-02-23T19:58:08.623725",
     "status": "completed"
    },
    "tags": []
   },
   "source": [
    "**This notebook is an exercise in the [Python](https://www.kaggle.com/learn/python) course.  You can reference the tutorial at [this link](https://www.kaggle.com/colinmorris/functions-and-getting-help).**\n",
    "\n",
    "---\n"
   ]
  },
  {
   "cell_type": "markdown",
   "id": "c2f5edd2",
   "metadata": {
    "papermill": {
     "duration": 0.005444,
     "end_time": "2024-02-23T19:58:08.642149",
     "exception": false,
     "start_time": "2024-02-23T19:58:08.636705",
     "status": "completed"
    },
    "tags": []
   },
   "source": [
    "Functions are powerful. Try writing some yourself.\n",
    "\n",
    "As before, don't forget to run the setup code below before jumping into question 1."
   ]
  },
  {
   "cell_type": "code",
   "execution_count": 1,
   "id": "35d4a4ac",
   "metadata": {
    "_kg_hide-input": true,
    "_kg_hide-output": true,
    "execution": {
     "iopub.execute_input": "2024-02-23T19:58:08.655977Z",
     "iopub.status.busy": "2024-02-23T19:58:08.655164Z",
     "iopub.status.idle": "2024-02-23T19:58:09.495488Z",
     "shell.execute_reply": "2024-02-23T19:58:09.494488Z"
    },
    "papermill": {
     "duration": 0.850194,
     "end_time": "2024-02-23T19:58:09.498241",
     "exception": false,
     "start_time": "2024-02-23T19:58:08.648047",
     "status": "completed"
    },
    "tags": []
   },
   "outputs": [
    {
     "name": "stdout",
     "output_type": "stream",
     "text": [
      "Setup complete.\n"
     ]
    }
   ],
   "source": [
    "# SETUP. You don't need to worry for now about what this code does or how it works.\n",
    "from learntools.core import binder; binder.bind(globals())\n",
    "from learntools.python.ex2 import *\n",
    "print('Setup complete.')"
   ]
  },
  {
   "cell_type": "markdown",
   "id": "03fa4dc2",
   "metadata": {
    "papermill": {
     "duration": 0.005983,
     "end_time": "2024-02-23T19:58:09.510133",
     "exception": false,
     "start_time": "2024-02-23T19:58:09.504150",
     "status": "completed"
    },
    "tags": []
   },
   "source": [
    "# 1.\n",
    "\n",
    "Complete the body of the following function according to its docstring.\n",
    "\n",
    "HINT: Python has a built-in function `round`."
   ]
  },
  {
   "cell_type": "code",
   "execution_count": 2,
   "id": "90f866bc",
   "metadata": {
    "execution": {
     "iopub.execute_input": "2024-02-23T19:58:09.524300Z",
     "iopub.status.busy": "2024-02-23T19:58:09.523263Z",
     "iopub.status.idle": "2024-02-23T19:58:09.534235Z",
     "shell.execute_reply": "2024-02-23T19:58:09.533348Z"
    },
    "papermill": {
     "duration": 0.020072,
     "end_time": "2024-02-23T19:58:09.536207",
     "exception": false,
     "start_time": "2024-02-23T19:58:09.516135",
     "status": "completed"
    },
    "tags": []
   },
   "outputs": [
    {
     "data": {
      "application/javascript": [
       "parent.postMessage({\"jupyterEvent\": \"custom.exercise_interaction\", \"data\": {\"outcomeType\": 1, \"valueTowardsCompletion\": 0.16666666666666666, \"interactionType\": 1, \"questionType\": 2, \"questionId\": \"1_RoundFunctionProblem\", \"learnToolsVersion\": \"0.3.4\", \"failureMessage\": \"\", \"exceptionClass\": \"\", \"trace\": \"\"}}, \"*\")"
      ],
      "text/plain": [
       "<IPython.core.display.Javascript object>"
      ]
     },
     "metadata": {},
     "output_type": "display_data"
    },
    {
     "data": {
      "text/markdown": [
       "<span style=\"color:#33cc33\">Correct</span>"
      ],
      "text/plain": [
       "Correct"
      ]
     },
     "metadata": {},
     "output_type": "display_data"
    }
   ],
   "source": [
    "def round_to_two_places(num):\n",
    "    \"\"\"Return the given number rounded to two decimal places. \n",
    "    \n",
    "    >>> round_to_two_places(3.14159)\n",
    "    3.14\n",
    "    \"\"\"\n",
    "    # Replace this body with your own code.\n",
    "    # (\"pass\" is a keyword that does literally nothing. We used it as a placeholder\n",
    "    # because after we begin a code block, Python requires at least one line of code)\n",
    "    return round(num,2)\n",
    "\n",
    "# Check your answer\n",
    "q1.check()"
   ]
  },
  {
   "cell_type": "code",
   "execution_count": 3,
   "id": "a18083a8",
   "metadata": {
    "execution": {
     "iopub.execute_input": "2024-02-23T19:58:09.550511Z",
     "iopub.status.busy": "2024-02-23T19:58:09.549963Z",
     "iopub.status.idle": "2024-02-23T19:58:09.553857Z",
     "shell.execute_reply": "2024-02-23T19:58:09.553056Z"
    },
    "papermill": {
     "duration": 0.013344,
     "end_time": "2024-02-23T19:58:09.555816",
     "exception": false,
     "start_time": "2024-02-23T19:58:09.542472",
     "status": "completed"
    },
    "tags": []
   },
   "outputs": [],
   "source": [
    "# Uncomment the following for a hint\n",
    "#q1.hint()\n",
    "# Or uncomment the following to peek at the solution\n",
    "#q1.solution()"
   ]
  },
  {
   "cell_type": "markdown",
   "id": "f1cc2389",
   "metadata": {
    "papermill": {
     "duration": 0.00587,
     "end_time": "2024-02-23T19:58:09.568422",
     "exception": false,
     "start_time": "2024-02-23T19:58:09.562552",
     "status": "completed"
    },
    "tags": []
   },
   "source": [
    "# 2.\n",
    "The help for `round` says that `ndigits` (the second argument) may be negative.\n",
    "What do you think will happen when it is? Try some examples in the following cell."
   ]
  },
  {
   "cell_type": "code",
   "execution_count": 4,
   "id": "de5be24f",
   "metadata": {
    "execution": {
     "iopub.execute_input": "2024-02-23T19:58:09.582734Z",
     "iopub.status.busy": "2024-02-23T19:58:09.582150Z",
     "iopub.status.idle": "2024-02-23T19:58:09.588556Z",
     "shell.execute_reply": "2024-02-23T19:58:09.587552Z"
    },
    "papermill": {
     "duration": 0.016089,
     "end_time": "2024-02-23T19:58:09.590499",
     "exception": false,
     "start_time": "2024-02-23T19:58:09.574410",
     "status": "completed"
    },
    "tags": []
   },
   "outputs": [
    {
     "data": {
      "text/plain": [
       "120"
      ]
     },
     "execution_count": 4,
     "metadata": {},
     "output_type": "execute_result"
    }
   ],
   "source": [
    "# Put your test code here\n",
    "round(123,-1)"
   ]
  },
  {
   "cell_type": "markdown",
   "id": "4f3e6bf3",
   "metadata": {
    "papermill": {
     "duration": 0.006258,
     "end_time": "2024-02-23T19:58:09.603221",
     "exception": false,
     "start_time": "2024-02-23T19:58:09.596963",
     "status": "completed"
    },
    "tags": []
   },
   "source": [
    "Can you think of a case where this would be useful?  Once you're ready, run the code cell below to see the answer and to receive credit for completing the problem."
   ]
  },
  {
   "cell_type": "code",
   "execution_count": 5,
   "id": "93ccfd64",
   "metadata": {
    "execution": {
     "iopub.execute_input": "2024-02-23T19:58:09.617270Z",
     "iopub.status.busy": "2024-02-23T19:58:09.616944Z",
     "iopub.status.idle": "2024-02-23T19:58:09.624676Z",
     "shell.execute_reply": "2024-02-23T19:58:09.623892Z"
    },
    "papermill": {
     "duration": 0.016881,
     "end_time": "2024-02-23T19:58:09.626590",
     "exception": false,
     "start_time": "2024-02-23T19:58:09.609709",
     "status": "completed"
    },
    "tags": []
   },
   "outputs": [
    {
     "data": {
      "application/javascript": [
       "parent.postMessage({\"jupyterEvent\": \"custom.exercise_interaction\", \"data\": {\"interactionType\": 3, \"questionType\": 4, \"questionId\": \"2_RoundNdigitsProblem\", \"learnToolsVersion\": \"0.3.4\", \"valueTowardsCompletion\": 0.0, \"failureMessage\": \"\", \"exceptionClass\": \"\", \"trace\": \"\", \"outcomeType\": 4}}, \"*\")"
      ],
      "text/plain": [
       "<IPython.core.display.Javascript object>"
      ]
     },
     "metadata": {},
     "output_type": "display_data"
    },
    {
     "data": {
      "text/markdown": [
       "<span style=\"color:#33cc99\">Solution:</span> As you've seen, `ndigits=-1` rounds to the nearest 10, `ndigits=-2` rounds to the nearest 100 and so on. Where might this be useful? Suppose we're dealing with large numbers:\n",
       "\n",
       "> The area of Finland is 338,424 km²  \n",
       "> The area of Greenland is 2,166,086 km²\n",
       "\n",
       "We probably don't care whether it's really 338,424, or 338,425, or 338,177. All those digits of accuracy are just distracting. We can chop them off by calling `round()` with `ndigits=-3`:\n",
       "\n",
       "> The area of Finland is 338,000 km²  \n",
       "> The area of Greenland is 2,166,000 km²\n",
       "\n",
       "(We'll talk about how we would get the commas later when we talk about string formatting :))\n"
      ],
      "text/plain": [
       "Solution: As you've seen, `ndigits=-1` rounds to the nearest 10, `ndigits=-2` rounds to the nearest 100 and so on. Where might this be useful? Suppose we're dealing with large numbers:\n",
       "\n",
       "> The area of Finland is 338,424 km²  \n",
       "> The area of Greenland is 2,166,086 km²\n",
       "\n",
       "We probably don't care whether it's really 338,424, or 338,425, or 338,177. All those digits of accuracy are just distracting. We can chop them off by calling `round()` with `ndigits=-3`:\n",
       "\n",
       "> The area of Finland is 338,000 km²  \n",
       "> The area of Greenland is 2,166,000 km²\n",
       "\n",
       "(We'll talk about how we would get the commas later when we talk about string formatting :))"
      ]
     },
     "metadata": {},
     "output_type": "display_data"
    }
   ],
   "source": [
    "# Check your answer (Run this code cell to receive credit!)\n",
    "q2.solution()"
   ]
  },
  {
   "cell_type": "markdown",
   "id": "e3d20645",
   "metadata": {
    "papermill": {
     "duration": 0.006547,
     "end_time": "2024-02-23T19:58:09.639638",
     "exception": false,
     "start_time": "2024-02-23T19:58:09.633091",
     "status": "completed"
    },
    "tags": []
   },
   "source": [
    "# 3.\n",
    "\n",
    "In the previous exercise, the candy-sharing friends Alice, Bob and Carol tried to split candies evenly. For the sake of their friendship, any candies left over would be smashed. For example, if they collectively bring home 91 candies, they'll take 30 each and smash 1.\n",
    "\n",
    "Below is a simple function that will calculate the number of candies to smash for *any* number of total candies.\n",
    "\n",
    "Modify it so that it optionally takes a second argument representing the number of friends the candies are being split between. If no second argument is provided, it should assume 3 friends, as before.\n",
    "\n",
    "Update the docstring to reflect this new behaviour."
   ]
  },
  {
   "cell_type": "code",
   "execution_count": 6,
   "id": "0028701b",
   "metadata": {
    "execution": {
     "iopub.execute_input": "2024-02-23T19:58:09.654016Z",
     "iopub.status.busy": "2024-02-23T19:58:09.653469Z",
     "iopub.status.idle": "2024-02-23T19:58:09.662115Z",
     "shell.execute_reply": "2024-02-23T19:58:09.661342Z"
    },
    "papermill": {
     "duration": 0.01763,
     "end_time": "2024-02-23T19:58:09.663757",
     "exception": false,
     "start_time": "2024-02-23T19:58:09.646127",
     "status": "completed"
    },
    "tags": []
   },
   "outputs": [
    {
     "data": {
      "application/javascript": [
       "parent.postMessage({\"jupyterEvent\": \"custom.exercise_interaction\", \"data\": {\"outcomeType\": 1, \"valueTowardsCompletion\": 0.16666666666666666, \"interactionType\": 1, \"questionType\": 2, \"questionId\": \"3_CandySmashingFunctionProblem\", \"learnToolsVersion\": \"0.3.4\", \"failureMessage\": \"\", \"exceptionClass\": \"\", \"trace\": \"\"}}, \"*\")"
      ],
      "text/plain": [
       "<IPython.core.display.Javascript object>"
      ]
     },
     "metadata": {},
     "output_type": "display_data"
    },
    {
     "data": {
      "text/markdown": [
       "<span style=\"color:#33cc33\">Correct</span>"
      ],
      "text/plain": [
       "Correct"
      ]
     },
     "metadata": {},
     "output_type": "display_data"
    }
   ],
   "source": [
    "def to_smash(total_candies, *args):\n",
    "    \"\"\"Return the number of leftover candies that must be smashed after distributing\n",
    "    the given number of candies evenly between 3 friends.\n",
    "    \n",
    "    >>> to_smash(91)\n",
    "    1\n",
    "    \"\"\"\n",
    "    if args:\n",
    "        num_people = args[0]\n",
    "    else:\n",
    "        num_people = 3\n",
    "    return total_candies % num_people\n",
    "\n",
    "# Check your answer\n",
    "q3.check()"
   ]
  },
  {
   "cell_type": "code",
   "execution_count": 7,
   "id": "6901b677",
   "metadata": {
    "execution": {
     "iopub.execute_input": "2024-02-23T19:58:09.680563Z",
     "iopub.status.busy": "2024-02-23T19:58:09.680210Z",
     "iopub.status.idle": "2024-02-23T19:58:09.684352Z",
     "shell.execute_reply": "2024-02-23T19:58:09.683344Z"
    },
    "papermill": {
     "duration": 0.014678,
     "end_time": "2024-02-23T19:58:09.686441",
     "exception": false,
     "start_time": "2024-02-23T19:58:09.671763",
     "status": "completed"
    },
    "tags": []
   },
   "outputs": [],
   "source": [
    "#q3.hint()"
   ]
  },
  {
   "cell_type": "code",
   "execution_count": 8,
   "id": "4e0576dd",
   "metadata": {
    "execution": {
     "iopub.execute_input": "2024-02-23T19:58:09.702162Z",
     "iopub.status.busy": "2024-02-23T19:58:09.701703Z",
     "iopub.status.idle": "2024-02-23T19:58:09.705525Z",
     "shell.execute_reply": "2024-02-23T19:58:09.704612Z"
    },
    "papermill": {
     "duration": 0.014166,
     "end_time": "2024-02-23T19:58:09.707859",
     "exception": false,
     "start_time": "2024-02-23T19:58:09.693693",
     "status": "completed"
    },
    "tags": []
   },
   "outputs": [],
   "source": [
    "#q3.solution()"
   ]
  },
  {
   "cell_type": "markdown",
   "id": "1ceb2efc",
   "metadata": {
    "papermill": {
     "duration": 0.007352,
     "end_time": "2024-02-23T19:58:09.722157",
     "exception": false,
     "start_time": "2024-02-23T19:58:09.714805",
     "status": "completed"
    },
    "tags": []
   },
   "source": [
    "# 4. (Optional)\n",
    "\n",
    "It may not be fun, but reading and understanding error messages will be an important part of your Python career.\n",
    "\n",
    "Each code cell below contains some commented buggy code. For each cell...\n",
    "\n",
    "1. Read the code and predict what you think will happen when it's run.\n",
    "2. Then uncomment the code and run it to see what happens. (**Tip**: In the kernel editor, you can highlight several lines and press `ctrl`+`/` to toggle commenting.)\n",
    "3. Fix the code (so that it accomplishes its intended purpose without throwing an exception)\n",
    "\n",
    "<!-- TODO: should this be autochecked? Delta is probably pretty small. -->"
   ]
  },
  {
   "cell_type": "code",
   "execution_count": 9,
   "id": "6fa95c29",
   "metadata": {
    "execution": {
     "iopub.execute_input": "2024-02-23T19:58:09.739056Z",
     "iopub.status.busy": "2024-02-23T19:58:09.738415Z",
     "iopub.status.idle": "2024-02-23T19:58:09.742872Z",
     "shell.execute_reply": "2024-02-23T19:58:09.742193Z"
    },
    "papermill": {
     "duration": 0.015485,
     "end_time": "2024-02-23T19:58:09.744865",
     "exception": false,
     "start_time": "2024-02-23T19:58:09.729380",
     "status": "completed"
    },
    "tags": []
   },
   "outputs": [],
   "source": [
    "def ruound_to_two_places(num):\n",
    "    print(round(num,2))"
   ]
  },
  {
   "cell_type": "code",
   "execution_count": 10,
   "id": "f32031e2",
   "metadata": {
    "execution": {
     "iopub.execute_input": "2024-02-23T19:58:09.760516Z",
     "iopub.status.busy": "2024-02-23T19:58:09.760191Z",
     "iopub.status.idle": "2024-02-23T19:58:09.765403Z",
     "shell.execute_reply": "2024-02-23T19:58:09.764334Z"
    },
    "papermill": {
     "duration": 0.015529,
     "end_time": "2024-02-23T19:58:09.767535",
     "exception": false,
     "start_time": "2024-02-23T19:58:09.752006",
     "status": "completed"
    },
    "tags": []
   },
   "outputs": [
    {
     "name": "stdout",
     "output_type": "stream",
     "text": [
      "10.0\n"
     ]
    }
   ],
   "source": [
    "ruound_to_two_places(9.9999)"
   ]
  },
  {
   "cell_type": "code",
   "execution_count": 11,
   "id": "53735bb0",
   "metadata": {
    "execution": {
     "iopub.execute_input": "2024-02-23T19:58:09.782866Z",
     "iopub.status.busy": "2024-02-23T19:58:09.782626Z",
     "iopub.status.idle": "2024-02-23T19:58:09.788224Z",
     "shell.execute_reply": "2024-02-23T19:58:09.787370Z"
    },
    "papermill": {
     "duration": 0.015709,
     "end_time": "2024-02-23T19:58:09.790241",
     "exception": false,
     "start_time": "2024-02-23T19:58:09.774532",
     "status": "completed"
    },
    "tags": []
   },
   "outputs": [
    {
     "data": {
      "text/plain": [
       "10"
      ]
     },
     "execution_count": 11,
     "metadata": {},
     "output_type": "execute_result"
    }
   ],
   "source": [
    "x = -10\n",
    "y = 5\n",
    "# # Which of the two variables above has the smallest absolute value?\n",
    "smallest_abs = abs(min(x, y))\n",
    "smallest_abs"
   ]
  },
  {
   "cell_type": "code",
   "execution_count": 12,
   "id": "815dbb52",
   "metadata": {
    "execution": {
     "iopub.execute_input": "2024-02-23T19:58:09.805321Z",
     "iopub.status.busy": "2024-02-23T19:58:09.805051Z",
     "iopub.status.idle": "2024-02-23T19:58:09.809354Z",
     "shell.execute_reply": "2024-02-23T19:58:09.808510Z"
    },
    "papermill": {
     "duration": 0.014415,
     "end_time": "2024-02-23T19:58:09.811716",
     "exception": false,
     "start_time": "2024-02-23T19:58:09.797301",
     "status": "completed"
    },
    "tags": []
   },
   "outputs": [
    {
     "name": "stdout",
     "output_type": "stream",
     "text": [
      "5\n"
     ]
    }
   ],
   "source": [
    "def f(x):\n",
    "    y = abs(x)\n",
    "    return y\n",
    "\n",
    "print(f(5))"
   ]
  },
  {
   "cell_type": "markdown",
   "id": "45823038",
   "metadata": {
    "papermill": {
     "duration": 0.006899,
     "end_time": "2024-02-23T19:58:09.825743",
     "exception": false,
     "start_time": "2024-02-23T19:58:09.818844",
     "status": "completed"
    },
    "tags": []
   },
   "source": [
    "# Keep Going\n",
    "\n",
    "Nice job with the code. Next up, you'll learn about *conditionals*, which you'll need to **[write interesting programs](https://www.kaggle.com/colinmorris/booleans-and-conditionals)**. "
   ]
  },
  {
   "cell_type": "markdown",
   "id": "c352daa0",
   "metadata": {
    "papermill": {
     "duration": 0.007611,
     "end_time": "2024-02-23T19:58:09.840965",
     "exception": false,
     "start_time": "2024-02-23T19:58:09.833354",
     "status": "completed"
    },
    "tags": []
   },
   "source": [
    "---\n",
    "\n",
    "\n",
    "\n",
    "\n",
    "*Have questions or comments? Visit the [course discussion forum](https://www.kaggle.com/learn/python/discussion) to chat with other learners.*"
   ]
  }
 ],
 "metadata": {
  "kaggle": {
   "accelerator": "none",
   "dataSources": [],
   "isGpuEnabled": false,
   "isInternetEnabled": false,
   "language": "python",
   "sourceType": "notebook"
  },
  "kernelspec": {
   "display_name": "Python 3",
   "language": "python",
   "name": "python3"
  },
  "language_info": {
   "codemirror_mode": {
    "name": "ipython",
    "version": 3
   },
   "file_extension": ".py",
   "mimetype": "text/x-python",
   "name": "python",
   "nbconvert_exporter": "python",
   "pygments_lexer": "ipython3",
   "version": "3.10.13"
  },
  "learntools_metadata": {
   "lesson_index": 1,
   "type": "exercise"
  },
  "papermill": {
   "default_parameters": {},
   "duration": 4.552898,
   "end_time": "2024-02-23T19:58:10.167704",
   "environment_variables": {},
   "exception": null,
   "input_path": "__notebook__.ipynb",
   "output_path": "__notebook__.ipynb",
   "parameters": {},
   "start_time": "2024-02-23T19:58:05.614806",
   "version": "2.5.0"
  }
 },
 "nbformat": 4,
 "nbformat_minor": 5
}
