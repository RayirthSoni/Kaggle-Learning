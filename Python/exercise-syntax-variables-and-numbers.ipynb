{
 "cells": [
  {
   "cell_type": "markdown",
   "id": "7f846cd8",
   "metadata": {
    "papermill": {
     "duration": 0.010029,
     "end_time": "2024-02-23T20:01:08.664427",
     "exception": false,
     "start_time": "2024-02-23T20:01:08.654398",
     "status": "completed"
    },
    "tags": []
   },
   "source": [
    "**This notebook is an exercise in the [Python](https://www.kaggle.com/learn/python) course.  You can reference the tutorial at [this link](https://www.kaggle.com/colinmorris/hello-python).**\n",
    "\n",
    "---\n"
   ]
  },
  {
   "cell_type": "markdown",
   "id": "47e48c63",
   "metadata": {
    "papermill": {
     "duration": 0.009052,
     "end_time": "2024-02-23T20:01:08.682989",
     "exception": false,
     "start_time": "2024-02-23T20:01:08.673937",
     "status": "completed"
    },
    "tags": []
   },
   "source": [
    "Welcome to your first set of Python coding problems.  If this is your first time using Kaggle Notebooks, welcome! \n",
    "\n",
    "Notebooks are composed of blocks (called \"cells\") of text and code. Each of these is editable, though you'll mainly be editing the code cells to answer some questions.\n",
    "\n",
    "To get started, try running the code cell below (by pressing the ► button, or clicking on the cell and pressing ctrl+enter on your keyboard)."
   ]
  },
  {
   "cell_type": "code",
   "execution_count": 1,
   "id": "028cbf08",
   "metadata": {
    "execution": {
     "iopub.execute_input": "2024-02-23T20:01:08.705210Z",
     "iopub.status.busy": "2024-02-23T20:01:08.703738Z",
     "iopub.status.idle": "2024-02-23T20:01:08.719916Z",
     "shell.execute_reply": "2024-02-23T20:01:08.718023Z"
    },
    "papermill": {
     "duration": 0.030472,
     "end_time": "2024-02-23T20:01:08.722700",
     "exception": false,
     "start_time": "2024-02-23T20:01:08.692228",
     "status": "completed"
    },
    "tags": []
   },
   "outputs": [
    {
     "name": "stdout",
     "output_type": "stream",
     "text": [
      "You've successfully run some Python code\n",
      "Congratulations!\n"
     ]
    }
   ],
   "source": [
    "print(\"You've successfully run some Python code\")\n",
    "print(\"Congratulations!\")"
   ]
  },
  {
   "cell_type": "markdown",
   "id": "11403bf1",
   "metadata": {
    "papermill": {
     "duration": 0.009119,
     "end_time": "2024-02-23T20:01:08.741339",
     "exception": false,
     "start_time": "2024-02-23T20:01:08.732220",
     "status": "completed"
    },
    "tags": []
   },
   "source": [
    "Try adding another line of code in the cell above and re-running it. \n",
    "\n",
    "Now let's get a little fancier:  Add a new code cell by clicking on an existing code cell, hitting the escape key, and then hitting the `a` or `b` key.  The `a` key will add a cell above the current cell, and `b` adds a cell below.\n",
    "\n",
    "Great! Now you know how to use Notebooks.\n",
    "\n",
    "Each hands-on exercise starts by setting up our feedback and code checking mechanism. Run the code cell below to do that. Then you'll be ready to move on to question 0."
   ]
  },
  {
   "cell_type": "code",
   "execution_count": 2,
   "id": "b930d63b",
   "metadata": {
    "_kg_hide-input": true,
    "_kg_hide-output": true,
    "execution": {
     "iopub.execute_input": "2024-02-23T20:01:08.762676Z",
     "iopub.status.busy": "2024-02-23T20:01:08.761933Z",
     "iopub.status.idle": "2024-02-23T20:01:09.840513Z",
     "shell.execute_reply": "2024-02-23T20:01:09.838681Z"
    },
    "papermill": {
     "duration": 1.093197,
     "end_time": "2024-02-23T20:01:09.844155",
     "exception": false,
     "start_time": "2024-02-23T20:01:08.750958",
     "status": "completed"
    },
    "tags": []
   },
   "outputs": [
    {
     "name": "stdout",
     "output_type": "stream",
     "text": [
      "Setup complete! You're ready to start question 0.\n"
     ]
    }
   ],
   "source": [
    "from learntools.core import binder; binder.bind(globals())\n",
    "from learntools.python.ex1 import *\n",
    "print(\"Setup complete! You're ready to start question 0.\")"
   ]
  },
  {
   "cell_type": "markdown",
   "id": "c6fadf76",
   "metadata": {
    "papermill": {
     "duration": 0.009695,
     "end_time": "2024-02-23T20:01:09.865006",
     "exception": false,
     "start_time": "2024-02-23T20:01:09.855311",
     "status": "completed"
    },
    "tags": []
   },
   "source": [
    "# 0.\n",
    "\n",
    "*This is a silly question intended as an introduction to the format we use for hands-on exercises throughout all Kaggle courses.*\n",
    "\n",
    "**What is your favorite color? **\n",
    "\n",
    "To complete this question, create a variable called `color` in the cell below with an appropriate value. The function call `q0.check()` (which we've already provided in the cell below) will check your answer."
   ]
  },
  {
   "cell_type": "code",
   "execution_count": 3,
   "id": "6450fcff",
   "metadata": {
    "execution": {
     "iopub.execute_input": "2024-02-23T20:01:09.888353Z",
     "iopub.status.busy": "2024-02-23T20:01:09.887727Z",
     "iopub.status.idle": "2024-02-23T20:01:09.901061Z",
     "shell.execute_reply": "2024-02-23T20:01:09.900000Z"
    },
    "papermill": {
     "duration": 0.027417,
     "end_time": "2024-02-23T20:01:09.903581",
     "exception": false,
     "start_time": "2024-02-23T20:01:09.876164",
     "status": "completed"
    },
    "tags": []
   },
   "outputs": [
    {
     "data": {
      "application/javascript": [
       "parent.postMessage({\"jupyterEvent\": \"custom.exercise_interaction\", \"data\": {\"outcomeType\": 1, \"valueTowardsCompletion\": 0.25, \"interactionType\": 1, \"questionType\": 2, \"questionId\": \"0_ExerciseFormatTutorial\", \"learnToolsVersion\": \"0.3.4\", \"failureMessage\": \"\", \"exceptionClass\": \"\", \"trace\": \"\"}}, \"*\")"
      ],
      "text/plain": [
       "<IPython.core.display.Javascript object>"
      ]
     },
     "metadata": {},
     "output_type": "display_data"
    },
    {
     "data": {
      "text/markdown": [
       "<span style=\"color:#33cc33\">Correct:</span> What?! You got it right without needing a hint or anything? Drats. Well hey, you should still continue to the next step to get some practice asking for a hint and checking solutions. (Even though you obviously don't need any help here.)"
      ],
      "text/plain": [
       "Correct: What?! You got it right without needing a hint or anything? Drats. Well hey, you should still continue to the next step to get some practice asking for a hint and checking solutions. (Even though you obviously don't need any help here.)"
      ]
     },
     "metadata": {},
     "output_type": "display_data"
    }
   ],
   "source": [
    "# create a variable called color with an appropriate value on the line below\n",
    "# (Remember, strings in Python must be enclosed in 'single' or \"double\" quotes)\n",
    "color = 'blue'\n",
    "\n",
    "# Check your answer\n",
    "q0.check()"
   ]
  },
  {
   "cell_type": "markdown",
   "id": "6f1e8e7f",
   "metadata": {
    "papermill": {
     "duration": 0.010071,
     "end_time": "2024-02-23T20:01:09.923918",
     "exception": false,
     "start_time": "2024-02-23T20:01:09.913847",
     "status": "completed"
    },
    "tags": []
   },
   "source": [
    "Didn't get the right answer? How do you not even know your own favorite color?!\n",
    "\n",
    "Delete the `#` in the line below to make one of the lines run. You can choose between getting a hint or the full answer by choosing which line to remove the `#` from. \n",
    "\n",
    "Removing the `#` is called uncommenting, because it changes that line from a \"comment\" which Python doesn't run to code, which Python does run."
   ]
  },
  {
   "cell_type": "code",
   "execution_count": 4,
   "id": "8f77b397",
   "metadata": {
    "execution": {
     "iopub.execute_input": "2024-02-23T20:01:09.947918Z",
     "iopub.status.busy": "2024-02-23T20:01:09.946595Z",
     "iopub.status.idle": "2024-02-23T20:01:09.952454Z",
     "shell.execute_reply": "2024-02-23T20:01:09.950946Z"
    },
    "papermill": {
     "duration": 0.020144,
     "end_time": "2024-02-23T20:01:09.955115",
     "exception": false,
     "start_time": "2024-02-23T20:01:09.934971",
     "status": "completed"
    },
    "tags": []
   },
   "outputs": [],
   "source": [
    "#q0.hint()\n",
    "#q0.solution()"
   ]
  },
  {
   "cell_type": "markdown",
   "id": "3e211857",
   "metadata": {
    "papermill": {
     "duration": 0.009587,
     "end_time": "2024-02-23T20:01:09.974504",
     "exception": false,
     "start_time": "2024-02-23T20:01:09.964917",
     "status": "completed"
    },
    "tags": []
   },
   "source": [
    "The upcoming questions work the same way. The only thing that will change are the question numbers. For the next question, you'll call `q1.check()`, `q1.hint()`, `q1.solution()`, for question 2, you'll call `q2.check()`, and so on."
   ]
  },
  {
   "cell_type": "markdown",
   "id": "684ca334",
   "metadata": {
    "papermill": {
     "duration": 0.009581,
     "end_time": "2024-02-23T20:01:09.993884",
     "exception": false,
     "start_time": "2024-02-23T20:01:09.984303",
     "status": "completed"
    },
    "tags": []
   },
   "source": [
    "<hr/>\n",
    "\n",
    "# 1.\n",
    "\n",
    "Complete the code below. In case it's helpful, here is the table of available arithmetic operations:\n",
    "\n",
    "\n",
    "\n",
    "| Operator     | Name           | Description                                            |\n",
    "|--------------|----------------|--------------------------------------------------------|\n",
    "| ``a + b``    | Addition       | Sum of ``a`` and ``b``                                 |\n",
    "| ``a - b``    | Subtraction    | Difference of ``a`` and ``b``                          |\n",
    "| ``a * b``    | Multiplication | Product of ``a`` and ``b``                             |\n",
    "| ``a / b``    | True division  | Quotient of ``a`` and ``b``                            |\n",
    "| ``a // b``   | Floor division | Quotient of ``a`` and ``b``, removing fractional parts |\n",
    "| ``a % b``    | Modulus        | Integer remainder after division of ``a`` by ``b``     |\n",
    "| ``a ** b``   | Exponentiation | ``a`` raised to the power of ``b``                     |\n",
    "| ``-a``       | Negation       | The negative of ``a``                                  |\n",
    "\n",
    "<span style=\"display:none\"></span>\n"
   ]
  },
  {
   "cell_type": "code",
   "execution_count": 5,
   "id": "7d393824",
   "metadata": {
    "execution": {
     "iopub.execute_input": "2024-02-23T20:01:10.020286Z",
     "iopub.status.busy": "2024-02-23T20:01:10.019896Z",
     "iopub.status.idle": "2024-02-23T20:01:10.030377Z",
     "shell.execute_reply": "2024-02-23T20:01:10.028909Z"
    },
    "papermill": {
     "duration": 0.026157,
     "end_time": "2024-02-23T20:01:10.033680",
     "exception": false,
     "start_time": "2024-02-23T20:01:10.007523",
     "status": "completed"
    },
    "tags": []
   },
   "outputs": [
    {
     "data": {
      "application/javascript": [
       "parent.postMessage({\"jupyterEvent\": \"custom.exercise_interaction\", \"data\": {\"outcomeType\": 1, \"valueTowardsCompletion\": 0.25, \"interactionType\": 1, \"questionType\": 1, \"questionId\": \"1_CircleArea\", \"learnToolsVersion\": \"0.3.4\", \"failureMessage\": \"\", \"exceptionClass\": \"\", \"trace\": \"\"}}, \"*\")"
      ],
      "text/plain": [
       "<IPython.core.display.Javascript object>"
      ]
     },
     "metadata": {},
     "output_type": "display_data"
    },
    {
     "data": {
      "text/markdown": [
       "<span style=\"color:#33cc33\">Correct</span>"
      ],
      "text/plain": [
       "Correct"
      ]
     },
     "metadata": {},
     "output_type": "display_data"
    }
   ],
   "source": [
    "pi = 3.14159 # approximate\n",
    "diameter = 3\n",
    "\n",
    "# Create a variable called 'radius' equal to half the diameter\n",
    "radius = diameter/2\n",
    "\n",
    "# Create a variable called 'area', using the formula for the area of a circle: pi times the radius squared\n",
    "area = pi * (radius**2) \n",
    "\n",
    "# Check your answer\n",
    "q1.check()"
   ]
  },
  {
   "cell_type": "code",
   "execution_count": 6,
   "id": "a758a57a",
   "metadata": {
    "execution": {
     "iopub.execute_input": "2024-02-23T20:01:10.058323Z",
     "iopub.status.busy": "2024-02-23T20:01:10.056687Z",
     "iopub.status.idle": "2024-02-23T20:01:10.062697Z",
     "shell.execute_reply": "2024-02-23T20:01:10.061621Z"
    },
    "papermill": {
     "duration": 0.020653,
     "end_time": "2024-02-23T20:01:10.065383",
     "exception": false,
     "start_time": "2024-02-23T20:01:10.044730",
     "status": "completed"
    },
    "tags": []
   },
   "outputs": [],
   "source": [
    "# Uncomment and run the lines below if you need help.\n",
    "#q1.hint()\n",
    "#q1.solution()"
   ]
  },
  {
   "cell_type": "markdown",
   "id": "dacf438b",
   "metadata": {
    "papermill": {
     "duration": 0.010057,
     "end_time": "2024-02-23T20:01:10.086171",
     "exception": false,
     "start_time": "2024-02-23T20:01:10.076114",
     "status": "completed"
    },
    "tags": []
   },
   "source": [
    "<hr/>\n",
    "\n",
    "# 2.\n",
    "\n",
    "Add code to the following cell to swap variables `a` and `b` (so that `a` refers to the object previously referred to by `b` and vice versa)."
   ]
  },
  {
   "cell_type": "code",
   "execution_count": 7,
   "id": "2f0187de",
   "metadata": {
    "execution": {
     "iopub.execute_input": "2024-02-23T20:01:10.108961Z",
     "iopub.status.busy": "2024-02-23T20:01:10.108487Z",
     "iopub.status.idle": "2024-02-23T20:01:10.121033Z",
     "shell.execute_reply": "2024-02-23T20:01:10.119792Z"
    },
    "papermill": {
     "duration": 0.027347,
     "end_time": "2024-02-23T20:01:10.123868",
     "exception": false,
     "start_time": "2024-02-23T20:01:10.096521",
     "status": "completed"
    },
    "tags": []
   },
   "outputs": [
    {
     "data": {
      "application/javascript": [
       "parent.postMessage({\"jupyterEvent\": \"custom.exercise_interaction\", \"data\": {\"outcomeType\": 1, \"valueTowardsCompletion\": 0.25, \"interactionType\": 1, \"questionType\": 2, \"questionId\": \"2_VariableSwap\", \"learnToolsVersion\": \"0.3.4\", \"failureMessage\": \"\", \"exceptionClass\": \"\", \"trace\": \"\"}}, \"*\")"
      ],
      "text/plain": [
       "<IPython.core.display.Javascript object>"
      ]
     },
     "metadata": {},
     "output_type": "display_data"
    },
    {
     "data": {
      "text/markdown": [
       "<span style=\"color:#33cc33\">Correct:</span> \n",
       "\n",
       "The most straightforward solution is to use a third variable to temporarily store one of the old values. e.g.:\n",
       "\n",
       "    tmp = a\n",
       "    a = b\n",
       "    b = tmp\n",
       "\n",
       "If you've read lots of Python code, you might have seen the following trick to swap two variables in one line:\n",
       "\n",
       "    a, b = b, a\n",
       "\n",
       "We'll demystify this bit of Python magic later when we talk about *tuples*."
      ],
      "text/plain": [
       "Correct: \n",
       "\n",
       "The most straightforward solution is to use a third variable to temporarily store one of the old values. e.g.:\n",
       "\n",
       "    tmp = a\n",
       "    a = b\n",
       "    b = tmp\n",
       "\n",
       "If you've read lots of Python code, you might have seen the following trick to swap two variables in one line:\n",
       "\n",
       "    a, b = b, a\n",
       "\n",
       "We'll demystify this bit of Python magic later when we talk about *tuples*."
      ]
     },
     "metadata": {},
     "output_type": "display_data"
    }
   ],
   "source": [
    "########### Setup code - don't touch this part ######################\n",
    "# If you're curious, these are examples of lists. We'll talk about \n",
    "# them in depth a few lessons from now. For now, just know that they're\n",
    "# yet another type of Python object, like int or float.\n",
    "a = [1, 2, 3]\n",
    "b = [3, 2, 1]\n",
    "q2.store_original_ids()\n",
    "######################################################################\n",
    "\n",
    "# Your code goes here. Swap the values to which a and b refer.\n",
    "# If you get stuck, you can always uncomment one or both of the lines in\n",
    "# the next cell for a hint, or to peek at the solution.\n",
    "a,b = b,a\n",
    "######################################################################\n",
    "\n",
    "# Check your answer\n",
    "q2.check()"
   ]
  },
  {
   "cell_type": "code",
   "execution_count": 8,
   "id": "890a1ac7",
   "metadata": {
    "execution": {
     "iopub.execute_input": "2024-02-23T20:01:10.147680Z",
     "iopub.status.busy": "2024-02-23T20:01:10.147223Z",
     "iopub.status.idle": "2024-02-23T20:01:10.153927Z",
     "shell.execute_reply": "2024-02-23T20:01:10.152487Z"
    },
    "papermill": {
     "duration": 0.021604,
     "end_time": "2024-02-23T20:01:10.156649",
     "exception": false,
     "start_time": "2024-02-23T20:01:10.135045",
     "status": "completed"
    },
    "tags": []
   },
   "outputs": [],
   "source": [
    "#q2.hint()"
   ]
  },
  {
   "cell_type": "code",
   "execution_count": 9,
   "id": "8a12198b",
   "metadata": {
    "execution": {
     "iopub.execute_input": "2024-02-23T20:01:10.180487Z",
     "iopub.status.busy": "2024-02-23T20:01:10.180049Z",
     "iopub.status.idle": "2024-02-23T20:01:10.185589Z",
     "shell.execute_reply": "2024-02-23T20:01:10.184148Z"
    },
    "papermill": {
     "duration": 0.021029,
     "end_time": "2024-02-23T20:01:10.188390",
     "exception": false,
     "start_time": "2024-02-23T20:01:10.167361",
     "status": "completed"
    },
    "tags": []
   },
   "outputs": [],
   "source": [
    "#q2.solution()"
   ]
  },
  {
   "cell_type": "markdown",
   "id": "9a996383",
   "metadata": {
    "papermill": {
     "duration": 0.010247,
     "end_time": "2024-02-23T20:01:10.209641",
     "exception": false,
     "start_time": "2024-02-23T20:01:10.199394",
     "status": "completed"
    },
    "tags": []
   },
   "source": [
    "<hr/>\n",
    "\n",
    "# 3a.\n",
    "\n",
    "Add parentheses to the following expression so that it evaluates to 1."
   ]
  },
  {
   "cell_type": "code",
   "execution_count": 10,
   "id": "3652d372",
   "metadata": {
    "execution": {
     "iopub.execute_input": "2024-02-23T20:01:10.233127Z",
     "iopub.status.busy": "2024-02-23T20:01:10.232702Z",
     "iopub.status.idle": "2024-02-23T20:01:10.241043Z",
     "shell.execute_reply": "2024-02-23T20:01:10.239988Z"
    },
    "papermill": {
     "duration": 0.022937,
     "end_time": "2024-02-23T20:01:10.243598",
     "exception": false,
     "start_time": "2024-02-23T20:01:10.220661",
     "status": "completed"
    },
    "tags": []
   },
   "outputs": [
    {
     "data": {
      "text/plain": [
       "1"
      ]
     },
     "execution_count": 10,
     "metadata": {},
     "output_type": "execute_result"
    }
   ],
   "source": [
    "((5 - 3) // 2)"
   ]
  },
  {
   "cell_type": "code",
   "execution_count": 11,
   "id": "0c6d3be0",
   "metadata": {
    "execution": {
     "iopub.execute_input": "2024-02-23T20:01:10.267800Z",
     "iopub.status.busy": "2024-02-23T20:01:10.267317Z",
     "iopub.status.idle": "2024-02-23T20:01:10.273021Z",
     "shell.execute_reply": "2024-02-23T20:01:10.271553Z"
    },
    "papermill": {
     "duration": 0.021208,
     "end_time": "2024-02-23T20:01:10.275667",
     "exception": false,
     "start_time": "2024-02-23T20:01:10.254459",
     "status": "completed"
    },
    "tags": []
   },
   "outputs": [],
   "source": [
    "#q3.a.hint()"
   ]
  },
  {
   "cell_type": "code",
   "execution_count": 12,
   "id": "f1fd55ca",
   "metadata": {
    "execution": {
     "iopub.execute_input": "2024-02-23T20:01:10.301755Z",
     "iopub.status.busy": "2024-02-23T20:01:10.301239Z",
     "iopub.status.idle": "2024-02-23T20:01:10.311568Z",
     "shell.execute_reply": "2024-02-23T20:01:10.309913Z"
    },
    "papermill": {
     "duration": 0.027036,
     "end_time": "2024-02-23T20:01:10.314393",
     "exception": false,
     "start_time": "2024-02-23T20:01:10.287357",
     "status": "completed"
    },
    "tags": []
   },
   "outputs": [
    {
     "data": {
      "application/javascript": [
       "parent.postMessage({\"jupyterEvent\": \"custom.exercise_interaction\", \"data\": {\"interactionType\": 3, \"questionType\": 4, \"questionId\": \"3.1_ArithmeticParensEasy\", \"learnToolsVersion\": \"0.3.4\", \"valueTowardsCompletion\": 0.0, \"failureMessage\": \"\", \"exceptionClass\": \"\", \"trace\": \"\", \"outcomeType\": 4}}, \"*\")"
      ],
      "text/plain": [
       "<IPython.core.display.Javascript object>"
      ]
     },
     "metadata": {},
     "output_type": "display_data"
    },
    {
     "data": {
      "text/markdown": [
       "<span style=\"color:#33cc99\">Solution:</span> \n",
       "```python\n",
       "(5 - 3) // 2\n",
       "```"
      ],
      "text/plain": [
       "Solution: \n",
       "```python\n",
       "(5 - 3) // 2\n",
       "```"
      ]
     },
     "metadata": {},
     "output_type": "display_data"
    }
   ],
   "source": [
    "# Check your answer (Run this code cell to receive credit!)\n",
    "q3.a.solution()"
   ]
  },
  {
   "cell_type": "markdown",
   "id": "165e8366",
   "metadata": {
    "papermill": {
     "duration": 0.011093,
     "end_time": "2024-02-23T20:01:10.336586",
     "exception": false,
     "start_time": "2024-02-23T20:01:10.325493",
     "status": "completed"
    },
    "tags": []
   },
   "source": [
    "# 3b.  <span title=\"A bit spicy\" style=\"color: darkgreen \">🌶️</span>\n",
    "\n",
    "<small>Questions, like this one, marked a spicy pepper are a bit harder.</small>\n",
    "\n",
    "Add parentheses to the following expression so that it evaluates to 0."
   ]
  },
  {
   "cell_type": "code",
   "execution_count": 13,
   "id": "78c3cc69",
   "metadata": {
    "execution": {
     "iopub.execute_input": "2024-02-23T20:01:10.362882Z",
     "iopub.status.busy": "2024-02-23T20:01:10.362400Z",
     "iopub.status.idle": "2024-02-23T20:01:10.368884Z",
     "shell.execute_reply": "2024-02-23T20:01:10.367992Z"
    },
    "papermill": {
     "duration": 0.022666,
     "end_time": "2024-02-23T20:01:10.371426",
     "exception": false,
     "start_time": "2024-02-23T20:01:10.348760",
     "status": "completed"
    },
    "tags": []
   },
   "outputs": [
    {
     "data": {
      "text/plain": [
       "0"
      ]
     },
     "execution_count": 13,
     "metadata": {},
     "output_type": "execute_result"
    }
   ],
   "source": [
    "(8 - 3 )* (2 - (1 + 1))"
   ]
  },
  {
   "cell_type": "code",
   "execution_count": 14,
   "id": "dcc48660",
   "metadata": {
    "execution": {
     "iopub.execute_input": "2024-02-23T20:01:10.396250Z",
     "iopub.status.busy": "2024-02-23T20:01:10.395837Z",
     "iopub.status.idle": "2024-02-23T20:01:10.400489Z",
     "shell.execute_reply": "2024-02-23T20:01:10.399215Z"
    },
    "papermill": {
     "duration": 0.020317,
     "end_time": "2024-02-23T20:01:10.403128",
     "exception": false,
     "start_time": "2024-02-23T20:01:10.382811",
     "status": "completed"
    },
    "tags": []
   },
   "outputs": [],
   "source": [
    "#q3.b.hint()"
   ]
  },
  {
   "cell_type": "code",
   "execution_count": 15,
   "id": "8dbe6a9a",
   "metadata": {
    "execution": {
     "iopub.execute_input": "2024-02-23T20:01:10.430067Z",
     "iopub.status.busy": "2024-02-23T20:01:10.429660Z",
     "iopub.status.idle": "2024-02-23T20:01:10.437615Z",
     "shell.execute_reply": "2024-02-23T20:01:10.436700Z"
    },
    "papermill": {
     "duration": 0.025182,
     "end_time": "2024-02-23T20:01:10.440246",
     "exception": false,
     "start_time": "2024-02-23T20:01:10.415064",
     "status": "completed"
    },
    "tags": []
   },
   "outputs": [
    {
     "data": {
      "application/javascript": [
       "parent.postMessage({\"jupyterEvent\": \"custom.exercise_interaction\", \"data\": {\"interactionType\": 3, \"questionType\": 4, \"questionId\": \"3.2_ArithmeticParensHard\", \"learnToolsVersion\": \"0.3.4\", \"valueTowardsCompletion\": 0.0, \"failureMessage\": \"\", \"exceptionClass\": \"\", \"trace\": \"\", \"outcomeType\": 4}}, \"*\")"
      ],
      "text/plain": [
       "<IPython.core.display.Javascript object>"
      ]
     },
     "metadata": {},
     "output_type": "display_data"
    },
    {
     "data": {
      "text/markdown": [
       "<span style=\"color:#33cc99\">Solution:</span> `(8 - 3) * (2 - (1 + 1))` is one solution. There may be others."
      ],
      "text/plain": [
       "Solution: `(8 - 3) * (2 - (1 + 1))` is one solution. There may be others."
      ]
     },
     "metadata": {},
     "output_type": "display_data"
    }
   ],
   "source": [
    "# Check your answer (Run this code cell to receive credit!)\n",
    "q3.b.solution()"
   ]
  },
  {
   "cell_type": "markdown",
   "id": "f15a28bb",
   "metadata": {
    "papermill": {
     "duration": 0.011325,
     "end_time": "2024-02-23T20:01:10.464312",
     "exception": false,
     "start_time": "2024-02-23T20:01:10.452987",
     "status": "completed"
    },
    "tags": []
   },
   "source": [
    "<hr/>\n",
    "\n",
    "# 4. \n",
    "Alice, Bob and Carol have agreed to pool their Halloween candy and split it evenly among themselves.\n",
    "For the sake of their friendship, any candies left over will be smashed. For example, if they collectively\n",
    "bring home 91 candies, they'll take 30 each and smash 1.\n",
    "\n",
    "Write an arithmetic expression below to calculate how many candies they must smash for a given haul."
   ]
  },
  {
   "cell_type": "code",
   "execution_count": 16,
   "id": "6996a9ca",
   "metadata": {
    "execution": {
     "iopub.execute_input": "2024-02-23T20:01:10.490727Z",
     "iopub.status.busy": "2024-02-23T20:01:10.489509Z",
     "iopub.status.idle": "2024-02-23T20:01:10.498856Z",
     "shell.execute_reply": "2024-02-23T20:01:10.497951Z"
    },
    "papermill": {
     "duration": 0.025173,
     "end_time": "2024-02-23T20:01:10.501415",
     "exception": false,
     "start_time": "2024-02-23T20:01:10.476242",
     "status": "completed"
    },
    "tags": []
   },
   "outputs": [
    {
     "data": {
      "application/javascript": [
       "parent.postMessage({\"jupyterEvent\": \"custom.exercise_interaction\", \"data\": {\"outcomeType\": 1, \"valueTowardsCompletion\": 0.25, \"interactionType\": 1, \"questionType\": 1, \"questionId\": \"4_CandySplitting\", \"learnToolsVersion\": \"0.3.4\", \"failureMessage\": \"\", \"exceptionClass\": \"\", \"trace\": \"\"}}, \"*\")"
      ],
      "text/plain": [
       "<IPython.core.display.Javascript object>"
      ]
     },
     "metadata": {},
     "output_type": "display_data"
    },
    {
     "data": {
      "text/markdown": [
       "<span style=\"color:#33cc33\">Correct</span>"
      ],
      "text/plain": [
       "Correct"
      ]
     },
     "metadata": {},
     "output_type": "display_data"
    }
   ],
   "source": [
    "# Variables representing the number of candies collected by alice, bob, and carol\n",
    "alice_candies = 121\n",
    "bob_candies = 77\n",
    "carol_candies = 109\n",
    "\n",
    "# Your code goes here! Replace the right-hand side of this assignment with an expression\n",
    "# involving alice_candies, bob_candies, and carol_candies\n",
    "total_candies = alice_candies + bob_candies + carol_candies\n",
    "to_smash = total_candies % 3\n",
    "\n",
    "# Check your answer\n",
    "q4.check()"
   ]
  },
  {
   "cell_type": "code",
   "execution_count": 17,
   "id": "ce103d4e",
   "metadata": {
    "execution": {
     "iopub.execute_input": "2024-02-23T20:01:10.528363Z",
     "iopub.status.busy": "2024-02-23T20:01:10.527920Z",
     "iopub.status.idle": "2024-02-23T20:01:10.533708Z",
     "shell.execute_reply": "2024-02-23T20:01:10.532249Z"
    },
    "papermill": {
     "duration": 0.022674,
     "end_time": "2024-02-23T20:01:10.536611",
     "exception": false,
     "start_time": "2024-02-23T20:01:10.513937",
     "status": "completed"
    },
    "tags": []
   },
   "outputs": [],
   "source": [
    "#q4.hint()\n",
    "#q4.solution()"
   ]
  },
  {
   "cell_type": "markdown",
   "id": "ed09093f",
   "metadata": {
    "papermill": {
     "duration": 0.011823,
     "end_time": "2024-02-23T20:01:10.560674",
     "exception": false,
     "start_time": "2024-02-23T20:01:10.548851",
     "status": "completed"
    },
    "tags": []
   },
   "source": [
    "# Keep Going\n",
    "\n",
    "Next up, you'll **[learn to write new functions and understand functions others write](https://www.kaggle.com/colinmorris/functions-and-getting-help)**. This will make you at least 10 times more productive as a Python programmer. "
   ]
  },
  {
   "cell_type": "markdown",
   "id": "029c7d9e",
   "metadata": {
    "papermill": {
     "duration": 0.011889,
     "end_time": "2024-02-23T20:01:10.584613",
     "exception": false,
     "start_time": "2024-02-23T20:01:10.572724",
     "status": "completed"
    },
    "tags": []
   },
   "source": [
    "---\n",
    "\n",
    "\n",
    "\n",
    "\n",
    "*Have questions or comments? Visit the [course discussion forum](https://www.kaggle.com/learn/python/discussion) to chat with other learners.*"
   ]
  }
 ],
 "metadata": {
  "kaggle": {
   "accelerator": "none",
   "dataSources": [],
   "isGpuEnabled": false,
   "isInternetEnabled": false,
   "language": "python",
   "sourceType": "notebook"
  },
  "kernelspec": {
   "display_name": "Python 3",
   "language": "python",
   "name": "python3"
  },
  "language_info": {
   "codemirror_mode": {
    "name": "ipython",
    "version": 3
   },
   "file_extension": ".py",
   "mimetype": "text/x-python",
   "name": "python",
   "nbconvert_exporter": "python",
   "pygments_lexer": "ipython3",
   "version": "3.10.13"
  },
  "learntools_metadata": {
   "lesson_index": 0,
   "type": "exercise"
  },
  "papermill": {
   "default_parameters": {},
   "duration": 6.487781,
   "end_time": "2024-02-23T20:01:11.221215",
   "environment_variables": {},
   "exception": null,
   "input_path": "__notebook__.ipynb",
   "output_path": "__notebook__.ipynb",
   "parameters": {},
   "start_time": "2024-02-23T20:01:04.733434",
   "version": "2.5.0"
  }
 },
 "nbformat": 4,
 "nbformat_minor": 5
}
