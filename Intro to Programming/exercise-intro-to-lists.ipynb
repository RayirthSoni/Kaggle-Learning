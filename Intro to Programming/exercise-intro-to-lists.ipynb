{
 "cells": [
  {
   "cell_type": "markdown",
   "id": "7c181ebc",
   "metadata": {
    "papermill": {
     "duration": 0.007091,
     "end_time": "2024-02-24T07:46:05.871829",
     "exception": false,
     "start_time": "2024-02-24T07:46:05.864738",
     "status": "completed"
    },
    "tags": []
   },
   "source": [
    "**This notebook is an exercise in the [Intro to Programming](https://www.kaggle.com/learn/intro-to-programming) course.  You can reference the tutorial at [this link](https://www.kaggle.com/alexisbcook/intro-to-lists).**\n",
    "\n",
    "---\n"
   ]
  },
  {
   "cell_type": "markdown",
   "id": "6ee8e354",
   "metadata": {
    "papermill": {
     "duration": 0.006291,
     "end_time": "2024-02-24T07:46:05.884792",
     "exception": false,
     "start_time": "2024-02-24T07:46:05.878501",
     "status": "completed"
    },
    "tags": []
   },
   "source": [
    "In the tutorial, you learned how to define and modify Python lists.  In this exercise, you will use your new knowledge to solve several problems.\n",
    "\n",
    "# Set up the notebook\n",
    "\n",
    "Run the next code cell without changes to set up the notebook."
   ]
  },
  {
   "cell_type": "code",
   "execution_count": 1,
   "id": "11da3804",
   "metadata": {
    "execution": {
     "iopub.execute_input": "2024-02-24T07:46:05.899577Z",
     "iopub.status.busy": "2024-02-24T07:46:05.899168Z",
     "iopub.status.idle": "2024-02-24T07:46:06.802520Z",
     "shell.execute_reply": "2024-02-24T07:46:06.801328Z"
    },
    "papermill": {
     "duration": 0.913564,
     "end_time": "2024-02-24T07:46:06.804963",
     "exception": false,
     "start_time": "2024-02-24T07:46:05.891399",
     "status": "completed"
    },
    "tags": []
   },
   "outputs": [
    {
     "name": "stdout",
     "output_type": "stream",
     "text": [
      "Setup complete.\n"
     ]
    }
   ],
   "source": [
    "from learntools.core import binder\n",
    "binder.bind(globals())\n",
    "from learntools.intro_to_programming.ex5 import *\n",
    "print('Setup complete.')"
   ]
  },
  {
   "cell_type": "markdown",
   "id": "07dc8ae6",
   "metadata": {
    "papermill": {
     "duration": 0.006186,
     "end_time": "2024-02-24T07:46:06.817834",
     "exception": false,
     "start_time": "2024-02-24T07:46:06.811648",
     "status": "completed"
    },
    "tags": []
   },
   "source": [
    "# Question 1\n",
    "\n",
    "You own a restaurant with five food dishes, organized in the Python list `menu` below.  One day, you decide to:\n",
    "- remove bean soup (`'bean soup'`) from the menu, and\n",
    "- add roasted beet salad (`'roasted beet salad'`) to the menu.\n",
    "\n",
    "Implement this change to the list below.  While completing this task, \n",
    "- do not change the line that creates the `menu` list.  \n",
    "- your answer should use `.remove()` and `.append()`.  "
   ]
  },
  {
   "cell_type": "code",
   "execution_count": 2,
   "id": "2b538c7b",
   "metadata": {
    "execution": {
     "iopub.execute_input": "2024-02-24T07:46:06.832808Z",
     "iopub.status.busy": "2024-02-24T07:46:06.832299Z",
     "iopub.status.idle": "2024-02-24T07:46:06.842616Z",
     "shell.execute_reply": "2024-02-24T07:46:06.841663Z"
    },
    "papermill": {
     "duration": 0.020482,
     "end_time": "2024-02-24T07:46:06.844829",
     "exception": false,
     "start_time": "2024-02-24T07:46:06.824347",
     "status": "completed"
    },
    "tags": []
   },
   "outputs": [
    {
     "data": {
      "application/javascript": [
       "parent.postMessage({\"jupyterEvent\": \"custom.exercise_interaction\", \"data\": {\"outcomeType\": 1, \"valueTowardsCompletion\": 0.2, \"interactionType\": 1, \"questionType\": 2, \"questionId\": \"1_FoodMenu\", \"learnToolsVersion\": \"0.3.4\", \"failureMessage\": \"\", \"exceptionClass\": \"\", \"trace\": \"\"}}, \"*\")"
      ],
      "text/plain": [
       "<IPython.core.display.Javascript object>"
      ]
     },
     "metadata": {},
     "output_type": "display_data"
    },
    {
     "data": {
      "text/markdown": [
       "<span style=\"color:#33cc33\">Correct</span>"
      ],
      "text/plain": [
       "Correct"
      ]
     },
     "metadata": {},
     "output_type": "display_data"
    }
   ],
   "source": [
    "# Do not change: Initial menu for your restaurant\n",
    "menu = ['stewed meat with onions', 'bean soup', 'risotto with trout and shrimp',\n",
    "       'fish soup with cream and onion', 'gyro']\n",
    "\n",
    "# TODO: remove 'bean soup', and add 'roasted beet salad' to the end of the menu\n",
    "menu.remove('bean soup')\n",
    "menu.append('roasted beet salad')\n",
    "\n",
    "# Do not change: Check your answer\n",
    "q1.check()"
   ]
  },
  {
   "cell_type": "code",
   "execution_count": 3,
   "id": "a33e6cdc",
   "metadata": {
    "execution": {
     "iopub.execute_input": "2024-02-24T07:46:06.860193Z",
     "iopub.status.busy": "2024-02-24T07:46:06.859812Z",
     "iopub.status.idle": "2024-02-24T07:46:06.863980Z",
     "shell.execute_reply": "2024-02-24T07:46:06.862863Z"
    },
    "papermill": {
     "duration": 0.014249,
     "end_time": "2024-02-24T07:46:06.865974",
     "exception": false,
     "start_time": "2024-02-24T07:46:06.851725",
     "status": "completed"
    },
    "tags": []
   },
   "outputs": [],
   "source": [
    "# Uncomment to see a hint\n",
    "#q1.hint()\n",
    "\n",
    "# Uncomment to see the solution\n",
    "#q1.solution()"
   ]
  },
  {
   "cell_type": "markdown",
   "id": "2a9f2073",
   "metadata": {
    "papermill": {
     "duration": 0.006466,
     "end_time": "2024-02-24T07:46:06.879255",
     "exception": false,
     "start_time": "2024-02-24T07:46:06.872789",
     "status": "completed"
    },
    "tags": []
   },
   "source": [
    "# Question 2\n",
    "\n",
    "The list `num_customers` contains the number of customers who came into your restaurant every day over the last month (which lasted thirty days).  Fill in values for each of the following:\n",
    "- `avg_first_seven` - average number of customers who visited in the first seven days\n",
    "- `avg_last_seven` - average number of customers who visited in the last seven days\n",
    "- `max_month` - number of customers on the day that got the most customers in the last month\n",
    "- `min_month` - number of customers on the day that got the least customers in the last month\n",
    "\n",
    "Answer this question by writing code.  For instance, if you have to find the minimum value in a list, use `min()` instead of scanning for the smallest value and directly filling in a number."
   ]
  },
  {
   "cell_type": "code",
   "execution_count": 4,
   "id": "493ae4ab",
   "metadata": {
    "execution": {
     "iopub.execute_input": "2024-02-24T07:46:06.896020Z",
     "iopub.status.busy": "2024-02-24T07:46:06.894968Z",
     "iopub.status.idle": "2024-02-24T07:46:06.905164Z",
     "shell.execute_reply": "2024-02-24T07:46:06.904113Z"
    },
    "papermill": {
     "duration": 0.02112,
     "end_time": "2024-02-24T07:46:06.907842",
     "exception": false,
     "start_time": "2024-02-24T07:46:06.886722",
     "status": "completed"
    },
    "tags": []
   },
   "outputs": [
    {
     "data": {
      "application/javascript": [
       "parent.postMessage({\"jupyterEvent\": \"custom.exercise_interaction\", \"data\": {\"outcomeType\": 1, \"valueTowardsCompletion\": 0.2, \"interactionType\": 1, \"questionType\": 1, \"questionId\": \"2_NumCustomers\", \"learnToolsVersion\": \"0.3.4\", \"failureMessage\": \"\", \"exceptionClass\": \"\", \"trace\": \"\"}}, \"*\")"
      ],
      "text/plain": [
       "<IPython.core.display.Javascript object>"
      ]
     },
     "metadata": {},
     "output_type": "display_data"
    },
    {
     "data": {
      "text/markdown": [
       "<span style=\"color:#33cc33\">Correct</span>"
      ],
      "text/plain": [
       "Correct"
      ]
     },
     "metadata": {},
     "output_type": "display_data"
    }
   ],
   "source": [
    "# Do not change: Number of customers each day for the last month\n",
    "num_customers = [137, 147, 135, 128, 170, 174, 165, 146, 126, 159,\n",
    "                 141, 148, 132, 147, 168, 153, 170, 161, 148, 152,\n",
    "                 141, 151, 131, 149, 164, 163, 143, 143, 166, 171]\n",
    "\n",
    "# TODO: Fill in values for the variables below\n",
    "avg_first_seven = sum(num_customers[:7])/7\n",
    "avg_last_seven = sum(num_customers[23:])/7\n",
    "max_month = max(num_customers)\n",
    "min_month = min(num_customers)\n",
    "\n",
    "# Do not change: Check your answer\n",
    "q2.check()"
   ]
  },
  {
   "cell_type": "code",
   "execution_count": 5,
   "id": "5df8a16a",
   "metadata": {
    "execution": {
     "iopub.execute_input": "2024-02-24T07:46:06.924069Z",
     "iopub.status.busy": "2024-02-24T07:46:06.923657Z",
     "iopub.status.idle": "2024-02-24T07:46:06.928624Z",
     "shell.execute_reply": "2024-02-24T07:46:06.927548Z"
    },
    "papermill": {
     "duration": 0.015402,
     "end_time": "2024-02-24T07:46:06.930661",
     "exception": false,
     "start_time": "2024-02-24T07:46:06.915259",
     "status": "completed"
    },
    "tags": []
   },
   "outputs": [],
   "source": [
    "# Uncomment to see a hint\n",
    "#q2.hint()\n",
    "\n",
    "# Uncomment to see the solution\n",
    "#q2.solution()"
   ]
  },
  {
   "cell_type": "markdown",
   "id": "3492a3b3",
   "metadata": {
    "papermill": {
     "duration": 0.006515,
     "end_time": "2024-02-24T07:46:06.943903",
     "exception": false,
     "start_time": "2024-02-24T07:46:06.937388",
     "status": "completed"
    },
    "tags": []
   },
   "source": [
    "# Question 3\n",
    "\n",
    "In the tutorial, we gave an example of a Python string with information that was better as a list."
   ]
  },
  {
   "cell_type": "code",
   "execution_count": 6,
   "id": "b804d26e",
   "metadata": {
    "execution": {
     "iopub.execute_input": "2024-02-24T07:46:06.960875Z",
     "iopub.status.busy": "2024-02-24T07:46:06.960062Z",
     "iopub.status.idle": "2024-02-24T07:46:06.965041Z",
     "shell.execute_reply": "2024-02-24T07:46:06.964064Z"
    },
    "papermill": {
     "duration": 0.016712,
     "end_time": "2024-02-24T07:46:06.967246",
     "exception": false,
     "start_time": "2024-02-24T07:46:06.950534",
     "status": "completed"
    },
    "tags": []
   },
   "outputs": [],
   "source": [
    "flowers = \"pink primrose,hard-leaved pocket orchid,canterbury bells,sweet pea,english marigold,tiger lily,moon orchid,bird of paradise,monkshood,globe thistle\""
   ]
  },
  {
   "cell_type": "markdown",
   "id": "d57b50af",
   "metadata": {
    "papermill": {
     "duration": 0.006517,
     "end_time": "2024-02-24T07:46:06.980483",
     "exception": false,
     "start_time": "2024-02-24T07:46:06.973966",
     "status": "completed"
    },
    "tags": []
   },
   "source": [
    "You can actually use Python to quickly turn this string into a list with `.split()`.  In the parentheses, we need to provide the character should be used to mark the end of one list item and the beginning of another, and enclose it in quotation marks.  In this case, that character is a comma."
   ]
  },
  {
   "cell_type": "code",
   "execution_count": 7,
   "id": "2a65592c",
   "metadata": {
    "execution": {
     "iopub.execute_input": "2024-02-24T07:46:06.996707Z",
     "iopub.status.busy": "2024-02-24T07:46:06.995889Z",
     "iopub.status.idle": "2024-02-24T07:46:07.002223Z",
     "shell.execute_reply": "2024-02-24T07:46:07.000589Z"
    },
    "papermill": {
     "duration": 0.017753,
     "end_time": "2024-02-24T07:46:07.004771",
     "exception": false,
     "start_time": "2024-02-24T07:46:06.987018",
     "status": "completed"
    },
    "tags": []
   },
   "outputs": [
    {
     "name": "stdout",
     "output_type": "stream",
     "text": [
      "['pink primrose', 'hard-leaved pocket orchid', 'canterbury bells', 'sweet pea', 'english marigold', 'tiger lily', 'moon orchid', 'bird of paradise', 'monkshood', 'globe thistle']\n"
     ]
    }
   ],
   "source": [
    " print(flowers.split(\",\"))"
   ]
  },
  {
   "cell_type": "markdown",
   "id": "d5c442d5",
   "metadata": {
    "papermill": {
     "duration": 0.006722,
     "end_time": "2024-02-24T07:46:07.018349",
     "exception": false,
     "start_time": "2024-02-24T07:46:07.011627",
     "status": "completed"
    },
    "tags": []
   },
   "source": [
    "Now it is your turn to try this out!  Create two Python lists:\n",
    "- `letters` should be a Python list where each entry is an uppercase letter of the English alphabet.  For instance, the first two entries should be `\"A\"` and `\"B\"`, and the final two entries should be `\"Y\"` and `\"Z\"`.  Use the string `alphabet` to create this list.\n",
    "- `address` should be a Python list where each row in `address` is a different item in the list.  Currently, each row in `address` is separated by a comma. "
   ]
  },
  {
   "cell_type": "code",
   "execution_count": 8,
   "id": "884203d7",
   "metadata": {
    "execution": {
     "iopub.execute_input": "2024-02-24T07:46:07.033546Z",
     "iopub.status.busy": "2024-02-24T07:46:07.033147Z",
     "iopub.status.idle": "2024-02-24T07:46:07.043489Z",
     "shell.execute_reply": "2024-02-24T07:46:07.042178Z"
    },
    "papermill": {
     "duration": 0.021211,
     "end_time": "2024-02-24T07:46:07.046226",
     "exception": false,
     "start_time": "2024-02-24T07:46:07.025015",
     "status": "completed"
    },
    "tags": []
   },
   "outputs": [
    {
     "data": {
      "application/javascript": [
       "parent.postMessage({\"jupyterEvent\": \"custom.exercise_interaction\", \"data\": {\"outcomeType\": 1, \"valueTowardsCompletion\": 0.2, \"interactionType\": 1, \"questionType\": 1, \"questionId\": \"3_SplitString\", \"learnToolsVersion\": \"0.3.4\", \"failureMessage\": \"\", \"exceptionClass\": \"\", \"trace\": \"\"}}, \"*\")"
      ],
      "text/plain": [
       "<IPython.core.display.Javascript object>"
      ]
     },
     "metadata": {},
     "output_type": "display_data"
    },
    {
     "data": {
      "text/markdown": [
       "<span style=\"color:#33cc33\">Correct</span>"
      ],
      "text/plain": [
       "Correct"
      ]
     },
     "metadata": {},
     "output_type": "display_data"
    }
   ],
   "source": [
    "# DO not change: Define two Python strings\n",
    "alphabet = \"A.B.C.D.E.F.G.H.I.J.K.L.M.N.O.P.Q.R.S.T.U.V.W.X.Y.Z\"\n",
    "address = \"Mr. H. Potter,The cupboard under the Stairs,4 Privet Drive,Little Whinging,Surrey\"\n",
    "\n",
    "# TODO: Convert strings into Python lists\n",
    "letters = alphabet.split('.')\n",
    "formatted_address = address.split(',')\n",
    "\n",
    "# Do not change: Check your answer\n",
    "q3.check()"
   ]
  },
  {
   "cell_type": "code",
   "execution_count": 9,
   "id": "646669bc",
   "metadata": {
    "execution": {
     "iopub.execute_input": "2024-02-24T07:46:07.063547Z",
     "iopub.status.busy": "2024-02-24T07:46:07.062894Z",
     "iopub.status.idle": "2024-02-24T07:46:07.066853Z",
     "shell.execute_reply": "2024-02-24T07:46:07.065726Z"
    },
    "papermill": {
     "duration": 0.015548,
     "end_time": "2024-02-24T07:46:07.069356",
     "exception": false,
     "start_time": "2024-02-24T07:46:07.053808",
     "status": "completed"
    },
    "tags": []
   },
   "outputs": [],
   "source": [
    "# Uncomment to see a hint\n",
    "#q3.hint()\n",
    "\n",
    "# Uncomment to see the solution\n",
    "#q3.solution()"
   ]
  },
  {
   "cell_type": "markdown",
   "id": "93022cbb",
   "metadata": {
    "papermill": {
     "duration": 0.007326,
     "end_time": "2024-02-24T07:46:07.084257",
     "exception": false,
     "start_time": "2024-02-24T07:46:07.076931",
     "status": "completed"
    },
    "tags": []
   },
   "source": [
    "# Question 4\n",
    "\n",
    "In the Python course, you'll learn all about **list comprehensions**, which allow you to create a list based on the values in another list.  In this question, you'll get a brief preview of how they work.\n",
    "\n",
    "Say we're working with the list below."
   ]
  },
  {
   "cell_type": "code",
   "execution_count": 10,
   "id": "ea9d6648",
   "metadata": {
    "execution": {
     "iopub.execute_input": "2024-02-24T07:46:07.101645Z",
     "iopub.status.busy": "2024-02-24T07:46:07.101243Z",
     "iopub.status.idle": "2024-02-24T07:46:07.105543Z",
     "shell.execute_reply": "2024-02-24T07:46:07.104496Z"
    },
    "papermill": {
     "duration": 0.016042,
     "end_time": "2024-02-24T07:46:07.108003",
     "exception": false,
     "start_time": "2024-02-24T07:46:07.091961",
     "status": "completed"
    },
    "tags": []
   },
   "outputs": [],
   "source": [
    "test_ratings = [1, 2, 3, 4, 5]"
   ]
  },
  {
   "cell_type": "markdown",
   "id": "9073217c",
   "metadata": {
    "papermill": {
     "duration": 0.00684,
     "end_time": "2024-02-24T07:46:07.121957",
     "exception": false,
     "start_time": "2024-02-24T07:46:07.115117",
     "status": "completed"
    },
    "tags": []
   },
   "source": [
    "Then we can use this list (`test_ratings`) to create a new list (`test_liked`) where each item has been turned into a boolean, depending on whether or not the item is greater than or equal to four."
   ]
  },
  {
   "cell_type": "code",
   "execution_count": 11,
   "id": "9021aae2",
   "metadata": {
    "execution": {
     "iopub.execute_input": "2024-02-24T07:46:07.137725Z",
     "iopub.status.busy": "2024-02-24T07:46:07.137143Z",
     "iopub.status.idle": "2024-02-24T07:46:07.143358Z",
     "shell.execute_reply": "2024-02-24T07:46:07.141690Z"
    },
    "papermill": {
     "duration": 0.016972,
     "end_time": "2024-02-24T07:46:07.145833",
     "exception": false,
     "start_time": "2024-02-24T07:46:07.128861",
     "status": "completed"
    },
    "tags": []
   },
   "outputs": [
    {
     "name": "stdout",
     "output_type": "stream",
     "text": [
      "[False, False, False, True, True]\n"
     ]
    }
   ],
   "source": [
    "test_liked = [i>=4 for i in test_ratings]\n",
    "print(test_liked)"
   ]
  },
  {
   "cell_type": "markdown",
   "id": "38b20199",
   "metadata": {
    "papermill": {
     "duration": 0.00685,
     "end_time": "2024-02-24T07:46:07.159696",
     "exception": false,
     "start_time": "2024-02-24T07:46:07.152846",
     "status": "completed"
    },
    "tags": []
   },
   "source": [
    "In this question, you'll use this list comprehension to define a function `percentage_liked()` that takes one argument as input:\n",
    "- `ratings`: list of ratings that people gave to a movie, where each rating is a number between 1-5, inclusive\n",
    "\n",
    "We say someone liked the movie, if they gave a rating of either 4 or 5.  Your function should return the percentage of people who liked the movie.\n",
    "\n",
    "For instance, if we supply a value of `[1, 2, 3, 4, 5, 4, 5, 1]`, then 50% (4/8) of the people liked the movie, and the function should return `0.5`.\n",
    "\n",
    "Part of the function has already been completed for you.  You need only use `list_liked` to calculate `percentage_liked`."
   ]
  },
  {
   "cell_type": "code",
   "execution_count": 12,
   "id": "2bb25b8a",
   "metadata": {
    "execution": {
     "iopub.execute_input": "2024-02-24T07:46:07.175648Z",
     "iopub.status.busy": "2024-02-24T07:46:07.175020Z",
     "iopub.status.idle": "2024-02-24T07:46:07.185546Z",
     "shell.execute_reply": "2024-02-24T07:46:07.184151Z"
    },
    "papermill": {
     "duration": 0.021049,
     "end_time": "2024-02-24T07:46:07.187802",
     "exception": false,
     "start_time": "2024-02-24T07:46:07.166753",
     "status": "completed"
    },
    "tags": []
   },
   "outputs": [
    {
     "data": {
      "application/javascript": [
       "parent.postMessage({\"jupyterEvent\": \"custom.exercise_interaction\", \"data\": {\"outcomeType\": 1, \"valueTowardsCompletion\": 0.2, \"interactionType\": 1, \"questionType\": 2, \"questionId\": \"4_PercentageLiked\", \"learnToolsVersion\": \"0.3.4\", \"failureMessage\": \"\", \"exceptionClass\": \"\", \"trace\": \"\"}}, \"*\")"
      ],
      "text/plain": [
       "<IPython.core.display.Javascript object>"
      ]
     },
     "metadata": {},
     "output_type": "display_data"
    },
    {
     "data": {
      "text/markdown": [
       "<span style=\"color:#33cc33\">Correct</span>"
      ],
      "text/plain": [
       "Correct"
      ]
     },
     "metadata": {},
     "output_type": "display_data"
    }
   ],
   "source": [
    "\n",
    "def percentage_liked(ratings):\n",
    "    list_liked = [i>=4 for i in ratings]\n",
    "    # TODO: Complete the function\n",
    "    \n",
    "    percentage_liked = (sum(list_liked)/len(ratings))\n",
    "    return percentage_liked\n",
    "\n",
    "# Do not change: should return 0.5\n",
    "percentage_liked([1, 2, 3, 4, 5, 4, 5, 1])\n",
    "\n",
    "# Do not change: Check your answer\n",
    "q4.check()"
   ]
  },
  {
   "cell_type": "code",
   "execution_count": 13,
   "id": "cd0305d2",
   "metadata": {
    "execution": {
     "iopub.execute_input": "2024-02-24T07:46:07.204335Z",
     "iopub.status.busy": "2024-02-24T07:46:07.203991Z",
     "iopub.status.idle": "2024-02-24T07:46:07.208379Z",
     "shell.execute_reply": "2024-02-24T07:46:07.207066Z"
    },
    "papermill": {
     "duration": 0.01587,
     "end_time": "2024-02-24T07:46:07.210862",
     "exception": false,
     "start_time": "2024-02-24T07:46:07.194992",
     "status": "completed"
    },
    "tags": []
   },
   "outputs": [],
   "source": [
    "# Uncomment to see a hint\n",
    "#q4.hint()\n",
    "\n",
    "# Uncomment to see the solution\n",
    "#q4.solution()"
   ]
  },
  {
   "cell_type": "markdown",
   "id": "3d342727",
   "metadata": {
    "papermill": {
     "duration": 0.007049,
     "end_time": "2024-02-24T07:46:07.225326",
     "exception": false,
     "start_time": "2024-02-24T07:46:07.218277",
     "status": "completed"
    },
    "tags": []
   },
   "source": [
    "# 🌶️ Question 5\n",
    " \n",
    "Say you're doing analytics for a website.  You need to write a function that returns the percentage growth in the total number of users relative to a specified number of years ago.\n",
    "\n",
    "Your function `percentage_growth()` should take two arguments as input:\n",
    "- `num_users` = Python list with the total number of users each year.  So `num_users[0]` is the total number of users in the first year, `num_users[1]` is the total number of users in the second year, and so on.  The final entry in the list gives the total number of users in the most recently completed year.\n",
    "- `yrs_ago` = number of years to go back in time when calculating the growth percentage\n",
    "\n",
    "For instance, say `num_users = [920344, 1043553, 1204334, 1458996, 1503323, 1593432, 1623463, 1843064, 1930992, 2001078]`.\n",
    "- if `yrs_ago = 1`, we want the function to return a value of about `0.036`. This corresponds to a percentage growth of approximately 3.6%, calculated as (2001078 - 1930992)/1930992.\n",
    "- if `years_ago = 7`, we would want to return approximately `0.66`.  This corresponds to a percentage growth of approximately 66%, calculated as (2001078 - 1204334)/1204334.\n",
    "\n",
    "Your coworker sent you a draft of a function, but it doesn't seem to be doing the correct calculation.  Can you figure out what has gone wrong and make the needed changes?"
   ]
  },
  {
   "cell_type": "code",
   "execution_count": 14,
   "id": "045df42b",
   "metadata": {
    "execution": {
     "iopub.execute_input": "2024-02-24T07:46:07.242374Z",
     "iopub.status.busy": "2024-02-24T07:46:07.241685Z",
     "iopub.status.idle": "2024-02-24T07:46:07.255926Z",
     "shell.execute_reply": "2024-02-24T07:46:07.254609Z"
    },
    "papermill": {
     "duration": 0.02576,
     "end_time": "2024-02-24T07:46:07.258433",
     "exception": false,
     "start_time": "2024-02-24T07:46:07.232673",
     "status": "completed"
    },
    "tags": []
   },
   "outputs": [
    {
     "name": "stdout",
     "output_type": "stream",
     "text": [
      "0.03629533421163837\n",
      "0.6615639847417742\n"
     ]
    },
    {
     "data": {
      "application/javascript": [
       "parent.postMessage({\"jupyterEvent\": \"custom.exercise_interaction\", \"data\": {\"outcomeType\": 1, \"valueTowardsCompletion\": 0.2, \"interactionType\": 1, \"questionType\": 2, \"questionId\": \"5_WebsiteAnalytics\", \"learnToolsVersion\": \"0.3.4\", \"failureMessage\": \"\", \"exceptionClass\": \"\", \"trace\": \"\"}}, \"*\")"
      ],
      "text/plain": [
       "<IPython.core.display.Javascript object>"
      ]
     },
     "metadata": {},
     "output_type": "display_data"
    },
    {
     "data": {
      "text/markdown": [
       "<span style=\"color:#33cc33\">Correct</span>"
      ],
      "text/plain": [
       "Correct"
      ]
     },
     "metadata": {},
     "output_type": "display_data"
    }
   ],
   "source": [
    "# TODO: Edit the function\n",
    "def percentage_growth(num_users, yrs_ago):\n",
    "    growth = ((num_users[len(num_users) - 1]) - (num_users[len(num_users)-1-yrs_ago])) / num_users[len(num_users) - 1 - yrs_ago]\n",
    "    return growth\n",
    "\n",
    "# Do not change: Variable for calculating some test examples\n",
    "num_users_test = [920344, 1043553, 1204334, 1458996, 1503323, 1593432, 1623463, 1843064, 1930992, 2001078]\n",
    "\n",
    "# Do not change: Should return .036\n",
    "print(percentage_growth(num_users_test, 1))\n",
    "\n",
    "# Do not change: Should return 0.66\n",
    "print(percentage_growth(num_users_test, 7))\n",
    "\n",
    "# Do not change: Check your answer\n",
    "q5.check()"
   ]
  },
  {
   "cell_type": "code",
   "execution_count": 15,
   "id": "1babfd91",
   "metadata": {
    "execution": {
     "iopub.execute_input": "2024-02-24T07:46:07.275887Z",
     "iopub.status.busy": "2024-02-24T07:46:07.275517Z",
     "iopub.status.idle": "2024-02-24T07:46:07.281091Z",
     "shell.execute_reply": "2024-02-24T07:46:07.279721Z"
    },
    "papermill": {
     "duration": 0.017649,
     "end_time": "2024-02-24T07:46:07.283918",
     "exception": false,
     "start_time": "2024-02-24T07:46:07.266269",
     "status": "completed"
    },
    "tags": []
   },
   "outputs": [],
   "source": [
    "# Uncomment to see a hint\n",
    "#q5.hint()\n",
    "\n",
    "# Uncomment to see the solution\n",
    "#q5.solution()"
   ]
  },
  {
   "cell_type": "markdown",
   "id": "4bb85071",
   "metadata": {
    "papermill": {
     "duration": 0.007924,
     "end_time": "2024-02-24T07:46:07.300241",
     "exception": false,
     "start_time": "2024-02-24T07:46:07.292317",
     "status": "completed"
    },
    "tags": []
   },
   "source": [
    "# Congratulations!\n",
    "\n",
    "Congratulations for finishing the Intro to Programming course!  You should be proud of your very first steps with learning programming.  As next steps, we recommend taking:\n",
    "- the **[Python course](http://www.kaggle.com/learn/python)**, and \n",
    "- the **[Intro to Machine Learning course](https://www.kaggle.com/learn/intro-to-machine-learning)**."
   ]
  },
  {
   "cell_type": "markdown",
   "id": "df063363",
   "metadata": {
    "papermill": {
     "duration": 0.007915,
     "end_time": "2024-02-24T07:46:07.317692",
     "exception": false,
     "start_time": "2024-02-24T07:46:07.309777",
     "status": "completed"
    },
    "tags": []
   },
   "source": [
    "---\n",
    "\n",
    "\n",
    "\n",
    "\n",
    "*Have questions or comments? Visit the [course discussion forum](https://www.kaggle.com/learn/intro-to-programming/discussion) to chat with other learners.*"
   ]
  }
 ],
 "metadata": {
  "kaggle": {
   "accelerator": "none",
   "dataSources": [],
   "isGpuEnabled": false,
   "isInternetEnabled": false,
   "language": "python",
   "sourceType": "notebook"
  },
  "kernelspec": {
   "display_name": "Python 3",
   "language": "python",
   "name": "python3"
  },
  "language_info": {
   "codemirror_mode": {
    "name": "ipython",
    "version": 3
   },
   "file_extension": ".py",
   "mimetype": "text/x-python",
   "name": "python",
   "nbconvert_exporter": "python",
   "pygments_lexer": "ipython3",
   "version": "3.10.13"
  },
  "papermill": {
   "default_parameters": {},
   "duration": 4.738952,
   "end_time": "2024-02-24T07:46:07.847671",
   "environment_variables": {},
   "exception": null,
   "input_path": "__notebook__.ipynb",
   "output_path": "__notebook__.ipynb",
   "parameters": {},
   "start_time": "2024-02-24T07:46:03.108719",
   "version": "2.5.0"
  }
 },
 "nbformat": 4,
 "nbformat_minor": 5
}
