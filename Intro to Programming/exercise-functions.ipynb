{
 "cells": [
  {
   "cell_type": "markdown",
   "id": "e9b001eb",
   "metadata": {
    "papermill": {
     "duration": 0.009608,
     "end_time": "2024-02-23T20:07:45.292372",
     "exception": false,
     "start_time": "2024-02-23T20:07:45.282764",
     "status": "completed"
    },
    "tags": []
   },
   "source": [
    "**This notebook is an exercise in the [Intro to Programming](https://www.kaggle.com/learn/intro-to-programming) course.  You can reference the tutorial at [this link](https://www.kaggle.com/alexisbcook/functions).**\n",
    "\n",
    "---\n"
   ]
  },
  {
   "cell_type": "markdown",
   "id": "1aed8980",
   "metadata": {
    "papermill": {
     "duration": 0.00925,
     "end_time": "2024-02-23T20:07:45.310974",
     "exception": false,
     "start_time": "2024-02-23T20:07:45.301724",
     "status": "completed"
    },
    "tags": []
   },
   "source": [
    "In the tutorial, you learned about functions. In this exercise, you'll write some of your own!\n",
    "\n",
    "# Set up the notebook\n",
    "\n",
    "Run the next code cell without changes to set up the notebook."
   ]
  },
  {
   "cell_type": "code",
   "execution_count": 1,
   "id": "dc2cf811",
   "metadata": {
    "execution": {
     "iopub.execute_input": "2024-02-23T20:07:45.330917Z",
     "iopub.status.busy": "2024-02-23T20:07:45.330382Z",
     "iopub.status.idle": "2024-02-23T20:07:46.556730Z",
     "shell.execute_reply": "2024-02-23T20:07:46.554898Z"
    },
    "papermill": {
     "duration": 1.240529,
     "end_time": "2024-02-23T20:07:46.560214",
     "exception": false,
     "start_time": "2024-02-23T20:07:45.319685",
     "status": "completed"
    },
    "tags": []
   },
   "outputs": [
    {
     "name": "stdout",
     "output_type": "stream",
     "text": [
      "Setup complete.\n"
     ]
    }
   ],
   "source": [
    "# Set up the exercise\n",
    "import math\n",
    "from learntools.core import binder\n",
    "binder.bind(globals())\n",
    "from learntools.intro_to_programming.ex2 import *\n",
    "print('Setup complete.')"
   ]
  },
  {
   "cell_type": "markdown",
   "id": "c608424c",
   "metadata": {
    "papermill": {
     "duration": 0.00851,
     "end_time": "2024-02-23T20:07:46.577611",
     "exception": false,
     "start_time": "2024-02-23T20:07:46.569101",
     "status": "completed"
    },
    "tags": []
   },
   "source": [
    "# Question 1\n",
    "\n",
    "In the [House Prices - Advanced Regression Techniques competition](https://www.kaggle.com/c/house-prices-advanced-regression-techniques/overview), you need to use information like the number of bedrooms and bathrooms to predict the price of a house.  Inspired by this competition, you'll write your own function to do this.\n",
    "\n",
    "In the next code cell, create a function `get_expected_cost()` that has two arguments:\n",
    "- `beds` - number of bedrooms \n",
    "- `baths` - number of bathrooms\n",
    "\n",
    "It should return the expected cost of a house with that number of bedrooms and bathrooms.  Assume that:\n",
    "- the expected cost for a house with 0 bedrooms and 0 bathrooms is `80000`.  \n",
    "- each bedroom adds `30000` to the expected cost\n",
    "- each bathroom adds `10000` to the expected cost.\n",
    "\n",
    "For instance, \n",
    "- a house with 1 bedroom and 1 bathroom has an expected cost of `120000`, and \n",
    "- a house with 2 bedrooms and 1 bathroom has an expected cost of `150000`."
   ]
  },
  {
   "cell_type": "code",
   "execution_count": 2,
   "id": "c9556103",
   "metadata": {
    "execution": {
     "iopub.execute_input": "2024-02-23T20:07:46.598018Z",
     "iopub.status.busy": "2024-02-23T20:07:46.597342Z",
     "iopub.status.idle": "2024-02-23T20:07:46.611322Z",
     "shell.execute_reply": "2024-02-23T20:07:46.609992Z"
    },
    "papermill": {
     "duration": 0.027897,
     "end_time": "2024-02-23T20:07:46.614106",
     "exception": false,
     "start_time": "2024-02-23T20:07:46.586209",
     "status": "completed"
    },
    "tags": []
   },
   "outputs": [
    {
     "data": {
      "application/javascript": [
       "parent.postMessage({\"jupyterEvent\": \"custom.exercise_interaction\", \"data\": {\"outcomeType\": 1, \"valueTowardsCompletion\": 0.2, \"interactionType\": 1, \"questionType\": 2, \"questionId\": \"1_GetExpectedCost\", \"learnToolsVersion\": \"0.3.4\", \"failureMessage\": \"\", \"exceptionClass\": \"\", \"trace\": \"\"}}, \"*\")"
      ],
      "text/plain": [
       "<IPython.core.display.Javascript object>"
      ]
     },
     "metadata": {},
     "output_type": "display_data"
    },
    {
     "data": {
      "text/markdown": [
       "<span style=\"color:#33cc33\">Correct</span>"
      ],
      "text/plain": [
       "Correct"
      ]
     },
     "metadata": {},
     "output_type": "display_data"
    }
   ],
   "source": [
    "# TODO: Complete the function\n",
    "def get_expected_cost(beds, baths):\n",
    "    value = 30000*beds + baths*10000 + 80000\n",
    "    return value\n",
    "\n",
    "# Check your answer \n",
    "q1.check()"
   ]
  },
  {
   "cell_type": "code",
   "execution_count": 3,
   "id": "61e865e4",
   "metadata": {
    "execution": {
     "iopub.execute_input": "2024-02-23T20:07:46.636486Z",
     "iopub.status.busy": "2024-02-23T20:07:46.635073Z",
     "iopub.status.idle": "2024-02-23T20:07:46.641582Z",
     "shell.execute_reply": "2024-02-23T20:07:46.640207Z"
    },
    "papermill": {
     "duration": 0.020771,
     "end_time": "2024-02-23T20:07:46.644376",
     "exception": false,
     "start_time": "2024-02-23T20:07:46.623605",
     "status": "completed"
    },
    "tags": []
   },
   "outputs": [],
   "source": [
    "# Uncomment to see a hint\n",
    "#q1.hint()\n",
    "\n",
    "# Uncomment to view the solution\n",
    "#q1.solution()"
   ]
  },
  {
   "cell_type": "markdown",
   "id": "8668b61f",
   "metadata": {
    "papermill": {
     "duration": 0.008543,
     "end_time": "2024-02-23T20:07:46.662058",
     "exception": false,
     "start_time": "2024-02-23T20:07:46.653515",
     "status": "completed"
    },
    "tags": []
   },
   "source": [
    "# Question 2\n",
    "\n",
    "You are thinking about buying a home and want to get an idea of how much you will spend, based on the number of bedrooms and bathrooms.  You are trying to decide between four different options:\n",
    "- Option 1: house with two bedrooms and three bathrooms\n",
    "- Option 2: house with three bedrooms and two bathrooms\n",
    "- Option 3: house with three bedrooms and three bathrooms\n",
    "- Option 4: house with three bedrooms and four bathrooms\n",
    "\n",
    "Use the `get_expected_cost()` function you defined in question 1 to set `option_1`, `option_2`, `option_3`, and `option_4` to the expected cost of each option."
   ]
  },
  {
   "cell_type": "code",
   "execution_count": 4,
   "id": "f57cbd71",
   "metadata": {
    "execution": {
     "iopub.execute_input": "2024-02-23T20:07:46.682328Z",
     "iopub.status.busy": "2024-02-23T20:07:46.681805Z",
     "iopub.status.idle": "2024-02-23T20:07:46.694686Z",
     "shell.execute_reply": "2024-02-23T20:07:46.693483Z"
    },
    "papermill": {
     "duration": 0.026483,
     "end_time": "2024-02-23T20:07:46.697358",
     "exception": false,
     "start_time": "2024-02-23T20:07:46.670875",
     "status": "completed"
    },
    "tags": []
   },
   "outputs": [
    {
     "name": "stdout",
     "output_type": "stream",
     "text": [
      "170000\n",
      "190000\n",
      "200000\n",
      "210000\n"
     ]
    },
    {
     "data": {
      "application/javascript": [
       "parent.postMessage({\"jupyterEvent\": \"custom.exercise_interaction\", \"data\": {\"outcomeType\": 1, \"valueTowardsCompletion\": 0.2, \"interactionType\": 1, \"questionType\": 1, \"questionId\": \"2_RunGetExpectedCost\", \"learnToolsVersion\": \"0.3.4\", \"failureMessage\": \"\", \"exceptionClass\": \"\", \"trace\": \"\"}}, \"*\")"
      ],
      "text/plain": [
       "<IPython.core.display.Javascript object>"
      ]
     },
     "metadata": {},
     "output_type": "display_data"
    },
    {
     "data": {
      "text/markdown": [
       "<span style=\"color:#33cc33\">Correct</span>"
      ],
      "text/plain": [
       "Correct"
      ]
     },
     "metadata": {},
     "output_type": "display_data"
    }
   ],
   "source": [
    "# TODO: Use the get_expected_cost function to fill in each value\n",
    "option_one = get_expected_cost(2,3)\n",
    "option_two = get_expected_cost(3,2)\n",
    "option_three = get_expected_cost(3,3)\n",
    "option_four = get_expected_cost(3,4)\n",
    "\n",
    "print(option_one)\n",
    "print(option_two)\n",
    "print(option_three)\n",
    "print(option_four)\n",
    "\n",
    "# Check your answer\n",
    "q2.check()"
   ]
  },
  {
   "cell_type": "code",
   "execution_count": 5,
   "id": "364cb609",
   "metadata": {
    "execution": {
     "iopub.execute_input": "2024-02-23T20:07:46.719310Z",
     "iopub.status.busy": "2024-02-23T20:07:46.718326Z",
     "iopub.status.idle": "2024-02-23T20:07:46.724501Z",
     "shell.execute_reply": "2024-02-23T20:07:46.723016Z"
    },
    "papermill": {
     "duration": 0.020065,
     "end_time": "2024-02-23T20:07:46.727401",
     "exception": false,
     "start_time": "2024-02-23T20:07:46.707336",
     "status": "completed"
    },
    "tags": []
   },
   "outputs": [],
   "source": [
    "# Uncomment to see a hint\n",
    "#q2.hint()\n",
    "\n",
    "# Uncomment to view the solution\n",
    "#q2.solution()"
   ]
  },
  {
   "cell_type": "markdown",
   "id": "253451e1",
   "metadata": {
    "papermill": {
     "duration": 0.009048,
     "end_time": "2024-02-23T20:07:46.746021",
     "exception": false,
     "start_time": "2024-02-23T20:07:46.736973",
     "status": "completed"
    },
    "tags": []
   },
   "source": [
    "# Question 3\n",
    "\n",
    "You're a home decorator, and you'd like to use Python to streamline some of your work.  Specifically, you're creating a tool that you intend to use to calculate the cost of painting a room.\n",
    "\n",
    "As a first step, define a function `get_cost()` that takes as input:\n",
    "- `sqft_walls` = total square feet of walls to be painted\n",
    "- `sqft_ceiling` = square feet of ceiling to be painted\n",
    "- `sqft_per_gallon` = number of square feet that you can cover with one gallon of paint\n",
    "- `cost_per_gallon` = cost (in dollars) of one gallon of paint\n",
    "\n",
    "It should return the cost (in dollars) of putting one coat of paint on all walls and the ceiling.  Assume you can buy the exact amount of paint that you need, so you can buy partial gallons (e.g., if you need 7.523 gallons, you can buy that exact amount, instead of needing to buy 8 gallons and waste some paint).  Do not round your answer."
   ]
  },
  {
   "cell_type": "code",
   "execution_count": 6,
   "id": "60b13000",
   "metadata": {
    "execution": {
     "iopub.execute_input": "2024-02-23T20:07:46.769203Z",
     "iopub.status.busy": "2024-02-23T20:07:46.768530Z",
     "iopub.status.idle": "2024-02-23T20:07:46.779834Z",
     "shell.execute_reply": "2024-02-23T20:07:46.778526Z"
    },
    "papermill": {
     "duration": 0.026285,
     "end_time": "2024-02-23T20:07:46.782296",
     "exception": false,
     "start_time": "2024-02-23T20:07:46.756011",
     "status": "completed"
    },
    "tags": []
   },
   "outputs": [
    {
     "data": {
      "application/javascript": [
       "parent.postMessage({\"jupyterEvent\": \"custom.exercise_interaction\", \"data\": {\"outcomeType\": 1, \"valueTowardsCompletion\": 0.2, \"interactionType\": 1, \"questionType\": 2, \"questionId\": \"3_GetCostPaint\", \"learnToolsVersion\": \"0.3.4\", \"failureMessage\": \"\", \"exceptionClass\": \"\", \"trace\": \"\"}}, \"*\")"
      ],
      "text/plain": [
       "<IPython.core.display.Javascript object>"
      ]
     },
     "metadata": {},
     "output_type": "display_data"
    },
    {
     "data": {
      "text/markdown": [
       "<span style=\"color:#33cc33\">Correct</span>"
      ],
      "text/plain": [
       "Correct"
      ]
     },
     "metadata": {},
     "output_type": "display_data"
    }
   ],
   "source": [
    "# TODO: Finish defining the function\n",
    "def get_cost(sqft_walls, sqft_ceiling, sqft_per_gallon, cost_per_gallon):\n",
    "    cost = (sqft_walls+sqft_ceiling)/sqft_per_gallon * cost_per_gallon\n",
    "    return cost\n",
    "\n",
    "# Check your answer\n",
    "q3.check()"
   ]
  },
  {
   "cell_type": "code",
   "execution_count": 7,
   "id": "bc5df03b",
   "metadata": {
    "execution": {
     "iopub.execute_input": "2024-02-23T20:07:46.806998Z",
     "iopub.status.busy": "2024-02-23T20:07:46.806103Z",
     "iopub.status.idle": "2024-02-23T20:07:46.810666Z",
     "shell.execute_reply": "2024-02-23T20:07:46.809669Z"
    },
    "papermill": {
     "duration": 0.019466,
     "end_time": "2024-02-23T20:07:46.813249",
     "exception": false,
     "start_time": "2024-02-23T20:07:46.793783",
     "status": "completed"
    },
    "tags": []
   },
   "outputs": [],
   "source": [
    "# Uncomment to see a hint\n",
    "#q3.hint()\n",
    "\n",
    "# Uncomment to view the solution\n",
    "#q3.solution()"
   ]
  },
  {
   "cell_type": "markdown",
   "id": "17d1d9fb",
   "metadata": {
    "papermill": {
     "duration": 0.009611,
     "end_time": "2024-02-23T20:07:46.833132",
     "exception": false,
     "start_time": "2024-02-23T20:07:46.823521",
     "status": "completed"
    },
    "tags": []
   },
   "source": [
    "# Question 4\n",
    "\n",
    "Use the `get_cost()` function you defined in Question 3 to calculate the cost of applying one coat of paint to a room with:\n",
    "- 432 square feet of walls, and\n",
    "- 144 square feet of ceiling.\n",
    "\n",
    "Assume that one gallon of paint covers 400 square feet and costs $15.  As in Question 3, assume you can buy partial gallons of paint.  Do not round your answer."
   ]
  },
  {
   "cell_type": "code",
   "execution_count": 8,
   "id": "f9541a52",
   "metadata": {
    "execution": {
     "iopub.execute_input": "2024-02-23T20:07:46.855522Z",
     "iopub.status.busy": "2024-02-23T20:07:46.855002Z",
     "iopub.status.idle": "2024-02-23T20:07:46.866860Z",
     "shell.execute_reply": "2024-02-23T20:07:46.865652Z"
    },
    "papermill": {
     "duration": 0.02639,
     "end_time": "2024-02-23T20:07:46.869644",
     "exception": false,
     "start_time": "2024-02-23T20:07:46.843254",
     "status": "completed"
    },
    "tags": []
   },
   "outputs": [
    {
     "data": {
      "application/javascript": [
       "parent.postMessage({\"jupyterEvent\": \"custom.exercise_interaction\", \"data\": {\"outcomeType\": 1, \"valueTowardsCompletion\": 0.2, \"interactionType\": 1, \"questionType\": 1, \"questionId\": \"4_GetCostPaintExample\", \"learnToolsVersion\": \"0.3.4\", \"failureMessage\": \"\", \"exceptionClass\": \"\", \"trace\": \"\"}}, \"*\")"
      ],
      "text/plain": [
       "<IPython.core.display.Javascript object>"
      ]
     },
     "metadata": {},
     "output_type": "display_data"
    },
    {
     "data": {
      "text/markdown": [
       "<span style=\"color:#33cc33\">Correct</span>"
      ],
      "text/plain": [
       "Correct"
      ]
     },
     "metadata": {},
     "output_type": "display_data"
    }
   ],
   "source": [
    "# TODO: Set the project_cost variable to the cost of the project\n",
    "project_cost = get_cost(432,144,400,15)\n",
    "\n",
    "# Check your answer\n",
    "q4.check()"
   ]
  },
  {
   "cell_type": "code",
   "execution_count": 9,
   "id": "7d6cc24b",
   "metadata": {
    "execution": {
     "iopub.execute_input": "2024-02-23T20:07:46.892395Z",
     "iopub.status.busy": "2024-02-23T20:07:46.891903Z",
     "iopub.status.idle": "2024-02-23T20:07:46.897394Z",
     "shell.execute_reply": "2024-02-23T20:07:46.896071Z"
    },
    "papermill": {
     "duration": 0.020368,
     "end_time": "2024-02-23T20:07:46.900196",
     "exception": false,
     "start_time": "2024-02-23T20:07:46.879828",
     "status": "completed"
    },
    "tags": []
   },
   "outputs": [],
   "source": [
    "# Uncomment to see a hint\n",
    "#q4.hint()\n",
    "\n",
    "# Uncomment to view the solution\n",
    "#q4.solution()"
   ]
  },
  {
   "cell_type": "markdown",
   "id": "65445fc3",
   "metadata": {
    "papermill": {
     "duration": 0.009869,
     "end_time": "2024-02-23T20:07:46.920309",
     "exception": false,
     "start_time": "2024-02-23T20:07:46.910440",
     "status": "completed"
    },
    "tags": []
   },
   "source": [
    "# 🌶️ Question 5\n",
    "\n",
    "Now say you can no longer buy fractions of a gallon.  (For instance, if you need 4.3 gallons to do a project, then you have to buy 5 gallons of paint.)\n",
    "\n",
    "With this new scenario, you will create a new function `get_actual_cost` that uses the same inputs and calculates the cost of your project.\n",
    "\n",
    "One function that you'll need to use to do this is `math.ceil()`.  We demonstrate usage of this function in the code cell below.  It takes as a number as input and rounds the number up to the nearest integer.  \n",
    "\n",
    "Run the next code cell to test this function for yourself.  Feel free to change the value of `test_value` and make sure `math.ceil()` returns the number you expect."
   ]
  },
  {
   "cell_type": "code",
   "execution_count": 10,
   "id": "d67d442e",
   "metadata": {
    "execution": {
     "iopub.execute_input": "2024-02-23T20:07:46.943360Z",
     "iopub.status.busy": "2024-02-23T20:07:46.942187Z",
     "iopub.status.idle": "2024-02-23T20:07:46.948178Z",
     "shell.execute_reply": "2024-02-23T20:07:46.947226Z"
    },
    "papermill": {
     "duration": 0.020121,
     "end_time": "2024-02-23T20:07:46.950623",
     "exception": false,
     "start_time": "2024-02-23T20:07:46.930502",
     "status": "completed"
    },
    "tags": []
   },
   "outputs": [
    {
     "name": "stdout",
     "output_type": "stream",
     "text": [
      "3\n"
     ]
    }
   ],
   "source": [
    "test_value = 2.17\n",
    "\n",
    "rounded_value = math.ceil(test_value)\n",
    "print(rounded_value)"
   ]
  },
  {
   "cell_type": "markdown",
   "id": "e9008b8e",
   "metadata": {
    "papermill": {
     "duration": 0.00992,
     "end_time": "2024-02-23T20:07:46.970885",
     "exception": false,
     "start_time": "2024-02-23T20:07:46.960965",
     "status": "completed"
    },
    "tags": []
   },
   "source": [
    "Use the next code cell to define the function `get_actual_cost()`.  You'll need to use the `math.ceil()` function to do this.\n",
    "\n",
    "When answering this question, note that it's completely valid to define a function that makes use of another function.  For instance, we can define a function `round_up_and_divide_by_three` that makes use of the `math.ceil` function:\n",
    "```\n",
    "def round_up_and_divide_by_three(num):\n",
    "    new_value = math.ceil(num)\n",
    "    final_value = new_value / 3\n",
    "    return final_value\n",
    "```"
   ]
  },
  {
   "cell_type": "code",
   "execution_count": 11,
   "id": "35205602",
   "metadata": {
    "execution": {
     "iopub.execute_input": "2024-02-23T20:07:46.993978Z",
     "iopub.status.busy": "2024-02-23T20:07:46.993507Z",
     "iopub.status.idle": "2024-02-23T20:07:47.004704Z",
     "shell.execute_reply": "2024-02-23T20:07:47.003502Z"
    },
    "papermill": {
     "duration": 0.026023,
     "end_time": "2024-02-23T20:07:47.007360",
     "exception": false,
     "start_time": "2024-02-23T20:07:46.981337",
     "status": "completed"
    },
    "tags": []
   },
   "outputs": [
    {
     "data": {
      "application/javascript": [
       "parent.postMessage({\"jupyterEvent\": \"custom.exercise_interaction\", \"data\": {\"outcomeType\": 2, \"failureMessage\": \"Expected return value of `30` given `sqft_walls=432`, `sqft_ceiling=144`, `sqft_per_gallon=400`, `cost_per_gallon=15`, but got `1.44` instead.\", \"interactionType\": 1, \"questionType\": 2, \"questionId\": \"5_NoMoreFractions\", \"learnToolsVersion\": \"0.3.4\", \"valueTowardsCompletion\": 0.0, \"exceptionClass\": \"\", \"trace\": \"\"}}, \"*\")"
      ],
      "text/plain": [
       "<IPython.core.display.Javascript object>"
      ]
     },
     "metadata": {},
     "output_type": "display_data"
    },
    {
     "data": {
      "text/markdown": [
       "<span style=\"color:#cc3333\">Incorrect:</span> Expected return value of `30` given `sqft_walls=432`, `sqft_ceiling=144`, `sqft_per_gallon=400`, `cost_per_gallon=15`, but got `1.44` instead."
      ],
      "text/plain": [
       "Incorrect: Expected return value of `30` given `sqft_walls=432`, `sqft_ceiling=144`, `sqft_per_gallon=400`, `cost_per_gallon=15`, but got `1.44` instead."
      ]
     },
     "metadata": {},
     "output_type": "display_data"
    }
   ],
   "source": [
    "def get_actual_cost(sqft_walls, sqft_ceiling, sqft_per_gallon, cost_per_gallon):\n",
    "    cost = (sqft_walls+sqft_ceiling)/sqft_per_gallon\n",
    "    return cost\n",
    "\n",
    "# Check your answer\n",
    "q5.check()"
   ]
  },
  {
   "cell_type": "code",
   "execution_count": 12,
   "id": "a494e849",
   "metadata": {
    "execution": {
     "iopub.execute_input": "2024-02-23T20:07:47.031362Z",
     "iopub.status.busy": "2024-02-23T20:07:47.030874Z",
     "iopub.status.idle": "2024-02-23T20:07:47.036905Z",
     "shell.execute_reply": "2024-02-23T20:07:47.035389Z"
    },
    "papermill": {
     "duration": 0.020961,
     "end_time": "2024-02-23T20:07:47.039529",
     "exception": false,
     "start_time": "2024-02-23T20:07:47.018568",
     "status": "completed"
    },
    "tags": []
   },
   "outputs": [],
   "source": [
    "# Uncomment to see a hint\n",
    "#q5.hint()\n",
    "\n",
    "# Uncomment to view the solution\n",
    "#q5.solution()"
   ]
  },
  {
   "cell_type": "markdown",
   "id": "753e87e9",
   "metadata": {
    "papermill": {
     "duration": 0.010263,
     "end_time": "2024-02-23T20:07:47.061229",
     "exception": false,
     "start_time": "2024-02-23T20:07:47.050966",
     "status": "completed"
    },
    "tags": []
   },
   "source": [
    "Once your function is verified as correct, run the next code cell to calculate the updated cost of your project."
   ]
  },
  {
   "cell_type": "code",
   "execution_count": 13,
   "id": "f3306c74",
   "metadata": {
    "execution": {
     "iopub.execute_input": "2024-02-23T20:07:47.085238Z",
     "iopub.status.busy": "2024-02-23T20:07:47.084734Z",
     "iopub.status.idle": "2024-02-23T20:07:47.093104Z",
     "shell.execute_reply": "2024-02-23T20:07:47.091995Z"
    },
    "papermill": {
     "duration": 0.023677,
     "end_time": "2024-02-23T20:07:47.095608",
     "exception": false,
     "start_time": "2024-02-23T20:07:47.071931",
     "status": "completed"
    },
    "tags": []
   },
   "outputs": [
    {
     "data": {
      "text/plain": [
       "1.44"
      ]
     },
     "execution_count": 13,
     "metadata": {},
     "output_type": "execute_result"
    }
   ],
   "source": [
    "get_actual_cost(432, 144, 400, 15) "
   ]
  },
  {
   "cell_type": "markdown",
   "id": "67c54bc1",
   "metadata": {
    "papermill": {
     "duration": 0.010509,
     "end_time": "2024-02-23T20:07:47.117564",
     "exception": false,
     "start_time": "2024-02-23T20:07:47.107055",
     "status": "completed"
    },
    "tags": []
   },
   "source": [
    "Say you're working with a slightly larger room.  Run the next code cell to calculate the cost of the project."
   ]
  },
  {
   "cell_type": "code",
   "execution_count": 14,
   "id": "28ee5515",
   "metadata": {
    "execution": {
     "iopub.execute_input": "2024-02-23T20:07:47.141740Z",
     "iopub.status.busy": "2024-02-23T20:07:47.141230Z",
     "iopub.status.idle": "2024-02-23T20:07:47.150508Z",
     "shell.execute_reply": "2024-02-23T20:07:47.149008Z"
    },
    "papermill": {
     "duration": 0.024792,
     "end_time": "2024-02-23T20:07:47.153213",
     "exception": false,
     "start_time": "2024-02-23T20:07:47.128421",
     "status": "completed"
    },
    "tags": []
   },
   "outputs": [
    {
     "data": {
      "text/plain": [
       "2.205"
      ]
     },
     "execution_count": 14,
     "metadata": {},
     "output_type": "execute_result"
    }
   ],
   "source": [
    "get_actual_cost(594, 288, 400, 15) "
   ]
  },
  {
   "cell_type": "markdown",
   "id": "78c1aa46",
   "metadata": {
    "papermill": {
     "duration": 0.010646,
     "end_time": "2024-02-23T20:07:47.174945",
     "exception": false,
     "start_time": "2024-02-23T20:07:47.164299",
     "status": "completed"
    },
    "tags": []
   },
   "source": [
    "# Keep going\n",
    "\n",
    "Continue to learn about **[data types](https://www.kaggle.com/alexisbcook/data-types)**."
   ]
  },
  {
   "cell_type": "markdown",
   "id": "9e45a811",
   "metadata": {
    "papermill": {
     "duration": 0.010726,
     "end_time": "2024-02-23T20:07:47.196710",
     "exception": false,
     "start_time": "2024-02-23T20:07:47.185984",
     "status": "completed"
    },
    "tags": []
   },
   "source": [
    "---\n",
    "\n",
    "\n",
    "\n",
    "\n",
    "*Have questions or comments? Visit the [course discussion forum](https://www.kaggle.com/learn/intro-to-programming/discussion) to chat with other learners.*"
   ]
  }
 ],
 "metadata": {
  "kaggle": {
   "accelerator": "none",
   "dataSources": [],
   "isGpuEnabled": false,
   "isInternetEnabled": false,
   "language": "python",
   "sourceType": "notebook"
  },
  "kernelspec": {
   "display_name": "Python 3",
   "language": "python",
   "name": "python3"
  },
  "language_info": {
   "codemirror_mode": {
    "name": "ipython",
    "version": 3
   },
   "file_extension": ".py",
   "mimetype": "text/x-python",
   "name": "python",
   "nbconvert_exporter": "python",
   "pygments_lexer": "ipython3",
   "version": "3.10.13"
  },
  "papermill": {
   "default_parameters": {},
   "duration": 6.278048,
   "end_time": "2024-02-23T20:07:47.936086",
   "environment_variables": {},
   "exception": null,
   "input_path": "__notebook__.ipynb",
   "output_path": "__notebook__.ipynb",
   "parameters": {},
   "start_time": "2024-02-23T20:07:41.658038",
   "version": "2.5.0"
  }
 },
 "nbformat": 4,
 "nbformat_minor": 5
}
