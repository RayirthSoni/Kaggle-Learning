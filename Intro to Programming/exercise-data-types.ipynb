{
 "cells": [
  {
   "cell_type": "markdown",
   "id": "7838744a",
   "metadata": {
    "papermill": {
     "duration": 0.007261,
     "end_time": "2024-02-23T20:14:01.243910",
     "exception": false,
     "start_time": "2024-02-23T20:14:01.236649",
     "status": "completed"
    },
    "tags": []
   },
   "source": [
    "**This notebook is an exercise in the [Intro to Programming](https://www.kaggle.com/learn/intro-to-programming) course.  You can reference the tutorial at [this link](https://www.kaggle.com/alexisbcook/data-types).**\n",
    "\n",
    "---\n"
   ]
  },
  {
   "cell_type": "markdown",
   "id": "5963972e",
   "metadata": {
    "papermill": {
     "duration": 0.005933,
     "end_time": "2024-02-23T20:14:01.257749",
     "exception": false,
     "start_time": "2024-02-23T20:14:01.251816",
     "status": "completed"
    },
    "tags": []
   },
   "source": [
    "In the tutorial, you learned about four different data types: floats, integers, strings, and booleans.  In this exercise, you'll experiment with them.\n",
    "\n",
    "# Set up the notebook\n",
    "\n",
    "Run the next code cell without changes to set up the notebook."
   ]
  },
  {
   "cell_type": "code",
   "execution_count": 1,
   "id": "ecb425ec",
   "metadata": {
    "execution": {
     "iopub.execute_input": "2024-02-23T20:14:01.271462Z",
     "iopub.status.busy": "2024-02-23T20:14:01.270967Z",
     "iopub.status.idle": "2024-02-23T20:14:02.308773Z",
     "shell.execute_reply": "2024-02-23T20:14:02.307476Z"
    },
    "papermill": {
     "duration": 1.047694,
     "end_time": "2024-02-23T20:14:02.311447",
     "exception": false,
     "start_time": "2024-02-23T20:14:01.263753",
     "status": "completed"
    },
    "tags": []
   },
   "outputs": [
    {
     "name": "stdout",
     "output_type": "stream",
     "text": [
      "Setup complete.\n"
     ]
    }
   ],
   "source": [
    "# Set up the exercise\n",
    "from learntools.core import binder\n",
    "binder.bind(globals())\n",
    "from learntools.intro_to_programming.ex3 import *\n",
    "print('Setup complete.')"
   ]
  },
  {
   "cell_type": "markdown",
   "id": "e2c2ee0f",
   "metadata": {
    "papermill": {
     "duration": 0.005869,
     "end_time": "2024-02-23T20:14:02.323980",
     "exception": false,
     "start_time": "2024-02-23T20:14:02.318111",
     "status": "completed"
    },
    "tags": []
   },
   "source": [
    "# Question 1\n",
    "\n",
    "You have seen how to convert a float to an integer with the `int` function.  Try this out yourself by running the code cell below."
   ]
  },
  {
   "cell_type": "code",
   "execution_count": 2,
   "id": "f47a98bb",
   "metadata": {
    "execution": {
     "iopub.execute_input": "2024-02-23T20:14:02.338462Z",
     "iopub.status.busy": "2024-02-23T20:14:02.337949Z",
     "iopub.status.idle": "2024-02-23T20:14:02.343272Z",
     "shell.execute_reply": "2024-02-23T20:14:02.342407Z"
    },
    "papermill": {
     "duration": 0.015799,
     "end_time": "2024-02-23T20:14:02.345928",
     "exception": false,
     "start_time": "2024-02-23T20:14:02.330129",
     "status": "completed"
    },
    "tags": []
   },
   "outputs": [
    {
     "name": "stdout",
     "output_type": "stream",
     "text": [
      "1.0\n",
      "<class 'float'>\n",
      "1\n",
      "<class 'int'>\n"
     ]
    }
   ],
   "source": [
    "# Define a float\n",
    "y = 1.\n",
    "print(y)\n",
    "print(type(y))\n",
    "\n",
    "# Convert float to integer with the int function\n",
    "z = int(y)\n",
    "print(z)\n",
    "print(type(z))"
   ]
  },
  {
   "cell_type": "markdown",
   "id": "4a51eab0",
   "metadata": {
    "papermill": {
     "duration": 0.005916,
     "end_time": "2024-02-23T20:14:02.358137",
     "exception": false,
     "start_time": "2024-02-23T20:14:02.352221",
     "status": "completed"
    },
    "tags": []
   },
   "source": [
    "In this case, the float you are using has no numbers after the decimal.  \n",
    "- But what happens when you try to convert a float with a fractional part to an integer?  \n",
    "- How does the outcome of the `int` function change for positive and negative numbers?\n",
    "\n",
    "Use the next code cell to investigate and answer these questions.  Feel free to add or remove any lines of code -- it is your workspace!"
   ]
  },
  {
   "cell_type": "code",
   "execution_count": 3,
   "id": "c5b5faa3",
   "metadata": {
    "execution": {
     "iopub.execute_input": "2024-02-23T20:14:02.372262Z",
     "iopub.status.busy": "2024-02-23T20:14:02.371833Z",
     "iopub.status.idle": "2024-02-23T20:14:02.377771Z",
     "shell.execute_reply": "2024-02-23T20:14:02.376690Z"
    },
    "papermill": {
     "duration": 0.015495,
     "end_time": "2024-02-23T20:14:02.379939",
     "exception": false,
     "start_time": "2024-02-23T20:14:02.364444",
     "status": "completed"
    },
    "tags": []
   },
   "outputs": [
    {
     "name": "stdout",
     "output_type": "stream",
     "text": [
      "1\n",
      "1\n",
      "-3\n",
      "-2\n"
     ]
    }
   ],
   "source": [
    "# Uncomment and run this code to get started!\n",
    "print(int(1.2321))\n",
    "print(int(1.747))\n",
    "print(int(-3.94535))\n",
    "print(int(-2.19774))"
   ]
  },
  {
   "cell_type": "markdown",
   "id": "b1355694",
   "metadata": {
    "papermill": {
     "duration": 0.006152,
     "end_time": "2024-02-23T20:14:02.392560",
     "exception": false,
     "start_time": "2024-02-23T20:14:02.386408",
     "status": "completed"
    },
    "tags": []
   },
   "source": [
    "Once you have an answer, run the code cell below to see the solution.  Viewing the solution will give you credit for answering the problem."
   ]
  },
  {
   "cell_type": "code",
   "execution_count": 4,
   "id": "fae23874",
   "metadata": {
    "execution": {
     "iopub.execute_input": "2024-02-23T20:14:02.407065Z",
     "iopub.status.busy": "2024-02-23T20:14:02.406672Z",
     "iopub.status.idle": "2024-02-23T20:14:02.415569Z",
     "shell.execute_reply": "2024-02-23T20:14:02.414542Z"
    },
    "papermill": {
     "duration": 0.01865,
     "end_time": "2024-02-23T20:14:02.417590",
     "exception": false,
     "start_time": "2024-02-23T20:14:02.398940",
     "status": "completed"
    },
    "tags": []
   },
   "outputs": [
    {
     "data": {
      "application/javascript": [
       "parent.postMessage({\"jupyterEvent\": \"custom.exercise_interaction\", \"data\": {\"outcomeType\": 1, \"valueTowardsCompletion\": 0.2, \"interactionType\": 1, \"questionType\": 4, \"questionId\": \"1_FloatToInt\", \"learnToolsVersion\": \"0.3.4\", \"failureMessage\": \"\", \"exceptionClass\": \"\", \"trace\": \"\"}}, \"*\")"
      ],
      "text/plain": [
       "<IPython.core.display.Javascript object>"
      ]
     },
     "metadata": {},
     "output_type": "display_data"
    },
    {
     "data": {
      "text/markdown": [
       "<span style=\"color:#33cc33\">Correct:</span> \n",
       "\n",
       "Negative floats are always rounded UP to the closest integer (for instance, both -1.1 and -1.9 are rounded up to -1). Positive floats are always rounded DOWN to the closest integer (for instance, 2.1 and 2.9 are rounded down to 2)."
      ],
      "text/plain": [
       "Correct: \n",
       "\n",
       "Negative floats are always rounded UP to the closest integer (for instance, both -1.1 and -1.9 are rounded up to -1). Positive floats are always rounded DOWN to the closest integer (for instance, 2.1 and 2.9 are rounded down to 2)."
      ]
     },
     "metadata": {},
     "output_type": "display_data"
    }
   ],
   "source": [
    "# Check your answer (Run this code cell to receive credit!)\n",
    "q1.check()"
   ]
  },
  {
   "cell_type": "markdown",
   "id": "1e3f6716",
   "metadata": {
    "papermill": {
     "duration": 0.006277,
     "end_time": "2024-02-23T20:14:02.430666",
     "exception": false,
     "start_time": "2024-02-23T20:14:02.424389",
     "status": "completed"
    },
    "tags": []
   },
   "source": [
    "# Question 2\n",
    "\n",
    "In the tutorial, you learned about booleans (which can take a value of `True` or `False`), in addition to integers, floats, and strings.  For this question, your goal is to determine what happens when you multiply a boolean by any of these data types.  Specifically, \n",
    "- What happens when you multiply an integer or float by `True`?  What happens when you multiply them by `False`?  How does the answer change if the numbers are positive or negative?\n",
    "- What happens when you multiply a string by `True`?  By `False`?\n",
    "\n",
    "Use the next code cell for your investigation. "
   ]
  },
  {
   "cell_type": "code",
   "execution_count": 5,
   "id": "e3f4a3cf",
   "metadata": {
    "execution": {
     "iopub.execute_input": "2024-02-23T20:14:02.445841Z",
     "iopub.status.busy": "2024-02-23T20:14:02.445495Z",
     "iopub.status.idle": "2024-02-23T20:14:02.451015Z",
     "shell.execute_reply": "2024-02-23T20:14:02.449733Z"
    },
    "papermill": {
     "duration": 0.015959,
     "end_time": "2024-02-23T20:14:02.453284",
     "exception": false,
     "start_time": "2024-02-23T20:14:02.437325",
     "status": "completed"
    },
    "tags": []
   },
   "outputs": [
    {
     "name": "stdout",
     "output_type": "stream",
     "text": [
      "3\n",
      "-3.1\n",
      "<class 'str'>\n",
      "0\n"
     ]
    }
   ],
   "source": [
    "# Uncomment and run this code to get started!\n",
    "print(3 * True)\n",
    "print(-3.1 * True)\n",
    "print(type(\"abc\" * False))\n",
    "print(len(\"abc\" * False))"
   ]
  },
  {
   "cell_type": "markdown",
   "id": "96927d1f",
   "metadata": {
    "papermill": {
     "duration": 0.006445,
     "end_time": "2024-02-23T20:14:02.467315",
     "exception": false,
     "start_time": "2024-02-23T20:14:02.460870",
     "status": "completed"
    },
    "tags": []
   },
   "source": [
    "Once you have an answer, run the code cell below to see the solution.  Viewing the solution will give you credit for answering the problem."
   ]
  },
  {
   "cell_type": "code",
   "execution_count": 6,
   "id": "51bb4813",
   "metadata": {
    "execution": {
     "iopub.execute_input": "2024-02-23T20:14:02.482107Z",
     "iopub.status.busy": "2024-02-23T20:14:02.481702Z",
     "iopub.status.idle": "2024-02-23T20:14:02.489995Z",
     "shell.execute_reply": "2024-02-23T20:14:02.489170Z"
    },
    "papermill": {
     "duration": 0.018441,
     "end_time": "2024-02-23T20:14:02.492364",
     "exception": false,
     "start_time": "2024-02-23T20:14:02.473923",
     "status": "completed"
    },
    "tags": []
   },
   "outputs": [
    {
     "data": {
      "application/javascript": [
       "parent.postMessage({\"jupyterEvent\": \"custom.exercise_interaction\", \"data\": {\"outcomeType\": 1, \"valueTowardsCompletion\": 0.2, \"interactionType\": 1, \"questionType\": 4, \"questionId\": \"2_MultiplyBooleans\", \"learnToolsVersion\": \"0.3.4\", \"failureMessage\": \"\", \"exceptionClass\": \"\", \"trace\": \"\"}}, \"*\")"
      ],
      "text/plain": [
       "<IPython.core.display.Javascript object>"
      ]
     },
     "metadata": {},
     "output_type": "display_data"
    },
    {
     "data": {
      "text/markdown": [
       "<span style=\"color:#33cc33\">Correct:</span> \n",
       "\n",
       "When you multiple an integer or float by a boolean with value `True`, it just returns that same integer or float (and is equivalent to multiplying by 1).  If you multiply an integer or float by a boolean with value `False`, it always returns 0.  This is true for both positive and negative numbers.  If you multiply a string by a boolean with value `True`, it just returns that same string.  And if you multiply a string by a boolean with value `False`, it returns an empty string (or a string with length zero)."
      ],
      "text/plain": [
       "Correct: \n",
       "\n",
       "When you multiple an integer or float by a boolean with value `True`, it just returns that same integer or float (and is equivalent to multiplying by 1).  If you multiply an integer or float by a boolean with value `False`, it always returns 0.  This is true for both positive and negative numbers.  If you multiply a string by a boolean with value `True`, it just returns that same string.  And if you multiply a string by a boolean with value `False`, it returns an empty string (or a string with length zero)."
      ]
     },
     "metadata": {},
     "output_type": "display_data"
    }
   ],
   "source": [
    "# Check your answer (Run this code cell to receive credit!)\n",
    "q2.check()"
   ]
  },
  {
   "cell_type": "markdown",
   "id": "7dc0f5f2",
   "metadata": {
    "papermill": {
     "duration": 0.006588,
     "end_time": "2024-02-23T20:14:02.506074",
     "exception": false,
     "start_time": "2024-02-23T20:14:02.499486",
     "status": "completed"
    },
    "tags": []
   },
   "source": [
    "# Question 3\n",
    "\n",
    "In this question, you will build off your work from the previous exercise to write a function that estimates the value of a house.\n",
    "\n",
    "Use the next code cell to create a function `get_expected_cost` that takes as input three variables:\n",
    "- `beds` - number of bedrooms (data type float)\n",
    "- `baths` - number of bathrooms (data type float)\n",
    "- `has_basement` - whether or not the house has a basement (data type boolean)\n",
    "\n",
    "It should return the expected cost of a house with those characteristics. Assume that:\n",
    "- the expected cost for a house with 0 bedrooms and 0 bathrooms, and no basement is 80000, \n",
    "- each bedroom adds 30000 to the expected cost,\n",
    "- each bathroom adds 10000 to the expected cost, and\n",
    "- a basement adds 40000 to the expected cost.\n",
    "\n",
    "For instance,\n",
    "- a house with 1 bedroom, 1 bathroom, and no basement has an expected cost of 80000 + 30000 + 10000 = 120000.  This value will be calculated with `get_expected_cost(1, 1, False)`.\n",
    "- a house with 2 bedrooms, 1 bathroom, and a basement has an expected cost of 80000 + 2*30000 + 10000 + 40000 = 190000.  This value will be calculated with `get_expected_cost(2, 1, True)`.\n",
    "\n",
    "Remember you can always get a hint by uncommenting `q3.hint()` in the code cell following the next!"
   ]
  },
  {
   "cell_type": "code",
   "execution_count": 7,
   "id": "00e69222",
   "metadata": {
    "execution": {
     "iopub.execute_input": "2024-02-23T20:14:02.521830Z",
     "iopub.status.busy": "2024-02-23T20:14:02.521439Z",
     "iopub.status.idle": "2024-02-23T20:14:02.530074Z",
     "shell.execute_reply": "2024-02-23T20:14:02.529285Z"
    },
    "papermill": {
     "duration": 0.018854,
     "end_time": "2024-02-23T20:14:02.532024",
     "exception": false,
     "start_time": "2024-02-23T20:14:02.513170",
     "status": "completed"
    },
    "tags": []
   },
   "outputs": [
    {
     "data": {
      "application/javascript": [
       "parent.postMessage({\"jupyterEvent\": \"custom.exercise_interaction\", \"data\": {\"outcomeType\": 1, \"valueTowardsCompletion\": 0.2, \"interactionType\": 1, \"questionType\": 2, \"questionId\": \"3_EstimateHouseValueBool\", \"learnToolsVersion\": \"0.3.4\", \"failureMessage\": \"\", \"exceptionClass\": \"\", \"trace\": \"\"}}, \"*\")"
      ],
      "text/plain": [
       "<IPython.core.display.Javascript object>"
      ]
     },
     "metadata": {},
     "output_type": "display_data"
    },
    {
     "data": {
      "text/markdown": [
       "<span style=\"color:#33cc33\">Correct</span>"
      ],
      "text/plain": [
       "Correct"
      ]
     },
     "metadata": {},
     "output_type": "display_data"
    }
   ],
   "source": [
    "# TODO: Complete the function\n",
    "def get_expected_cost(beds, baths, has_basement):\n",
    "    value = 30000*beds+10000*baths+has_basement*40000 + 80000\n",
    "    return value\n",
    "\n",
    "# Check your answer \n",
    "q3.check()"
   ]
  },
  {
   "cell_type": "code",
   "execution_count": 8,
   "id": "701f8512",
   "metadata": {
    "execution": {
     "iopub.execute_input": "2024-02-23T20:14:02.550588Z",
     "iopub.status.busy": "2024-02-23T20:14:02.550174Z",
     "iopub.status.idle": "2024-02-23T20:14:02.553929Z",
     "shell.execute_reply": "2024-02-23T20:14:02.552859Z"
    },
    "papermill": {
     "duration": 0.016958,
     "end_time": "2024-02-23T20:14:02.556302",
     "exception": false,
     "start_time": "2024-02-23T20:14:02.539344",
     "status": "completed"
    },
    "tags": []
   },
   "outputs": [],
   "source": [
    "# Uncomment to see a hint\n",
    "#q3.hint()\n",
    "\n",
    "# Uncomment to view the solution\n",
    "#q3.solution()"
   ]
  },
  {
   "cell_type": "markdown",
   "id": "1855912f",
   "metadata": {
    "papermill": {
     "duration": 0.007622,
     "end_time": "2024-02-23T20:14:02.571279",
     "exception": false,
     "start_time": "2024-02-23T20:14:02.563657",
     "status": "completed"
    },
    "tags": []
   },
   "source": [
    "# Question 4\n",
    "\n",
    "We'll continue our study of boolean arithmetic.  For this question, your task is to provide a description of what happpens when you add booleans. \n",
    "\n",
    "Use the next code cell for your investigation.  Feel free to add or remove any lines of code - use it as your workspace!"
   ]
  },
  {
   "cell_type": "code",
   "execution_count": 9,
   "id": "8218f01e",
   "metadata": {
    "execution": {
     "iopub.execute_input": "2024-02-23T20:14:02.588391Z",
     "iopub.status.busy": "2024-02-23T20:14:02.587784Z",
     "iopub.status.idle": "2024-02-23T20:14:02.593680Z",
     "shell.execute_reply": "2024-02-23T20:14:02.592684Z"
    },
    "papermill": {
     "duration": 0.016552,
     "end_time": "2024-02-23T20:14:02.595710",
     "exception": false,
     "start_time": "2024-02-23T20:14:02.579158",
     "status": "completed"
    },
    "tags": []
   },
   "outputs": [
    {
     "name": "stdout",
     "output_type": "stream",
     "text": [
      "0\n",
      "1\n",
      "1\n",
      "2\n",
      "3\n"
     ]
    }
   ],
   "source": [
    "print(False + False)\n",
    "print(True + False)\n",
    "print(False + True)\n",
    "print(True + True)\n",
    "print(False + True + True + True)"
   ]
  },
  {
   "cell_type": "markdown",
   "id": "45b20660",
   "metadata": {
    "papermill": {
     "duration": 0.006964,
     "end_time": "2024-02-23T20:14:02.610003",
     "exception": false,
     "start_time": "2024-02-23T20:14:02.603039",
     "status": "completed"
    },
    "tags": []
   },
   "source": [
    "Once you have an answer, run the code cell below to see the solution.  Viewing the solution will give you credit for answering the problem."
   ]
  },
  {
   "cell_type": "code",
   "execution_count": 10,
   "id": "c3c9a257",
   "metadata": {
    "execution": {
     "iopub.execute_input": "2024-02-23T20:14:02.627170Z",
     "iopub.status.busy": "2024-02-23T20:14:02.626566Z",
     "iopub.status.idle": "2024-02-23T20:14:02.635062Z",
     "shell.execute_reply": "2024-02-23T20:14:02.634017Z"
    },
    "papermill": {
     "duration": 0.019347,
     "end_time": "2024-02-23T20:14:02.637219",
     "exception": false,
     "start_time": "2024-02-23T20:14:02.617872",
     "status": "completed"
    },
    "tags": []
   },
   "outputs": [
    {
     "data": {
      "application/javascript": [
       "parent.postMessage({\"jupyterEvent\": \"custom.exercise_interaction\", \"data\": {\"outcomeType\": 1, \"valueTowardsCompletion\": 0.2, \"interactionType\": 1, \"questionType\": 4, \"questionId\": \"4_AddingBooleans\", \"learnToolsVersion\": \"0.3.4\", \"failureMessage\": \"\", \"exceptionClass\": \"\", \"trace\": \"\"}}, \"*\")"
      ],
      "text/plain": [
       "<IPython.core.display.Javascript object>"
      ]
     },
     "metadata": {},
     "output_type": "display_data"
    },
    {
     "data": {
      "text/markdown": [
       "<span style=\"color:#33cc33\">Correct:</span> \n",
       "\n",
       "When you add booleans, adding `False` is equivalent to adding 0, and adding `True` is equivalent to adding 1."
      ],
      "text/plain": [
       "Correct: \n",
       "\n",
       "When you add booleans, adding `False` is equivalent to adding 0, and adding `True` is equivalent to adding 1."
      ]
     },
     "metadata": {},
     "output_type": "display_data"
    }
   ],
   "source": [
    "# Check your answer (Run this code cell to receive credit!)\n",
    "q4.check()"
   ]
  },
  {
   "cell_type": "markdown",
   "id": "41977aed",
   "metadata": {
    "papermill": {
     "duration": 0.008171,
     "end_time": "2024-02-23T20:14:02.652876",
     "exception": false,
     "start_time": "2024-02-23T20:14:02.644705",
     "status": "completed"
    },
    "tags": []
   },
   "source": [
    "# 🌶️ Question 5\n",
    "\n",
    "You own an online shop where you sell rings with custom engravings.  You offer both gold plated and solid gold rings.\n",
    "- Gold plated rings have a base cost of \\\\$50, and you charge \\\\$7 per engraved unit.  \n",
    "- Solid gold rings have a base cost of \\\\$100, and you charge \\\\$10 per engraved unit.\n",
    "- Spaces and punctuation are counted as engraved units.\n",
    "\n",
    "Write a function `cost_of_project()` that takes two arguments:\n",
    "- `engraving` - a Python string with the text of the engraving\n",
    "- `solid_gold` - a Boolean that indicates whether the ring is solid gold\n",
    "\n",
    "It should return the cost of the project.  This question should be fairly challenging, and you may need a hint."
   ]
  },
  {
   "cell_type": "code",
   "execution_count": 11,
   "id": "e4699b1c",
   "metadata": {
    "execution": {
     "iopub.execute_input": "2024-02-23T20:14:02.669681Z",
     "iopub.status.busy": "2024-02-23T20:14:02.669317Z",
     "iopub.status.idle": "2024-02-23T20:14:02.678554Z",
     "shell.execute_reply": "2024-02-23T20:14:02.677435Z"
    },
    "papermill": {
     "duration": 0.020285,
     "end_time": "2024-02-23T20:14:02.680884",
     "exception": false,
     "start_time": "2024-02-23T20:14:02.660599",
     "status": "completed"
    },
    "tags": []
   },
   "outputs": [
    {
     "data": {
      "application/javascript": [
       "parent.postMessage({\"jupyterEvent\": \"custom.exercise_interaction\", \"data\": {\"outcomeType\": 1, \"valueTowardsCompletion\": 0.2, \"interactionType\": 1, \"questionType\": 2, \"questionId\": \"5_CustomEngravings\", \"learnToolsVersion\": \"0.3.4\", \"failureMessage\": \"\", \"exceptionClass\": \"\", \"trace\": \"\"}}, \"*\")"
      ],
      "text/plain": [
       "<IPython.core.display.Javascript object>"
      ]
     },
     "metadata": {},
     "output_type": "display_data"
    },
    {
     "data": {
      "text/markdown": [
       "<span style=\"color:#33cc33\">Correct</span>"
      ],
      "text/plain": [
       "Correct"
      ]
     },
     "metadata": {},
     "output_type": "display_data"
    }
   ],
   "source": [
    "def cost_of_project(engraving, solid_gold):\n",
    "    if solid_gold == True:\n",
    "        cost = 10*len(engraving) + 100\n",
    "    else :\n",
    "        cost = 7*len(engraving) + 50\n",
    "    return cost\n",
    "\n",
    "# Check your answer\n",
    "q5.check()"
   ]
  },
  {
   "cell_type": "code",
   "execution_count": 12,
   "id": "cb6d169f",
   "metadata": {
    "execution": {
     "iopub.execute_input": "2024-02-23T20:14:02.698778Z",
     "iopub.status.busy": "2024-02-23T20:14:02.698173Z",
     "iopub.status.idle": "2024-02-23T20:14:02.702230Z",
     "shell.execute_reply": "2024-02-23T20:14:02.701485Z"
    },
    "papermill": {
     "duration": 0.015552,
     "end_time": "2024-02-23T20:14:02.704296",
     "exception": false,
     "start_time": "2024-02-23T20:14:02.688744",
     "status": "completed"
    },
    "tags": []
   },
   "outputs": [],
   "source": [
    "# Uncomment to see a hint\n",
    "#q5.hint()\n",
    "\n",
    "# Uncomment to view the solution\n",
    "#q5.solution()"
   ]
  },
  {
   "cell_type": "markdown",
   "id": "992f22da",
   "metadata": {
    "papermill": {
     "duration": 0.007531,
     "end_time": "2024-02-23T20:14:02.719513",
     "exception": false,
     "start_time": "2024-02-23T20:14:02.711982",
     "status": "completed"
    },
    "tags": []
   },
   "source": [
    "Run the next code cell to calculate the cost of engraving `Charlie+Denver` on a solid gold ring."
   ]
  },
  {
   "cell_type": "code",
   "execution_count": 13,
   "id": "cb999987",
   "metadata": {
    "execution": {
     "iopub.execute_input": "2024-02-23T20:14:02.736943Z",
     "iopub.status.busy": "2024-02-23T20:14:02.736362Z",
     "iopub.status.idle": "2024-02-23T20:14:02.741849Z",
     "shell.execute_reply": "2024-02-23T20:14:02.740638Z"
    },
    "papermill": {
     "duration": 0.016787,
     "end_time": "2024-02-23T20:14:02.743945",
     "exception": false,
     "start_time": "2024-02-23T20:14:02.727158",
     "status": "completed"
    },
    "tags": []
   },
   "outputs": [
    {
     "name": "stdout",
     "output_type": "stream",
     "text": [
      "240\n"
     ]
    }
   ],
   "source": [
    "project_one = cost_of_project(\"Charlie+Denver\", True)\n",
    "print(project_one)"
   ]
  },
  {
   "cell_type": "markdown",
   "id": "22de7dbe",
   "metadata": {
    "papermill": {
     "duration": 0.007513,
     "end_time": "2024-02-23T20:14:02.759306",
     "exception": false,
     "start_time": "2024-02-23T20:14:02.751793",
     "status": "completed"
    },
    "tags": []
   },
   "source": [
    "Use the next code cell to calculate the cost of engraving `08/10/2000` on a gold plated ring."
   ]
  },
  {
   "cell_type": "code",
   "execution_count": 14,
   "id": "26504236",
   "metadata": {
    "execution": {
     "iopub.execute_input": "2024-02-23T20:14:02.776629Z",
     "iopub.status.busy": "2024-02-23T20:14:02.776271Z",
     "iopub.status.idle": "2024-02-23T20:14:02.780891Z",
     "shell.execute_reply": "2024-02-23T20:14:02.779978Z"
    },
    "papermill": {
     "duration": 0.017083,
     "end_time": "2024-02-23T20:14:02.784101",
     "exception": false,
     "start_time": "2024-02-23T20:14:02.767018",
     "status": "completed"
    },
    "tags": []
   },
   "outputs": [
    {
     "name": "stdout",
     "output_type": "stream",
     "text": [
      "120\n"
     ]
    }
   ],
   "source": [
    "project_two = cost_of_project(\"08/10/2000\", False)\n",
    "print(project_two)"
   ]
  },
  {
   "cell_type": "markdown",
   "id": "ee0a625e",
   "metadata": {
    "papermill": {
     "duration": 0.007664,
     "end_time": "2024-02-23T20:14:02.799607",
     "exception": false,
     "start_time": "2024-02-23T20:14:02.791943",
     "status": "completed"
    },
    "tags": []
   },
   "source": [
    "# Keep going\n",
    "\n",
    "Continue to the next lesson to **[learn about conditions and conditional statements](https://www.kaggle.com/alexisbcook/conditions-and-conditional-statements)**."
   ]
  },
  {
   "cell_type": "markdown",
   "id": "6c77ba92",
   "metadata": {
    "papermill": {
     "duration": 0.007562,
     "end_time": "2024-02-23T20:14:02.814976",
     "exception": false,
     "start_time": "2024-02-23T20:14:02.807414",
     "status": "completed"
    },
    "tags": []
   },
   "source": [
    "---\n",
    "\n",
    "\n",
    "\n",
    "\n",
    "*Have questions or comments? Visit the [course discussion forum](https://www.kaggle.com/learn/intro-to-programming/discussion) to chat with other learners.*"
   ]
  }
 ],
 "metadata": {
  "kaggle": {
   "accelerator": "none",
   "dataSources": [],
   "isGpuEnabled": false,
   "isInternetEnabled": false,
   "language": "python",
   "sourceType": "notebook"
  },
  "kernelspec": {
   "display_name": "Python 3",
   "language": "python",
   "name": "python3"
  },
  "language_info": {
   "codemirror_mode": {
    "name": "ipython",
    "version": 3
   },
   "file_extension": ".py",
   "mimetype": "text/x-python",
   "name": "python",
   "nbconvert_exporter": "python",
   "pygments_lexer": "ipython3",
   "version": "3.10.13"
  },
  "papermill": {
   "default_parameters": {},
   "duration": 4.989118,
   "end_time": "2024-02-23T20:14:03.343382",
   "environment_variables": {},
   "exception": null,
   "input_path": "__notebook__.ipynb",
   "output_path": "__notebook__.ipynb",
   "parameters": {},
   "start_time": "2024-02-23T20:13:58.354264",
   "version": "2.3.3"
  }
 },
 "nbformat": 4,
 "nbformat_minor": 5
}
